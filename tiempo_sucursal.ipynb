{
 "cells": [
  {
   "cell_type": "markdown",
   "metadata": {},
   "source": [
    "# Calculo de tiempos promedios de transacciones por sucursal\n",
    "Para este calculo se tomara de referencia las transacciones realizadas por hora y se calculara el tiempo de espera entre cada transaccion."
   ]
  },
  {
   "cell_type": "code",
   "execution_count": 1,
   "metadata": {},
   "outputs": [],
   "source": [
    "import pandas as pd\n",
    "import numpy as np\n",
    "import matplotlib.pyplot as plt"
   ]
  },
  {
   "cell_type": "code",
   "execution_count": 4,
   "metadata": {},
   "outputs": [],
   "source": [
    "df = pd.read_csv('facturas.csv')"
   ]
  },
  {
   "cell_type": "markdown",
   "metadata": {},
   "source": [
    "### Promedio de tiempo inverido en las facturas\n",
    "Puntos a considerar:\n",
    "- Solo tomar la Caja_Id igual a 1\n",
    "- Dividir por numero de sucursal de esta forma nos data un tiempo promedio por sucursal por cada factura\n",
    "- Se tomara como muestra la hora pico es decir la hora donde hay mas facturas\n",
    "- Columna Factura_FechaHora\n",
    "- Columna Factura_Fecha"
   ]
  },
  {
   "cell_type": "code",
   "execution_count": 5,
   "metadata": {},
   "outputs": [
    {
     "name": "stdout",
     "output_type": "stream",
     "text": [
      "1488891\n",
      "305661\n"
     ]
    }
   ],
   "source": [
    "# cantidad de filas\n",
    "print(len(df))\n",
    "# Tomar solo la Caja 1\n",
    "df = df[df['Caja_Id'] == 1]\n",
    "\n",
    "# Tomar solo Emp_Id = 1\n",
    "df = df[df['Emp_Id'] == 1]\n",
    "\n",
    "# cantidad de filas\n",
    "print(len(df))"
   ]
  },
  {
   "cell_type": "code",
   "execution_count": 74,
   "metadata": {},
   "outputs": [],
   "source": [
    "\n",
    "df['Factura_FechaHora'] = pd.to_datetime(df['Factura_FechaHora'], errors='coerce')\n",
    "df_grouped = df.groupby(\n",
    "    [df['Suc_Id'], df['Caja_Id'], df['Factura_Fecha'], df['Factura_FechaHora'].dt.hour]\n",
    ")['Factura_Id'].count().reset_index(name='Cantidad_Facturas')"
   ]
  },
  {
   "cell_type": "code",
   "execution_count": 53,
   "metadata": {},
   "outputs": [
    {
     "name": "stdout",
     "output_type": "stream",
     "text": [
      "       Suc_Id  Caja_Id Factura_Fecha  Factura_FechaHora  Cantidad_Facturas\n",
      "0           1        1     1/10/2024                 13                  1\n",
      "1           1        1     1/10/2024                 14                  1\n",
      "2           1        1     1/10/2024                 15                  2\n",
      "3           1        1     1/10/2024                 19                  1\n",
      "4           1        1    10/10/2024                 11                  2\n",
      "...       ...      ...           ...                ...                ...\n",
      "71055     328        1     9/10/2024                 10                  1\n",
      "71056     328        1     9/10/2024                 15                  1\n",
      "71057     328        1     9/10/2024                 16                  1\n",
      "71058     328        1     9/10/2024                 17                  1\n",
      "71059     328        1     9/10/2024                 18                  1\n",
      "\n",
      "[71060 rows x 5 columns]\n"
     ]
    }
   ],
   "source": [
    "\n",
    "df_grouped.describe()\n",
    "print(df_grouped)"
   ]
  },
  {
   "cell_type": "markdown",
   "metadata": {},
   "source": [
    "### Tiempos promedio de transacciones por sucursal, eliminar los que esten por debajo de la media\n",
    "Puntos a considerar:\n",
    "- Se tomara como muestra la hora pico es decir la hora donde hay mas facturas\n"
   ]
  },
  {
   "cell_type": "code",
   "execution_count": 75,
   "metadata": {},
   "outputs": [
    {
     "name": "stdout",
     "output_type": "stream",
     "text": [
      "       Suc_Id  Caja_Id Factura_Fecha  Factura_FechaHora  Cantidad_Facturas  \\\n",
      "0           1        1     1/10/2024                 13                  1   \n",
      "1           1        1     1/10/2024                 14                  1   \n",
      "2           1        1     1/10/2024                 15                  2   \n",
      "3           1        1     1/10/2024                 19                  1   \n",
      "4           1        1    10/10/2024                 11                  2   \n",
      "...       ...      ...           ...                ...                ...   \n",
      "71055     328        1     9/10/2024                 10                  1   \n",
      "71056     328        1     9/10/2024                 15                  1   \n",
      "71057     328        1     9/10/2024                 16                  1   \n",
      "71058     328        1     9/10/2024                 17                  1   \n",
      "71059     328        1     9/10/2024                 18                  1   \n",
      "\n",
      "       value  \n",
      "0       1.85  \n",
      "1       1.85  \n",
      "2       1.85  \n",
      "3       1.85  \n",
      "4       2.00  \n",
      "...      ...  \n",
      "71055   1.00  \n",
      "71056   1.00  \n",
      "71057   1.00  \n",
      "71058   1.00  \n",
      "71059   1.00  \n",
      "\n",
      "[71060 rows x 6 columns]\n",
      "       Suc_Id  Caja_Id Factura_Fecha  Factura_FechaHora  Cantidad_Facturas  \\\n",
      "2           1        1     1/10/2024                 15                  2   \n",
      "22          1        1    18/10/2024                 11                  2   \n",
      "27          1        1     2/10/2024                 13                  5   \n",
      "35          1        1    22/10/2024                  8                  2   \n",
      "51          1        1    27/10/2024                  8                  2   \n",
      "...       ...      ...           ...                ...                ...   \n",
      "70974     327        1     4/10/2024                 14                  9   \n",
      "70979     327        1     5/10/2024                  9                  3   \n",
      "71020     327        1     9/10/2024                 18                 11   \n",
      "71033     328        1    18/10/2024                 17                  3   \n",
      "71042     328        1    23/10/2024                 16                  7   \n",
      "\n",
      "       value  \n",
      "2       1.85  \n",
      "22      1.95  \n",
      "27      4.40  \n",
      "35      1.90  \n",
      "51      1.90  \n",
      "...      ...  \n",
      "70974   8.60  \n",
      "70979   2.75  \n",
      "71020  10.60  \n",
      "71033   2.70  \n",
      "71042   6.10  \n",
      "\n",
      "[5742 rows x 6 columns]\n"
     ]
    }
   ],
   "source": [
    "# Calcular los valores mas altos los que esten por encima del 80% de cantidad de facturas por hora en cada sucursal, caja y fecha\n",
    "df_grouped['value'] = df_grouped.groupby(['Suc_Id', 'Caja_Id', 'Factura_Fecha'])['Cantidad_Facturas'].transform(\n",
    "    lambda x: x.quantile(0.95))\n",
    "print(df_grouped)\n",
    "\n",
    "df_grouped = df_grouped[df_grouped['Cantidad_Facturas'] > df_grouped['value']]\n",
    "print(df_grouped)\n",
    "\n",
    "\n"
   ]
  },
  {
   "cell_type": "code",
   "execution_count": 76,
   "metadata": {},
   "outputs": [
    {
     "data": {
      "text/html": [
       "<div>\n",
       "<style scoped>\n",
       "    .dataframe tbody tr th:only-of-type {\n",
       "        vertical-align: middle;\n",
       "    }\n",
       "\n",
       "    .dataframe tbody tr th {\n",
       "        vertical-align: top;\n",
       "    }\n",
       "\n",
       "    .dataframe thead th {\n",
       "        text-align: right;\n",
       "    }\n",
       "</style>\n",
       "<table border=\"1\" class=\"dataframe\">\n",
       "  <thead>\n",
       "    <tr style=\"text-align: right;\">\n",
       "      <th></th>\n",
       "      <th>Suc_Id</th>\n",
       "      <th>Caja_Id</th>\n",
       "      <th>Factura_FechaHora</th>\n",
       "      <th>Cantidad_Facturas</th>\n",
       "      <th>value</th>\n",
       "    </tr>\n",
       "  </thead>\n",
       "  <tbody>\n",
       "    <tr>\n",
       "      <th>count</th>\n",
       "      <td>5742.000000</td>\n",
       "      <td>5742.0</td>\n",
       "      <td>5742.000000</td>\n",
       "      <td>5742.000000</td>\n",
       "      <td>5742.000000</td>\n",
       "    </tr>\n",
       "    <tr>\n",
       "      <th>mean</th>\n",
       "      <td>153.974922</td>\n",
       "      <td>1.0</td>\n",
       "      <td>14.053988</td>\n",
       "      <td>9.079415</td>\n",
       "      <td>8.032393</td>\n",
       "    </tr>\n",
       "    <tr>\n",
       "      <th>std</th>\n",
       "      <td>93.285036</td>\n",
       "      <td>0.0</td>\n",
       "      <td>3.911921</td>\n",
       "      <td>4.444274</td>\n",
       "      <td>3.894986</td>\n",
       "    </tr>\n",
       "    <tr>\n",
       "      <th>min</th>\n",
       "      <td>1.000000</td>\n",
       "      <td>1.0</td>\n",
       "      <td>0.000000</td>\n",
       "      <td>2.000000</td>\n",
       "      <td>1.600000</td>\n",
       "    </tr>\n",
       "    <tr>\n",
       "      <th>25%</th>\n",
       "      <td>75.000000</td>\n",
       "      <td>1.0</td>\n",
       "      <td>11.000000</td>\n",
       "      <td>6.000000</td>\n",
       "      <td>5.500000</td>\n",
       "    </tr>\n",
       "    <tr>\n",
       "      <th>50%</th>\n",
       "      <td>147.000000</td>\n",
       "      <td>1.0</td>\n",
       "      <td>14.000000</td>\n",
       "      <td>8.000000</td>\n",
       "      <td>7.400000</td>\n",
       "    </tr>\n",
       "    <tr>\n",
       "      <th>75%</th>\n",
       "      <td>240.000000</td>\n",
       "      <td>1.0</td>\n",
       "      <td>17.000000</td>\n",
       "      <td>11.000000</td>\n",
       "      <td>9.800000</td>\n",
       "    </tr>\n",
       "    <tr>\n",
       "      <th>max</th>\n",
       "      <td>328.000000</td>\n",
       "      <td>1.0</td>\n",
       "      <td>23.000000</td>\n",
       "      <td>47.000000</td>\n",
       "      <td>43.800000</td>\n",
       "    </tr>\n",
       "  </tbody>\n",
       "</table>\n",
       "</div>"
      ],
      "text/plain": [
       "            Suc_Id  Caja_Id  Factura_FechaHora  Cantidad_Facturas        value\n",
       "count  5742.000000   5742.0        5742.000000        5742.000000  5742.000000\n",
       "mean    153.974922      1.0          14.053988           9.079415     8.032393\n",
       "std      93.285036      0.0           3.911921           4.444274     3.894986\n",
       "min       1.000000      1.0           0.000000           2.000000     1.600000\n",
       "25%      75.000000      1.0          11.000000           6.000000     5.500000\n",
       "50%     147.000000      1.0          14.000000           8.000000     7.400000\n",
       "75%     240.000000      1.0          17.000000          11.000000     9.800000\n",
       "max     328.000000      1.0          23.000000          47.000000    43.800000"
      ]
     },
     "execution_count": 76,
     "metadata": {},
     "output_type": "execute_result"
    }
   ],
   "source": [
    "df_grouped.describe()"
   ]
  },
  {
   "cell_type": "code",
   "execution_count": 77,
   "metadata": {},
   "outputs": [
    {
     "name": "stdout",
     "output_type": "stream",
     "text": [
      "     Suc_Id  Mediana_Facturas_Hora\n",
      "0         1                    2.5\n",
      "1         2                    5.0\n",
      "2         3                   11.0\n",
      "3         4                    8.5\n",
      "4         5                   10.0\n",
      "..      ...                    ...\n",
      "282     324                    4.0\n",
      "283     325                    4.0\n",
      "284     326                    7.0\n",
      "285     327                    8.0\n",
      "286     328                    5.0\n",
      "\n",
      "[287 rows x 2 columns]\n"
     ]
    }
   ],
   "source": [
    "# Agrupar por sucursal y hora, y calcular la mediana de la cantidad de facturas por hora\n",
    "mediana_por_sucursal = df_grouped.groupby(['Suc_Id'])['Cantidad_Facturas'].median().reset_index()\n",
    "\n",
    "# Renombrar la columna para mayor claridad\n",
    "mediana_por_sucursal.rename(columns={'Cantidad_Facturas': 'Mediana_Facturas_Hora'}, inplace=True)\n",
    "\n",
    "print(mediana_por_sucursal)\n"
   ]
  },
  {
   "cell_type": "code",
   "execution_count": 78,
   "metadata": {},
   "outputs": [
    {
     "data": {
      "text/html": [
       "<div>\n",
       "<style scoped>\n",
       "    .dataframe tbody tr th:only-of-type {\n",
       "        vertical-align: middle;\n",
       "    }\n",
       "\n",
       "    .dataframe tbody tr th {\n",
       "        vertical-align: top;\n",
       "    }\n",
       "\n",
       "    .dataframe thead th {\n",
       "        text-align: right;\n",
       "    }\n",
       "</style>\n",
       "<table border=\"1\" class=\"dataframe\">\n",
       "  <thead>\n",
       "    <tr style=\"text-align: right;\">\n",
       "      <th></th>\n",
       "      <th>Suc_Id</th>\n",
       "      <th>Mediana_Facturas_Hora</th>\n",
       "    </tr>\n",
       "  </thead>\n",
       "  <tbody>\n",
       "    <tr>\n",
       "      <th>count</th>\n",
       "      <td>287.000000</td>\n",
       "      <td>287.000000</td>\n",
       "    </tr>\n",
       "    <tr>\n",
       "      <th>mean</th>\n",
       "      <td>155.470383</td>\n",
       "      <td>8.385017</td>\n",
       "    </tr>\n",
       "    <tr>\n",
       "      <th>std</th>\n",
       "      <td>93.941127</td>\n",
       "      <td>3.305381</td>\n",
       "    </tr>\n",
       "    <tr>\n",
       "      <th>min</th>\n",
       "      <td>1.000000</td>\n",
       "      <td>2.000000</td>\n",
       "    </tr>\n",
       "    <tr>\n",
       "      <th>25%</th>\n",
       "      <td>75.500000</td>\n",
       "      <td>6.000000</td>\n",
       "    </tr>\n",
       "    <tr>\n",
       "      <th>50%</th>\n",
       "      <td>150.000000</td>\n",
       "      <td>8.000000</td>\n",
       "    </tr>\n",
       "    <tr>\n",
       "      <th>75%</th>\n",
       "      <td>240.500000</td>\n",
       "      <td>10.000000</td>\n",
       "    </tr>\n",
       "    <tr>\n",
       "      <th>max</th>\n",
       "      <td>328.000000</td>\n",
       "      <td>28.000000</td>\n",
       "    </tr>\n",
       "  </tbody>\n",
       "</table>\n",
       "</div>"
      ],
      "text/plain": [
       "           Suc_Id  Mediana_Facturas_Hora\n",
       "count  287.000000             287.000000\n",
       "mean   155.470383               8.385017\n",
       "std     93.941127               3.305381\n",
       "min      1.000000               2.000000\n",
       "25%     75.500000               6.000000\n",
       "50%    150.000000               8.000000\n",
       "75%    240.500000              10.000000\n",
       "max    328.000000              28.000000"
      ]
     },
     "execution_count": 78,
     "metadata": {},
     "output_type": "execute_result"
    }
   ],
   "source": [
    "mediana_por_sucursal.describe()"
   ]
  },
  {
   "cell_type": "code",
   "execution_count": 1,
   "metadata": {},
   "outputs": [
    {
     "name": "stdout",
     "output_type": "stream",
     "text": [
      "Tiempo promedio TP: 11.09 minutos\n",
      "Tiempo promedio TE: 10.75 minutos\n"
     ]
    }
   ],
   "source": [
    "import pandas as pd\n",
    "\n",
    "# Datos\n",
    "data = [\n",
    "    [\"KIELSA CLINICA TP SIN PLAN\", \"003-003-01-00071998\", \"6:43:00 AM\", \"6:58:00 AM\", \"12:15:00 AM\"],\n",
    "    [\"KIELSA CLINICA TE SIN PLAN\", \"003-005-01-00045772\", \"12:00:00 AM\", \"12:00:00 AM\", \"12:00:00 AM\"],\n",
    "    [\"KIELSA CLINICA TE SIN PLAN\", \"003-003-01-00072118\", \"9:35:00 AM\", \"9:40:00 AM\", \"12:05:00 AM\"],\n",
    "    [\"KIELSA CLINICA TP SIN PLAN\", \"003-003-06-00008091\", \"2:10:00 AM\", \"2:15:00 AM\", \"12:05:00 AM\"],\n",
    "    [\"KIELSA CLINICA TP SIN PLAN\", \"003-003-01-00072172\", \"2:10:00 AM\", \"2:17:00 AM\", \"12:07:00 AM\"],\n",
    "    [\"KIELSA CLINICA TP SIN PLAN\", \"003-005-01-00045988\", \"10:49:00 AM\", \"10:56:00 AM\", \"12:07:00 AM\"],\n",
    "    [\"KIELSA CLINICA TP SIN PLAN\", \"003-005-01-00046127\", \"5:39:00 AM\", \"5:42:00 AM\", \"12:03:00 AM\"],\n",
    "    [\"KIELSA CLINICA TE SIN PLAN\", \"003-003-01-00072646\", \"7:36:00 AM\", \"7:54:00 AM\", \"12:18:00 AM\"],\n",
    "    [\"KIELSA CLINICA TP SIN PLAN\", \"003-003-01-00072685\", \"5:51:00 AM\", \"6:17:00 AM\", \"12:26:00 AM\"],\n",
    "    [\"KIELSA CLINICA TP SIN PLAN\", \"003-005-01-00046219\", \"11:50:00 AM\", \"12:03:00 PM\", \"12:13:00 AM\"],\n",
    "    [\"KIELSA CLINICA TP SIN PLAN\", \"003-003-01-00072761\", \"5:28:00 AM\", \"5:52:00 AM\", \"12:24:00 AM\"],\n",
    "    [\"KIELSA CLINICA TE SIN PLAN\", \"003-005-01-00046250\", \"5:43:00 AM\", \"6:03:00 AM\", \"12:20:00 AM\"],\n",
    "    [\"KIELSA CLINICA TP SIN PLAN\", \"003-003-01-00072796\", \"7:30:00 AM\", \"7:37:00 AM\", \"12:07:00 AM\"],\n",
    "    [\"KIELSA CLINICA TP SIN PLAN\", \"003-005-01-00046478\", \"4:58:00 AM\", \"5:07:00 AM\", \"12:09:00 AM\"],\n",
    "    [\"KIELSA CLINICA TP SIN PLAN\", \"003-005-01-00046515\", \"9:28:00 AM\", \"9:34:00 AM\", \"12:06:00 AM\"],\n",
    "]\n",
    "\n",
    "# Crear DataFrame\n",
    "df = pd.DataFrame(data, columns=[\"Type\", \"Code\", \"StartTime\", \"EndTime\", \"OtherTime\"])\n",
    "\n",
    "# Convertir horas a formato datetime y calcular duraciones\n",
    "df[\"StartTime\"] = pd.to_datetime(df[\"StartTime\"], format=\"%I:%M:%S %p\")\n",
    "df[\"EndTime\"] = pd.to_datetime(df[\"EndTime\"], format=\"%I:%M:%S %p\")\n",
    "df[\"Duration\"] = (df[\"EndTime\"] - df[\"StartTime\"]).dt.total_seconds() / 60  # Duración en minutos\n",
    "\n",
    "# Separar TP y TE\n",
    "tp = df[df[\"Type\"].str.contains(\"TP\")]\n",
    "te = df[df[\"Type\"].str.contains(\"TE\")]\n",
    "\n",
    "# Calcular tiempo promedio\n",
    "tp_avg = tp[\"Duration\"].mean()\n",
    "te_avg = te[\"Duration\"].mean()\n",
    "\n",
    "# Resultados\n",
    "print(f\"Tiempo promedio TP: {tp_avg:.2f} minutos\")\n",
    "print(f\"Tiempo promedio TE: {te_avg:.2f} minutos\")"
   ]
  }
 ],
 "metadata": {
  "kernelspec": {
   "display_name": "Python 3",
   "language": "python",
   "name": "python3"
  },
  "language_info": {
   "codemirror_mode": {
    "name": "ipython",
    "version": 3
   },
   "file_extension": ".py",
   "mimetype": "text/x-python",
   "name": "python",
   "nbconvert_exporter": "python",
   "pygments_lexer": "ipython3",
   "version": "3.8.10"
  }
 },
 "nbformat": 4,
 "nbformat_minor": 2
}
