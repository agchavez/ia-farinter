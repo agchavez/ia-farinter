{
 "cells": [
  {
   "cell_type": "markdown",
   "metadata": {},
   "source": [
    "# Modelo de machine learning para predecir cantidad de personal necesario (Regresion Polinomial)\n",
    "En este documento se presenta un modelo de machine learning para predecir la cantidad de personal necesario en una empresa. El modelo se basa en una regresión polinomial y se implementa en Python."
   ]
  },
  {
   "cell_type": "code",
   "execution_count": 1,
   "metadata": {},
   "outputs": [],
   "source": [
    "# Librerias\n",
    "import pandas as pd\n",
    "import numpy as np\n",
    "from sklearn.model_selection import train_test_split\n",
    "from sklearn.ensemble import RandomForestRegressor\n",
    "from sklearn.metrics import mean_squared_error\n",
    "\n",
    "from sklearn.linear_model import LinearRegression"
   ]
  },
  {
   "cell_type": "code",
   "execution_count": 2,
   "metadata": {},
   "outputs": [],
   "source": [
    "# Cagar datos\n",
    "df = pd.read_csv('personal_necesario.csv')"
   ]
  },
  {
   "cell_type": "code",
   "execution_count": 3,
   "metadata": {},
   "outputs": [],
   "source": [
    "# Eliminar columnas que no se usaran\n",
    "# Seleccionar las características relevantes\n",
    "features = ['Suc_Id', 'Dia_Semana', 'Hora', 'Cantidad_Transacciones', 'Personal_Necesario']\n",
    "df = df[features]"
   ]
  },
  {
   "cell_type": "code",
   "execution_count": 4,
   "metadata": {},
   "outputs": [
    {
     "name": "stdout",
     "output_type": "stream",
     "text": [
      "(118249, 4)\n"
     ]
    }
   ],
   "source": [
    "X = df[['Suc_Id', 'Dia_Semana', 'Hora', 'Cantidad_Transacciones']]\n",
    "y = df['Personal_Necesario']\n",
    "# cantidad de datos\n",
    "print(X.shape)\n",
    "X_train, X_test, y_train, y_test = train_test_split(X, y, test_size=0.2, random_state=42)"
   ]
  },
  {
   "cell_type": "code",
   "execution_count": 5,
   "metadata": {},
   "outputs": [
    {
     "name": "stdout",
     "output_type": "stream",
     "text": [
      "Error cuadrático medio (MSE): 1.4498942917547564e-05\n"
     ]
    }
   ],
   "source": [
    "\n",
    "\n",
    "# Creación del modelo y entrenamiento\n",
    "model = RandomForestRegressor(n_estimators=100, random_state=42)\n",
    "model.fit(X_train, y_train)\n",
    "\n",
    "# Hacer predicciones\n",
    "y_pred = model.predict(X_test)\n",
    "\n",
    "# Evaluación del modelo\n",
    "mse = mean_squared_error(y_test, y_pred)\n",
    "print(f'Error cuadrático medio (MSE): {mse}')\n"
   ]
  },
  {
   "cell_type": "code",
   "execution_count": 6,
   "metadata": {},
   "outputs": [
    {
     "name": "stdout",
     "output_type": "stream",
     "text": [
      "       Suc_Id  Dia_Semana  Hora  Cantidad_Transacciones  \\\n",
      "72625     183           5    11                       8   \n",
      "7623       20           5     8                       4   \n",
      "96942     260           5    16                      13   \n",
      "64150     162           3    11                       6   \n",
      "64090     162           2    11                       4   \n",
      "\n",
      "       Personal_Necesario_Real  Personal_Necesario_Predicho  \n",
      "72625                      1.0                          1.0  \n",
      "7623                       1.0                          1.0  \n",
      "96942                      2.0                          2.0  \n",
      "64150                      1.0                          1.0  \n",
      "64090                      1.0                          1.0  \n"
     ]
    }
   ],
   "source": [
    "# Crear un DataFrame para comparar valores reales vs. predichos\n",
    "df_result = X_test.copy()\n",
    "df_result['Personal_Necesario_Real'] = y_test\n",
    "df_result['Personal_Necesario_Predicho'] = y_pred\n",
    "print(df_result.head())\n",
    "\n"
   ]
  },
  {
   "cell_type": "code",
   "execution_count": null,
   "metadata": {},
   "outputs": [
    {
     "name": "stdout",
     "output_type": "stream",
     "text": [
      "Predicción de personal necesario para los datos nuevos: [4.]\n"
     ]
    },
    {
     "name": "stderr",
     "output_type": "stream",
     "text": [
      "c:\\Program Files\\Python38\\lib\\site-packages\\sklearn\\base.py:465: UserWarning: X does not have valid feature names, but RandomForestRegressor was fitted with feature names\n",
      "  warnings.warn(\n"
     ]
    }
   ],
   "source": [
    "# Función para hacer predicciones con el modelo entrenado\n",
    "def predecir_personal_necesario(model, datos_nuevos):\n",
    "    \"\"\"\n",
    "    Realiza predicciones de la cantidad de personal necesario con el modelo entrenado.\n",
    "    \n",
    "    Args:\n",
    "    - model: Modelo entrenado de RandomForestRegressor.\n",
    "    - datos_nuevos (DataFrame o array-like): Datos de entrada con las mismas columnas que se usaron para el entrenamiento.\n",
    "\n",
    "    Returns:\n",
    "    - predicciones: Array con las predicciones de personal necesario.\n",
    "    \"\"\"\n",
    "    predicciones = model.predict(datos_nuevos)\n",
    "    return predicciones\n",
    "\n",
    "datos_nuevos = [[79, 7, 15, 30]]  \n",
    "predicciones = predecir_personal_necesario(model, datos_nuevos)\n",
    "print(\"Predicción de personal necesario para los datos nuevos:\", predicciones)"
   ]
  },
  {
   "cell_type": "markdown",
   "metadata": {},
   "source": []
  }
 ],
 "metadata": {
  "kernelspec": {
   "display_name": "Python 3",
   "language": "python",
   "name": "python3"
  },
  "language_info": {
   "codemirror_mode": {
    "name": "ipython",
    "version": 3
   },
   "file_extension": ".py",
   "mimetype": "text/x-python",
   "name": "python",
   "nbconvert_exporter": "python",
   "pygments_lexer": "ipython3",
   "version": "3.8.10"
  }
 },
 "nbformat": 4,
 "nbformat_minor": 2
}
