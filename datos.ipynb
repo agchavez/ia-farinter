{
 "cells": [
  {
   "cell_type": "code",
   "execution_count": 2,
   "metadata": {},
   "outputs": [],
   "source": [
    "import pandas as pd\n",
    "import numpy as np\n",
    "import matplotlib.pyplot as plt\n",
    "\n",
    "# Cargar el archivo CSV\n",
    "df = pd.read_csv('facturas.csv')"
   ]
  },
  {
   "cell_type": "code",
   "execution_count": 3,
   "metadata": {},
   "outputs": [
    {
     "name": "stderr",
     "output_type": "stream",
     "text": [
      "C:\\Users\\angel\\AppData\\Local\\Temp\\ipykernel_12424\\289794131.py:2: UserWarning: Could not infer format, so each element will be parsed individually, falling back to `dateutil`. To ensure parsing is consistent and as-expected, please specify a format.\n",
      "  df['Factura_FechaHora'] = pd.to_datetime(df['Factura_FechaHora'], errors='coerce')\n"
     ]
    },
    {
     "name": "stdout",
     "output_type": "stream",
     "text": [
      "        Suc_Id  Dia_Semana  Hora Factura_Fecha  Cantidad_Transacciones  \\\n",
      "0            1           1     7    2024-10-21                       5   \n",
      "1            1           1     7    2024-10-28                       3   \n",
      "2            1           1     8    2024-10-07                       2   \n",
      "3            1           1     8    2024-10-14                       1   \n",
      "4            1           1     8    2024-10-21                       1   \n",
      "...        ...         ...   ...           ...                     ...   \n",
      "118244     328           7    18    2024-10-27                       1   \n",
      "118245     328           7    19    2024-10-13                       2   \n",
      "118246     328           7    19    2024-10-20                       1   \n",
      "118247     328           7    20    2024-10-13                       2   \n",
      "118248     328           7    20    2024-10-20                       3   \n",
      "\n",
      "        Cajas_Activas  \n",
      "0                   2  \n",
      "1                   2  \n",
      "2                   2  \n",
      "3                   2  \n",
      "4                   2  \n",
      "...               ...  \n",
      "118244              4  \n",
      "118245              4  \n",
      "118246              4  \n",
      "118247              4  \n",
      "118248              4  \n",
      "\n",
      "[118249 rows x 6 columns]\n"
     ]
    }
   ],
   "source": [
    "# Asegurarse de que la columna 'Factura_FechaHora' sea de tipo datetime\n",
    "df['Factura_FechaHora'] = pd.to_datetime(df['Factura_FechaHora'], errors='coerce')\n",
    "df['Factura_Fecha'] = pd.to_datetime(df['Factura_Fecha'], errors='coerce', format='%d/%m/%Y')\n",
    "\n",
    "# solo tomar en cuenata Emp_Id = 1\n",
    "df = df[df['Emp_Id'] == 1]\n",
    "\n",
    "# Seleccionar las características relevantes\n",
    "features = ['Factura_FechaHora', 'Suc_Id', 'Caja_Id', 'TipoDoc_Id', 'Factura_Estado', 'Factura_Fecha']\n",
    "df = df[features]\n",
    "\n",
    "# Crear nuevas características a partir de 'Factura_FechaHora'\n",
    "df['Hora'] = df['Factura_FechaHora'].dt.hour\n",
    "df['Dia_Semana'] = df['Factura_Fecha'].dt.dayofweek  + 1\n",
    "\n",
    "# Eliminar la columna 'Factura_FechaHora' y 'Factura_Fecha'\n",
    "df = df.drop(columns=['Factura_FechaHora'])\n",
    "\n",
    "# Calcular la cantidad de transacciones que un empleado puede manejar en una hora\n",
    "transacciones_por_hora = 42 / 4.8 \n",
    "\n",
    "# Agrupar por sucursal, día de la semana y hora para obtener el número de transacciones\n",
    "df_grouped = df.groupby(['Suc_Id', 'Dia_Semana', 'Hora', 'Factura_Fecha']).size().reset_index(name='Cantidad_Transacciones')\n",
    "\n",
    "# Calcular el número de cajas activas por sucursal\n",
    "cajas_activas = df.groupby(['Suc_Id', 'Caja_Id']).size().reset_index().groupby('Suc_Id').size().reset_index(name='Cajas_Activas')\n",
    "\n",
    "# Unir el DataFrame de cajas activas con el DataFrame agrupado\n",
    "df_grouped = df_grouped.merge(cajas_activas, on='Suc_Id')\n",
    "\n",
    "\n",
    "# Mostrar el DataFrame agrupado\n",
    "print(df_grouped)"
   ]
  },
  {
   "cell_type": "code",
   "execution_count": 64,
   "metadata": {},
   "outputs": [
    {
     "name": "stdout",
     "output_type": "stream",
     "text": [
      "[1 2 3 4 5 6 7]\n"
     ]
    }
   ],
   "source": [
    "# que dias de la semana hay en el dataset\n",
    "print(df_grouped['Dia_Semana'].unique())"
   ]
  },
  {
   "cell_type": "markdown",
   "metadata": {},
   "source": [
    "### Personal necesario\n",
    "Este dato sera en base a la cantidad de transacciones por hora"
   ]
  },
  {
   "cell_type": "code",
   "execution_count": null,
   "metadata": {},
   "outputs": [
    {
     "name": "stdout",
     "output_type": "stream",
     "text": [
      "        Suc_Id  Dia_Semana  Hora Factura_Fecha  Cantidad_Transacciones  \\\n",
      "0            1           1     7    2024-10-21                       5   \n",
      "1            1           1     7    2024-10-28                       3   \n",
      "2            1           1     8    2024-10-07                       2   \n",
      "3            1           1     8    2024-10-14                       1   \n",
      "4            1           1     8    2024-10-21                       1   \n",
      "...        ...         ...   ...           ...                     ...   \n",
      "118244     328           7    18    2024-10-27                       1   \n",
      "118245     328           7    19    2024-10-13                       2   \n",
      "118246     328           7    19    2024-10-20                       1   \n",
      "118247     328           7    20    2024-10-13                       2   \n",
      "118248     328           7    20    2024-10-20                       3   \n",
      "\n",
      "        Cajas_Activas  Personal_Necesario  \n",
      "0                   2                 1.0  \n",
      "1                   2                 1.0  \n",
      "2                   2                 1.0  \n",
      "3                   2                 1.0  \n",
      "4                   2                 1.0  \n",
      "...               ...                 ...  \n",
      "118244              4                 1.0  \n",
      "118245              4                 1.0  \n",
      "118246              4                 1.0  \n",
      "118247              4                 1.0  \n",
      "118248              4                 1.0  \n",
      "\n",
      "[118249 rows x 7 columns]\n"
     ]
    }
   ],
   "source": [
    "# Calcular la cantidad de personal necesario basado en las transacciones esperadas\n",
    "df_grouped['Personal_Necesario'] = df_grouped['Cantidad_Transacciones'] / transacciones_por_hora\n",
    "df_grouped['Personal_Necesario'] = np.ceil(df_grouped['Personal_Necesario'])  # Redondear hacia arriba\n",
    "print(df_grouped)\n"
   ]
  },
  {
   "cell_type": "code",
   "execution_count": 73,
   "metadata": {},
   "outputs": [
    {
     "name": "stdout",
     "output_type": "stream",
     "text": [
      "{0: 14, 1: 4, 2: 1, 3: 3, 4: 3, 5: 3, 6: 4, 7: 13, 8: 6, 9: 10, 10: 6, 11: 13, 12: 19, 13: 14, 14: 10, 15: 8, 16: 4, 17: 8, 18: 11, 19: 18, 20: 3, 21: 12, 22: 8, 23: 7}\n"
     ]
    }
   ],
   "source": [
    "\n",
    "\n",
    "\n",
    "# sacar una fila del dia martes de la sucursal 3 y darme un json de las ventas por hora de esta forma simila: transacciones_por_hora = {\n",
    "#     0: 10, 1: 5, 2: 3, 3: 2, 4: 1, 5: 1, 6: 2, 7: 12, 8: 4, 9: 15, 10: 14, 11: 12,\n",
    "#     12: 3, 13: 11, 14: 23, 15: 1, 16: 31, 17: 12, 18: 31, 19: 12, 20: 33, 21: 12, 22: 12, 23: 5\n",
    "# } Factura_Fecha  = 10 de octubre de 2024\n",
    "df_grouped_day = df_grouped[(df_grouped['Suc_Id'] == 3) & (df_grouped['Factura_Fecha'] == '2024-10-10')]\n",
    "\n",
    "# guardar en un json data.json\n",
    "df_grouped_day.to_json('data.json', orient='records')\n",
    "\n",
    "transacciones_por_hora = df_grouped_day.groupby('Hora')['Cantidad_Transacciones'].sum()\n",
    "transacciones_por_hora = transacciones_por_hora.to_dict()\n",
    "\n",
    "print(transacciones_por_hora)"
   ]
  },
  {
   "cell_type": "code",
   "execution_count": 74,
   "metadata": {},
   "outputs": [
    {
     "name": "stdout",
     "output_type": "stream",
     "text": [
      "22\n"
     ]
    }
   ],
   "source": [
    "# para la sucursal 3, cual es el numero maximo de transacciones que se han realizado en una hora el dia de semana 4\n",
    "df_grouped_max = df_grouped[(df_grouped['Suc_Id'] == 3) & (df_grouped['Dia_Semana'] == 4)]\n",
    "max_transacciones = df_grouped_max['Cantidad_Transacciones'].max()\n",
    "print(max_transacciones)"
   ]
  },
  {
   "cell_type": "code",
   "execution_count": null,
   "metadata": {},
   "outputs": [],
   "source": []
  }
 ],
 "metadata": {
  "kernelspec": {
   "display_name": "Python 3",
   "language": "python",
   "name": "python3"
  },
  "language_info": {
   "codemirror_mode": {
    "name": "ipython",
    "version": 3
   },
   "file_extension": ".py",
   "mimetype": "text/x-python",
   "name": "python",
   "nbconvert_exporter": "python",
   "pygments_lexer": "ipython3",
   "version": "3.9.0"
  }
 },
 "nbformat": 4,
 "nbformat_minor": 2
}
