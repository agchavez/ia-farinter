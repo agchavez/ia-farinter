{
 "cells": [
  {
   "cell_type": "markdown",
   "metadata": {},
   "source": [
    "# Modelo de machine learning para predecir cantidad de personal necesario (Regresion Lineal)\n",
    "Para este problema se propone un modelo de machine learning que predice la cantidad de personal necesaria en una empresa de servicios de Farmacias. El modelo se basa en un dataset que contiene información sobre la cantidad de transacciones realizadas en la farmacia, la cantidad de personal que trabajó en la farmacia y la cantidad de personal que se necesitó para atender a los clientes."
   ]
  },
  {
   "cell_type": "code",
   "execution_count": 16,
   "metadata": {},
   "outputs": [],
   "source": [
    "import pandas as pd\n",
    "import numpy as np\n",
    "from sklearn.model_selection import train_test_split\n",
    "from sklearn.linear_model import LinearRegression\n",
    "from sklearn.metrics import mean_squared_error\n",
    "import matplotlib.pyplot as plt\n",
    "\n",
    "# Cargar el archivo CSV con las columnas relevantes\n",
    "df = pd.read_csv('personal_necesario.csv')"
   ]
  },
  {
   "cell_type": "code",
   "execution_count": 17,
   "metadata": {},
   "outputs": [
    {
     "data": {
      "text/html": [
       "<div>\n",
       "<style scoped>\n",
       "    .dataframe tbody tr th:only-of-type {\n",
       "        vertical-align: middle;\n",
       "    }\n",
       "\n",
       "    .dataframe tbody tr th {\n",
       "        vertical-align: top;\n",
       "    }\n",
       "\n",
       "    .dataframe thead th {\n",
       "        text-align: right;\n",
       "    }\n",
       "</style>\n",
       "<table border=\"1\" class=\"dataframe\">\n",
       "  <thead>\n",
       "    <tr style=\"text-align: right;\">\n",
       "      <th></th>\n",
       "      <th>Suc_Id</th>\n",
       "      <th>Dia_Semana</th>\n",
       "      <th>Hora</th>\n",
       "      <th>Factura_Fecha</th>\n",
       "      <th>Cantidad_Transacciones</th>\n",
       "      <th>Cajas_Activas</th>\n",
       "      <th>Personal_Necesario</th>\n",
       "    </tr>\n",
       "  </thead>\n",
       "  <tbody>\n",
       "    <tr>\n",
       "      <th>0</th>\n",
       "      <td>1</td>\n",
       "      <td>1</td>\n",
       "      <td>7</td>\n",
       "      <td>2024-10-21</td>\n",
       "      <td>5</td>\n",
       "      <td>2</td>\n",
       "      <td>1.0</td>\n",
       "    </tr>\n",
       "    <tr>\n",
       "      <th>1</th>\n",
       "      <td>1</td>\n",
       "      <td>1</td>\n",
       "      <td>7</td>\n",
       "      <td>2024-10-28</td>\n",
       "      <td>3</td>\n",
       "      <td>2</td>\n",
       "      <td>1.0</td>\n",
       "    </tr>\n",
       "    <tr>\n",
       "      <th>2</th>\n",
       "      <td>1</td>\n",
       "      <td>1</td>\n",
       "      <td>8</td>\n",
       "      <td>2024-10-07</td>\n",
       "      <td>2</td>\n",
       "      <td>2</td>\n",
       "      <td>1.0</td>\n",
       "    </tr>\n",
       "    <tr>\n",
       "      <th>3</th>\n",
       "      <td>1</td>\n",
       "      <td>1</td>\n",
       "      <td>8</td>\n",
       "      <td>2024-10-14</td>\n",
       "      <td>1</td>\n",
       "      <td>2</td>\n",
       "      <td>1.0</td>\n",
       "    </tr>\n",
       "    <tr>\n",
       "      <th>4</th>\n",
       "      <td>1</td>\n",
       "      <td>1</td>\n",
       "      <td>8</td>\n",
       "      <td>2024-10-21</td>\n",
       "      <td>1</td>\n",
       "      <td>2</td>\n",
       "      <td>1.0</td>\n",
       "    </tr>\n",
       "  </tbody>\n",
       "</table>\n",
       "</div>"
      ],
      "text/plain": [
       "   Suc_Id  Dia_Semana  Hora Factura_Fecha  Cantidad_Transacciones  \\\n",
       "0       1           1     7    2024-10-21                       5   \n",
       "1       1           1     7    2024-10-28                       3   \n",
       "2       1           1     8    2024-10-07                       2   \n",
       "3       1           1     8    2024-10-14                       1   \n",
       "4       1           1     8    2024-10-21                       1   \n",
       "\n",
       "   Cajas_Activas  Personal_Necesario  \n",
       "0              2                 1.0  \n",
       "1              2                 1.0  \n",
       "2              2                 1.0  \n",
       "3              2                 1.0  \n",
       "4              2                 1.0  "
      ]
     },
     "execution_count": 17,
     "metadata": {},
     "output_type": "execute_result"
    }
   ],
   "source": [
    "# columnas \n",
    "df.head()"
   ]
  },
  {
   "cell_type": "code",
   "execution_count": 18,
   "metadata": {},
   "outputs": [
    {
     "data": {
      "text/html": [
       "<div>\n",
       "<style scoped>\n",
       "    .dataframe tbody tr th:only-of-type {\n",
       "        vertical-align: middle;\n",
       "    }\n",
       "\n",
       "    .dataframe tbody tr th {\n",
       "        vertical-align: top;\n",
       "    }\n",
       "\n",
       "    .dataframe thead th {\n",
       "        text-align: right;\n",
       "    }\n",
       "</style>\n",
       "<table border=\"1\" class=\"dataframe\">\n",
       "  <thead>\n",
       "    <tr style=\"text-align: right;\">\n",
       "      <th></th>\n",
       "      <th>Suc_Id</th>\n",
       "      <th>Dia_Semana</th>\n",
       "      <th>Hora</th>\n",
       "      <th>Cantidad_Transacciones</th>\n",
       "      <th>Cajas_Activas</th>\n",
       "      <th>Personal_Necesario</th>\n",
       "    </tr>\n",
       "  </thead>\n",
       "  <tbody>\n",
       "    <tr>\n",
       "      <th>count</th>\n",
       "      <td>118249.000000</td>\n",
       "      <td>118249.000000</td>\n",
       "      <td>118249.000000</td>\n",
       "      <td>118249.000000</td>\n",
       "      <td>118249.000000</td>\n",
       "      <td>118249.000000</td>\n",
       "    </tr>\n",
       "    <tr>\n",
       "      <th>mean</th>\n",
       "      <td>154.607295</td>\n",
       "      <td>3.834392</td>\n",
       "      <td>13.900033</td>\n",
       "      <td>7.293017</td>\n",
       "      <td>3.079569</td>\n",
       "      <td>1.386202</td>\n",
       "    </tr>\n",
       "    <tr>\n",
       "      <th>std</th>\n",
       "      <td>93.784443</td>\n",
       "      <td>1.952358</td>\n",
       "      <td>4.218931</td>\n",
       "      <td>6.146868</td>\n",
       "      <td>0.945796</td>\n",
       "      <td>0.700504</td>\n",
       "    </tr>\n",
       "    <tr>\n",
       "      <th>min</th>\n",
       "      <td>1.000000</td>\n",
       "      <td>1.000000</td>\n",
       "      <td>0.000000</td>\n",
       "      <td>1.000000</td>\n",
       "      <td>1.000000</td>\n",
       "      <td>1.000000</td>\n",
       "    </tr>\n",
       "    <tr>\n",
       "      <th>25%</th>\n",
       "      <td>73.000000</td>\n",
       "      <td>2.000000</td>\n",
       "      <td>10.000000</td>\n",
       "      <td>3.000000</td>\n",
       "      <td>3.000000</td>\n",
       "      <td>1.000000</td>\n",
       "    </tr>\n",
       "    <tr>\n",
       "      <th>50%</th>\n",
       "      <td>149.000000</td>\n",
       "      <td>4.000000</td>\n",
       "      <td>14.000000</td>\n",
       "      <td>6.000000</td>\n",
       "      <td>3.000000</td>\n",
       "      <td>1.000000</td>\n",
       "    </tr>\n",
       "    <tr>\n",
       "      <th>75%</th>\n",
       "      <td>241.000000</td>\n",
       "      <td>6.000000</td>\n",
       "      <td>17.000000</td>\n",
       "      <td>9.000000</td>\n",
       "      <td>3.000000</td>\n",
       "      <td>2.000000</td>\n",
       "    </tr>\n",
       "    <tr>\n",
       "      <th>max</th>\n",
       "      <td>328.000000</td>\n",
       "      <td>7.000000</td>\n",
       "      <td>23.000000</td>\n",
       "      <td>79.000000</td>\n",
       "      <td>7.000000</td>\n",
       "      <td>10.000000</td>\n",
       "    </tr>\n",
       "  </tbody>\n",
       "</table>\n",
       "</div>"
      ],
      "text/plain": [
       "              Suc_Id     Dia_Semana           Hora  Cantidad_Transacciones  \\\n",
       "count  118249.000000  118249.000000  118249.000000           118249.000000   \n",
       "mean      154.607295       3.834392      13.900033                7.293017   \n",
       "std        93.784443       1.952358       4.218931                6.146868   \n",
       "min         1.000000       1.000000       0.000000                1.000000   \n",
       "25%        73.000000       2.000000      10.000000                3.000000   \n",
       "50%       149.000000       4.000000      14.000000                6.000000   \n",
       "75%       241.000000       6.000000      17.000000                9.000000   \n",
       "max       328.000000       7.000000      23.000000               79.000000   \n",
       "\n",
       "       Cajas_Activas  Personal_Necesario  \n",
       "count  118249.000000       118249.000000  \n",
       "mean        3.079569            1.386202  \n",
       "std         0.945796            0.700504  \n",
       "min         1.000000            1.000000  \n",
       "25%         3.000000            1.000000  \n",
       "50%         3.000000            1.000000  \n",
       "75%         3.000000            2.000000  \n",
       "max         7.000000           10.000000  "
      ]
     },
     "execution_count": 18,
     "metadata": {},
     "output_type": "execute_result"
    }
   ],
   "source": [
    "df.describe()"
   ]
  },
  {
   "cell_type": "code",
   "execution_count": 19,
   "metadata": {},
   "outputs": [
    {
     "data": {
      "image/png": "[encoded data removed]",
      "text/plain": [
       "<Figure size 640x480 with 4 Axes>"
      ]
     },
     "metadata": {},
     "output_type": "display_data"
    }
   ],
   "source": [
    "graph = df[['Suc_Id','Dia_Semana','Hora','Cantidad_Transacciones']]\n",
    "graph.head(10)\n",
    "graph.hist()\n",
    "plt.show()"
   ]
  },
  {
   "cell_type": "code",
   "execution_count": 20,
   "metadata": {},
   "outputs": [
    {
     "data": {
      "image/png": "[encoded data removed]",
      "text/plain": [
       "<Figure size 640x480 with 1 Axes>"
      ]
     },
     "metadata": {},
     "output_type": "display_data"
    }
   ],
   "source": [
    "# cual de las caracteristicas es lineales segun cantidad de personal necesario Cantidad_Transacciones frente a Personal_Necesario\n",
    "plt.scatter(df['Cantidad_Transacciones'], df['Personal_Necesario'])\n",
    "plt.xlabel('Cantidad_Transacciones')\n",
    "plt.ylabel('Personal_Necesario')\n",
    "plt.show()\n"
   ]
  },
  {
   "cell_type": "code",
   "execution_count": 8,
   "metadata": {},
   "outputs": [],
   "source": [
    "# Seleccionar las características relevantes\n",
    "features = ['Suc_Id', 'Dia_Semana', 'Hora', 'Cantidad_Transacciones', 'Personal_Necesario']\n",
    "df = df[features]"
   ]
  },
  {
   "cell_type": "code",
   "execution_count": 9,
   "metadata": {},
   "outputs": [
    {
     "name": "stdout",
     "output_type": "stream",
     "text": [
      "(118249, 4)\n"
     ]
    }
   ],
   "source": [
    "X = df[['Suc_Id', 'Dia_Semana', 'Hora', 'Cantidad_Transacciones']]\n",
    "y = df['Personal_Necesario']\n",
    "# cantidad de datos\n",
    "print(X.shape)\n",
    "X_train, X_test, y_train, y_test = train_test_split(X, y, test_size=0.2, random_state=42)"
   ]
  },
  {
   "cell_type": "code",
   "execution_count": 10,
   "metadata": {},
   "outputs": [
    {
     "data": {
      "text/html": [
       "<style>#sk-container-id-1 {color: black;}#sk-container-id-1 pre{padding: 0;}#sk-container-id-1 div.sk-toggleable {background-color: white;}#sk-container-id-1 label.sk-toggleable__label {cursor: pointer;display: block;width: 100%;margin-bottom: 0;padding: 0.3em;box-sizing: border-box;text-align: center;}#sk-container-id-1 label.sk-toggleable__label-arrow:before {content: \"▸\";float: left;margin-right: 0.25em;color: #696969;}#sk-container-id-1 label.sk-toggleable__label-arrow:hover:before {color: black;}#sk-container-id-1 div.sk-estimator:hover label.sk-toggleable__label-arrow:before {color: black;}#sk-container-id-1 div.sk-toggleable__content {max-height: 0;max-width: 0;overflow: hidden;text-align: left;background-color: #f0f8ff;}#sk-container-id-1 div.sk-toggleable__content pre {margin: 0.2em;color: black;border-radius: 0.25em;background-color: #f0f8ff;}#sk-container-id-1 input.sk-toggleable__control:checked~div.sk-toggleable__content {max-height: 200px;max-width: 100%;overflow: auto;}#sk-container-id-1 input.sk-toggleable__control:checked~label.sk-toggleable__label-arrow:before {content: \"▾\";}#sk-container-id-1 div.sk-estimator input.sk-toggleable__control:checked~label.sk-toggleable__label {background-color: #d4ebff;}#sk-container-id-1 div.sk-label input.sk-toggleable__control:checked~label.sk-toggleable__label {background-color: #d4ebff;}#sk-container-id-1 input.sk-hidden--visually {border: 0;clip: rect(1px 1px 1px 1px);clip: rect(1px, 1px, 1px, 1px);height: 1px;margin: -1px;overflow: hidden;padding: 0;position: absolute;width: 1px;}#sk-container-id-1 div.sk-estimator {font-family: monospace;background-color: #f0f8ff;border: 1px dotted black;border-radius: 0.25em;box-sizing: border-box;margin-bottom: 0.5em;}#sk-container-id-1 div.sk-estimator:hover {background-color: #d4ebff;}#sk-container-id-1 div.sk-parallel-item::after {content: \"\";width: 100%;border-bottom: 1px solid gray;flex-grow: 1;}#sk-container-id-1 div.sk-label:hover label.sk-toggleable__label {background-color: #d4ebff;}#sk-container-id-1 div.sk-serial::before {content: \"\";position: absolute;border-left: 1px solid gray;box-sizing: border-box;top: 0;bottom: 0;left: 50%;z-index: 0;}#sk-container-id-1 div.sk-serial {display: flex;flex-direction: column;align-items: center;background-color: white;padding-right: 0.2em;padding-left: 0.2em;position: relative;}#sk-container-id-1 div.sk-item {position: relative;z-index: 1;}#sk-container-id-1 div.sk-parallel {display: flex;align-items: stretch;justify-content: center;background-color: white;position: relative;}#sk-container-id-1 div.sk-item::before, #sk-container-id-1 div.sk-parallel-item::before {content: \"\";position: absolute;border-left: 1px solid gray;box-sizing: border-box;top: 0;bottom: 0;left: 50%;z-index: -1;}#sk-container-id-1 div.sk-parallel-item {display: flex;flex-direction: column;z-index: 1;position: relative;background-color: white;}#sk-container-id-1 div.sk-parallel-item:first-child::after {align-self: flex-end;width: 50%;}#sk-container-id-1 div.sk-parallel-item:last-child::after {align-self: flex-start;width: 50%;}#sk-container-id-1 div.sk-parallel-item:only-child::after {width: 0;}#sk-container-id-1 div.sk-dashed-wrapped {border: 1px dashed gray;margin: 0 0.4em 0.5em 0.4em;box-sizing: border-box;padding-bottom: 0.4em;background-color: white;}#sk-container-id-1 div.sk-label label {font-family: monospace;font-weight: bold;display: inline-block;line-height: 1.2em;}#sk-container-id-1 div.sk-label-container {text-align: center;}#sk-container-id-1 div.sk-container {/* jupyter's `normalize.less` sets `[hidden] { display: none; }` but bootstrap.min.css set `[hidden] { display: none !important; }` so we also need the `!important` here to be able to override the default hidden behavior on the sphinx rendered scikit-learn.org. See: https://github.com/scikit-learn/scikit-learn/issues/21755 */display: inline-block !important;position: relative;}#sk-container-id-1 div.sk-text-repr-fallback {display: none;}</style><div id=\"sk-container-id-1\" class=\"sk-top-container\"><div class=\"sk-text-repr-fallback\"><pre>LinearRegression()</pre><b>In a Jupyter environment, please rerun this cell to show the HTML representation or trust the notebook. <br />On GitHub, the HTML representation is unable to render, please try loading this page with nbviewer.org.</b></div><div class=\"sk-container\" hidden><div class=\"sk-item\"><div class=\"sk-estimator sk-toggleable\"><input class=\"sk-toggleable__control sk-hidden--visually\" id=\"sk-estimator-id-1\" type=\"checkbox\" checked><label for=\"sk-estimator-id-1\" class=\"sk-toggleable__label sk-toggleable__label-arrow\">LinearRegression</label><div class=\"sk-toggleable__content\"><pre>LinearRegression()</pre></div></div></div></div></div>"
      ],
      "text/plain": [
       "LinearRegression()"
      ]
     },
     "execution_count": 10,
     "metadata": {},
     "output_type": "execute_result"
    }
   ],
   "source": [
    "model = LinearRegression()\n",
    "model.fit(X_train, y_train)"
   ]
  },
  {
   "cell_type": "code",
   "execution_count": 11,
   "metadata": {},
   "outputs": [
    {
     "name": "stdout",
     "output_type": "stream",
     "text": [
      "Error cuadrático medio (MSE): 0.06686703971800134\n",
      "       Suc_Id  Dia_Semana  Hora  Cantidad_Transacciones  \\\n",
      "72625     183           5    11                       8   \n",
      "7623       20           5     8                       4   \n",
      "96942     260           5    16                      13   \n",
      "64150     162           3    11                       6   \n",
      "64090     162           2    11                       4   \n",
      "\n",
      "       Personal_Necesario_Real  Personal_Necesario_Predicho  \n",
      "72625                      1.0                     1.472397  \n",
      "7623                       1.0                     1.046463  \n",
      "96942                      2.0                     1.994424  \n",
      "64150                      1.0                     1.256192  \n",
      "64090                      1.0                     1.042340  \n"
     ]
    }
   ],
   "source": [
    "# Hacer predicciones\n",
    "y_pred = model.predict(X_test)\n",
    "\n",
    "# Evaluar el modelo\n",
    "mse = mean_squared_error(y_test, y_pred)\n",
    "print(f'Error cuadrático medio (MSE): {mse}')\n",
    "\n",
    "# Mostrar las primeras filas del DataFrame con las predicciones\n",
    "df_result = X_test.copy()\n",
    "df_result['Personal_Necesario_Real'] = y_test\n",
    "df_result['Personal_Necesario_Predicho'] = y_pred\n",
    "print(df_result.head())"
   ]
  },
  {
   "cell_type": "code",
   "execution_count": 12,
   "metadata": {},
   "outputs": [
    {
     "data": {
      "image/png": "[encoded data removed]",
      "text/plain": [
       "<Figure size 1000x600 with 1 Axes>"
      ]
     },
     "metadata": {},
     "output_type": "display_data"
    }
   ],
   "source": [
    "plt.figure(figsize=(10, 6))\n",
    "plt.hist(df_result['Personal_Necesario_Predicho'], bins=20, edgecolor='black')\n",
    "plt.title('Histograma de Personal Necesario Predicho')\n",
    "plt.xlabel('Personal Necesario Predicho')\n",
    "plt.ylabel('Frecuencia')\n",
    "plt.grid(True)\n",
    "plt.show()"
   ]
  },
  {
   "cell_type": "code",
   "execution_count": 15,
   "metadata": {},
   "outputs": [
    {
     "name": "stdout",
     "output_type": "stream",
     "text": [
      "Personal necesario para la sucursal 3 el día 1 por turno: {'Turno_1': 3, 'Turno_2': 2, 'Turno_3': 2}\n"
     ]
    }
   ],
   "source": [
    "turnos = {\n",
    "    'Turno_1': list(range(7, 15)),  # 7 AM a 3 PM\n",
    "    'Turno_2': list(range(15, 23)),  # 3 PM a 11 PM\n",
    "    'Turno_3': list(range(23, 24)) + list(range(0, 7))  # 11 PM a 7 AM\n",
    "}\n",
    "\n",
    "# Función para predecir la cantidad de personal necesario dado un conjunto de transacciones esperadas\n",
    "def predecir_personal(suc_id, dia_semana, hora, transacciones_esperadas):\n",
    "    datos = pd.DataFrame({\n",
    "        'Suc_Id': [suc_id],\n",
    "        'Dia_Semana': [dia_semana],\n",
    "        'Hora': [hora],\n",
    "        'Cantidad_Transacciones': [transacciones_esperadas]\n",
    "    })\n",
    "    prediccion = model.predict(datos)\n",
    "    # redondear hacia abajo si es menor a .5 y hacia arriba si es mayor o igual a .5\n",
    "    return int(np.round(prediccion[0]))\n",
    "\n",
    "# Función para predecir el personal necesario por turno\n",
    "def predecir_personal_turno(suc_id, dia_semana, transacciones_por_hora):\n",
    "    personal_por_turno = {}\n",
    "    for turno, horas in turnos.items():\n",
    "        total_personal = 0\n",
    "        for hora in horas:\n",
    "            transacciones_esperadas = transacciones_por_hora.get(hora, 0)\n",
    "            personal_necesario = predecir_personal(suc_id, dia_semana, hora, transacciones_esperadas)\n",
    "            total_personal = max(total_personal, personal_necesario)\n",
    "        personal_por_turno[turno] = total_personal\n",
    "    return personal_por_turno\n",
    "\n",
    "# Ejemplo de uso de la función de predicción por turno\n",
    "suc_id = 3\n",
    "dia_semana = 1  # Martes\n",
    "transacciones_por_hora = {0: 14, 1: 4, 2: 1, 3: 3, 4: 3, 5: 3, 6: 4, 7: 13, 8: 6, 9: 10, 10: 6, 11: 25, 12: 19, 13: 14, 14: 10, 15: 8, 16: 4, 17: 8, 18: 11, 19: 18, 20: 3, 21: 12, 22: 8, 23: 7}\n",
    "\n",
    "personal_necesario_turno = predecir_personal_turno(suc_id, dia_semana, transacciones_por_hora)\n",
    "print(f'Personal necesario para la sucursal {suc_id} el día {dia_semana} por turno: {personal_necesario_turno}')"
   ]
  },
  {
   "cell_type": "code",
   "execution_count": 2,
   "metadata": {},
   "outputs": [],
   "source": [
    "import joblib"
   ]
  },
  {
   "cell_type": "code",
   "execution_count": null,
   "metadata": {},
   "outputs": [
    {
     "data": {
      "text/plain": [
       "['modelo_personal_necesario.pkl']"
      ]
     },
     "execution_count": 66,
     "metadata": {},
     "output_type": "execute_result"
    }
   ],
   "source": [
    "# guardar el modelo\n",
    "\n",
    "joblib.dump(model, 'modelo_personal_necesario.pkl')\n"
   ]
  },
  {
   "cell_type": "code",
   "execution_count": 3,
   "metadata": {},
   "outputs": [],
   "source": [
    "# cagar modelo entrenado\n",
    "model = joblib.load('modelo_personal_necesario.pkl')"
   ]
  }
 ],
 "metadata": {
  "kernelspec": {
   "display_name": "Python 3",
   "language": "python",
   "name": "python3"
  },
  "language_info": {
   "codemirror_mode": {
    "name": "ipython",
    "version": 3
   },
   "file_extension": ".py",
   "mimetype": "text/x-python",
   "name": "python",
   "nbconvert_exporter": "python",
   "pygments_lexer": "ipython3",
   "version": "3.8.10"
  }
 },
 "nbformat": 4,
 "nbformat_minor": 2
}
