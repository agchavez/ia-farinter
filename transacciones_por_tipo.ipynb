{
 "cells": [
  {
   "cell_type": "code",
   "execution_count": 1,
   "metadata": {},
   "outputs": [],
   "source": [
    "import polars as pl\n",
    "import matplotlib.pyplot as plt\n",
    "import pandas as pd\n",
    "from sqlalchemy import text\n",
    "\n",
    "from sqlalchemy import create_engine\n",
    "from urllib.parse import quote_plus\n",
    "\n",
    "\n",
    "connection_string = (\n",
    "    'mssql+pyodbc://'\n",
    "    'Angel_chavez:{}@172.16.2.227\\\\DWHFARINTERDEV/BI_FARINTER?'\n",
    "    'driver=ODBC+Driver+17+for+SQL+Server'.format(quote_plus('@ng3l_ch@v3z'))\n",
    ")\n",
    "engine = create_engine(connection_string)\n",
    "query = text(\"\"\"SELECT\n",
    "    fc.Suc_Id,\n",
    "    fc.Emp_Id,\n",
    "    fc.Caja_Id,\n",
    "    fc.Factura_Id,\n",
    "    fc.Factura_Fecha,\n",
    "    fc.Factura_FechaHora,\n",
    "    fc.AnioMes_Id,\n",
    "    fc.Cliente_Id,\n",
    "    fc.MonederoTarj_Id,\n",
    "    fc.Vendedor_Id,\n",
    "    CASE \n",
    "        WHEN fc.Monedero_Id = '0' THEN 'No Identificada'\n",
    "        ELSE md.Tipo_Plan \n",
    "    END AS Tipo_Plan,\n",
    "    md.Edad,\n",
    "    suc.TipoSucursal_Id,\n",
    "    suc.TipoSucursal_Nombre,\n",
    "    suc.Zona_Id,\n",
    "    suc.Zona_Nombre,\n",
    "    suc.Departamento_Id,\n",
    "    suc.Departamento_Nombre,\n",
    "    suc.Municipio_Id,\n",
    "    suc.Municipio_Nombre\n",
    "FROM\n",
    "    [BI_Kielsa_Hecho_FacturaEncabezado] AS fc\n",
    "    JOIN [BI_Kielsa_Dim_Monedero] AS md \n",
    "        ON md.Monedero_Id = fc.Monedero_Id AND md.Emp_Id = fc.Emp_Id       \n",
    "    JOIN [BI_Kielsa_Dim_Sucursal] AS suc \n",
    "        ON suc.Sucursal_Id = fc.Suc_Id AND suc.Emp_Id = fc.Emp_Id\n",
    "WHERE\n",
    "    fc.AnioMes_Id = 202410 \n",
    "    AND fc.Emp_Id = 1;\"\"\")\n",
    "\n",
    "with engine.connect() as conn:\n",
    "    df_base = pd.read_sql(query, conn, index_col='Factura_Id')\n"
   ]
  },
  {
   "cell_type": "code",
   "execution_count": 3,
   "metadata": {},
   "outputs": [
    {
     "ename": "KeyboardInterrupt",
     "evalue": "",
     "output_type": "error",
     "traceback": [
      "\u001b[1;31m---------------------------------------------------------------------------\u001b[0m",
      "\u001b[1;31mKeyboardInterrupt\u001b[0m                         Traceback (most recent call last)",
      "Cell \u001b[1;32mIn[3], line 2\u001b[0m\n\u001b[0;32m      1\u001b[0m df_base\u001b[38;5;241m.\u001b[39mhead()\n\u001b[1;32m----> 2\u001b[0m \u001b[43mdf_base\u001b[49m\u001b[38;5;241;43m.\u001b[39;49m\u001b[43mto_excel\u001b[49m\u001b[43m(\u001b[49m\u001b[38;5;124;43m'\u001b[39;49m\u001b[38;5;124;43mfacturas.xlsx\u001b[39;49m\u001b[38;5;124;43m'\u001b[39;49m\u001b[43m)\u001b[49m\n",
      "File \u001b[1;32mc:\\Program Files\\Python38\\lib\\site-packages\\pandas\\core\\generic.py:2252\u001b[0m, in \u001b[0;36mNDFrame.to_excel\u001b[1;34m(self, excel_writer, sheet_name, na_rep, float_format, columns, header, index, index_label, startrow, startcol, engine, merge_cells, inf_rep, freeze_panes, storage_options)\u001b[0m\n\u001b[0;32m   2239\u001b[0m \u001b[38;5;28;01mfrom\u001b[39;00m \u001b[38;5;21;01mpandas\u001b[39;00m\u001b[38;5;21;01m.\u001b[39;00m\u001b[38;5;21;01mio\u001b[39;00m\u001b[38;5;21;01m.\u001b[39;00m\u001b[38;5;21;01mformats\u001b[39;00m\u001b[38;5;21;01m.\u001b[39;00m\u001b[38;5;21;01mexcel\u001b[39;00m \u001b[38;5;28;01mimport\u001b[39;00m ExcelFormatter\n\u001b[0;32m   2241\u001b[0m formatter \u001b[38;5;241m=\u001b[39m ExcelFormatter(\n\u001b[0;32m   2242\u001b[0m     df,\n\u001b[0;32m   2243\u001b[0m     na_rep\u001b[38;5;241m=\u001b[39mna_rep,\n\u001b[1;32m   (...)\u001b[0m\n\u001b[0;32m   2250\u001b[0m     inf_rep\u001b[38;5;241m=\u001b[39minf_rep,\n\u001b[0;32m   2251\u001b[0m )\n\u001b[1;32m-> 2252\u001b[0m \u001b[43mformatter\u001b[49m\u001b[38;5;241;43m.\u001b[39;49m\u001b[43mwrite\u001b[49m\u001b[43m(\u001b[49m\n\u001b[0;32m   2253\u001b[0m \u001b[43m    \u001b[49m\u001b[43mexcel_writer\u001b[49m\u001b[43m,\u001b[49m\n\u001b[0;32m   2254\u001b[0m \u001b[43m    \u001b[49m\u001b[43msheet_name\u001b[49m\u001b[38;5;241;43m=\u001b[39;49m\u001b[43msheet_name\u001b[49m\u001b[43m,\u001b[49m\n\u001b[0;32m   2255\u001b[0m \u001b[43m    \u001b[49m\u001b[43mstartrow\u001b[49m\u001b[38;5;241;43m=\u001b[39;49m\u001b[43mstartrow\u001b[49m\u001b[43m,\u001b[49m\n\u001b[0;32m   2256\u001b[0m \u001b[43m    \u001b[49m\u001b[43mstartcol\u001b[49m\u001b[38;5;241;43m=\u001b[39;49m\u001b[43mstartcol\u001b[49m\u001b[43m,\u001b[49m\n\u001b[0;32m   2257\u001b[0m \u001b[43m    \u001b[49m\u001b[43mfreeze_panes\u001b[49m\u001b[38;5;241;43m=\u001b[39;49m\u001b[43mfreeze_panes\u001b[49m\u001b[43m,\u001b[49m\n\u001b[0;32m   2258\u001b[0m \u001b[43m    \u001b[49m\u001b[43mengine\u001b[49m\u001b[38;5;241;43m=\u001b[39;49m\u001b[43mengine\u001b[49m\u001b[43m,\u001b[49m\n\u001b[0;32m   2259\u001b[0m \u001b[43m    \u001b[49m\u001b[43mstorage_options\u001b[49m\u001b[38;5;241;43m=\u001b[39;49m\u001b[43mstorage_options\u001b[49m\u001b[43m,\u001b[49m\n\u001b[0;32m   2260\u001b[0m \u001b[43m\u001b[49m\u001b[43m)\u001b[49m\n",
      "File \u001b[1;32mc:\\Program Files\\Python38\\lib\\site-packages\\pandas\\io\\formats\\excel.py:950\u001b[0m, in \u001b[0;36mExcelFormatter.write\u001b[1;34m(self, writer, sheet_name, startrow, startcol, freeze_panes, engine, storage_options)\u001b[0m\n\u001b[0;32m    947\u001b[0m \u001b[38;5;28;01mfinally\u001b[39;00m:\n\u001b[0;32m    948\u001b[0m     \u001b[38;5;66;03m# make sure to close opened file handles\u001b[39;00m\n\u001b[0;32m    949\u001b[0m     \u001b[38;5;28;01mif\u001b[39;00m need_save:\n\u001b[1;32m--> 950\u001b[0m         \u001b[43mwriter\u001b[49m\u001b[38;5;241;43m.\u001b[39;49m\u001b[43mclose\u001b[49m\u001b[43m(\u001b[49m\u001b[43m)\u001b[49m\n",
      "File \u001b[1;32mc:\\Program Files\\Python38\\lib\\site-packages\\pandas\\io\\excel\\_base.py:1326\u001b[0m, in \u001b[0;36mExcelWriter.close\u001b[1;34m(self)\u001b[0m\n\u001b[0;32m   1324\u001b[0m \u001b[38;5;28;01mdef\u001b[39;00m \u001b[38;5;21mclose\u001b[39m(\u001b[38;5;28mself\u001b[39m) \u001b[38;5;241m-\u001b[39m\u001b[38;5;241m>\u001b[39m \u001b[38;5;28;01mNone\u001b[39;00m:\n\u001b[0;32m   1325\u001b[0m \u001b[38;5;250m    \u001b[39m\u001b[38;5;124;03m\"\"\"synonym for save, to make it more file-like\"\"\"\u001b[39;00m\n\u001b[1;32m-> 1326\u001b[0m     \u001b[38;5;28;43mself\u001b[39;49m\u001b[38;5;241;43m.\u001b[39;49m\u001b[43m_save\u001b[49m\u001b[43m(\u001b[49m\u001b[43m)\u001b[49m\n\u001b[0;32m   1327\u001b[0m     \u001b[38;5;28mself\u001b[39m\u001b[38;5;241m.\u001b[39m_handles\u001b[38;5;241m.\u001b[39mclose()\n",
      "File \u001b[1;32mc:\\Program Files\\Python38\\lib\\site-packages\\pandas\\io\\excel\\_openpyxl.py:109\u001b[0m, in \u001b[0;36mOpenpyxlWriter._save\u001b[1;34m(self)\u001b[0m\n\u001b[0;32m    105\u001b[0m \u001b[38;5;28;01mdef\u001b[39;00m \u001b[38;5;21m_save\u001b[39m(\u001b[38;5;28mself\u001b[39m) \u001b[38;5;241m-\u001b[39m\u001b[38;5;241m>\u001b[39m \u001b[38;5;28;01mNone\u001b[39;00m:\n\u001b[0;32m    106\u001b[0m \u001b[38;5;250m    \u001b[39m\u001b[38;5;124;03m\"\"\"\u001b[39;00m\n\u001b[0;32m    107\u001b[0m \u001b[38;5;124;03m    Save workbook to disk.\u001b[39;00m\n\u001b[0;32m    108\u001b[0m \u001b[38;5;124;03m    \"\"\"\u001b[39;00m\n\u001b[1;32m--> 109\u001b[0m     \u001b[38;5;28;43mself\u001b[39;49m\u001b[38;5;241;43m.\u001b[39;49m\u001b[43mbook\u001b[49m\u001b[38;5;241;43m.\u001b[39;49m\u001b[43msave\u001b[49m\u001b[43m(\u001b[49m\u001b[38;5;28;43mself\u001b[39;49m\u001b[38;5;241;43m.\u001b[39;49m\u001b[43m_handles\u001b[49m\u001b[38;5;241;43m.\u001b[39;49m\u001b[43mhandle\u001b[49m\u001b[43m)\u001b[49m\n\u001b[0;32m    110\u001b[0m     \u001b[38;5;28;01mif\u001b[39;00m \u001b[38;5;124m\"\u001b[39m\u001b[38;5;124mr+\u001b[39m\u001b[38;5;124m\"\u001b[39m \u001b[38;5;129;01min\u001b[39;00m \u001b[38;5;28mself\u001b[39m\u001b[38;5;241m.\u001b[39m_mode \u001b[38;5;129;01mand\u001b[39;00m \u001b[38;5;129;01mnot\u001b[39;00m \u001b[38;5;28misinstance\u001b[39m(\u001b[38;5;28mself\u001b[39m\u001b[38;5;241m.\u001b[39m_handles\u001b[38;5;241m.\u001b[39mhandle, mmap\u001b[38;5;241m.\u001b[39mmmap):\n\u001b[0;32m    111\u001b[0m         \u001b[38;5;66;03m# truncate file to the written content\u001b[39;00m\n\u001b[0;32m    112\u001b[0m         \u001b[38;5;28mself\u001b[39m\u001b[38;5;241m.\u001b[39m_handles\u001b[38;5;241m.\u001b[39mhandle\u001b[38;5;241m.\u001b[39mtruncate()\n",
      "File \u001b[1;32mc:\\Program Files\\Python38\\lib\\site-packages\\openpyxl\\workbook\\workbook.py:386\u001b[0m, in \u001b[0;36mWorkbook.save\u001b[1;34m(self, filename)\u001b[0m\n\u001b[0;32m    384\u001b[0m \u001b[38;5;28;01mif\u001b[39;00m \u001b[38;5;28mself\u001b[39m\u001b[38;5;241m.\u001b[39mwrite_only \u001b[38;5;129;01mand\u001b[39;00m \u001b[38;5;129;01mnot\u001b[39;00m \u001b[38;5;28mself\u001b[39m\u001b[38;5;241m.\u001b[39mworksheets:\n\u001b[0;32m    385\u001b[0m     \u001b[38;5;28mself\u001b[39m\u001b[38;5;241m.\u001b[39mcreate_sheet()\n\u001b[1;32m--> 386\u001b[0m \u001b[43msave_workbook\u001b[49m\u001b[43m(\u001b[49m\u001b[38;5;28;43mself\u001b[39;49m\u001b[43m,\u001b[49m\u001b[43m \u001b[49m\u001b[43mfilename\u001b[49m\u001b[43m)\u001b[49m\n",
      "File \u001b[1;32mc:\\Program Files\\Python38\\lib\\site-packages\\openpyxl\\writer\\excel.py:294\u001b[0m, in \u001b[0;36msave_workbook\u001b[1;34m(workbook, filename)\u001b[0m\n\u001b[0;32m    292\u001b[0m workbook\u001b[38;5;241m.\u001b[39mproperties\u001b[38;5;241m.\u001b[39mmodified \u001b[38;5;241m=\u001b[39m datetime\u001b[38;5;241m.\u001b[39mdatetime\u001b[38;5;241m.\u001b[39mnow(tz\u001b[38;5;241m=\u001b[39mdatetime\u001b[38;5;241m.\u001b[39mtimezone\u001b[38;5;241m.\u001b[39mutc)\u001b[38;5;241m.\u001b[39mreplace(tzinfo\u001b[38;5;241m=\u001b[39m\u001b[38;5;28;01mNone\u001b[39;00m)\n\u001b[0;32m    293\u001b[0m writer \u001b[38;5;241m=\u001b[39m ExcelWriter(workbook, archive)\n\u001b[1;32m--> 294\u001b[0m \u001b[43mwriter\u001b[49m\u001b[38;5;241;43m.\u001b[39;49m\u001b[43msave\u001b[49m\u001b[43m(\u001b[49m\u001b[43m)\u001b[49m\n\u001b[0;32m    295\u001b[0m \u001b[38;5;28;01mreturn\u001b[39;00m \u001b[38;5;28;01mTrue\u001b[39;00m\n",
      "File \u001b[1;32mc:\\Program Files\\Python38\\lib\\site-packages\\openpyxl\\writer\\excel.py:275\u001b[0m, in \u001b[0;36mExcelWriter.save\u001b[1;34m(self)\u001b[0m\n\u001b[0;32m    273\u001b[0m \u001b[38;5;28;01mdef\u001b[39;00m \u001b[38;5;21msave\u001b[39m(\u001b[38;5;28mself\u001b[39m):\n\u001b[0;32m    274\u001b[0m \u001b[38;5;250m    \u001b[39m\u001b[38;5;124;03m\"\"\"Write data into the archive.\"\"\"\u001b[39;00m\n\u001b[1;32m--> 275\u001b[0m     \u001b[38;5;28;43mself\u001b[39;49m\u001b[38;5;241;43m.\u001b[39;49m\u001b[43mwrite_data\u001b[49m\u001b[43m(\u001b[49m\u001b[43m)\u001b[49m\n\u001b[0;32m    276\u001b[0m     \u001b[38;5;28mself\u001b[39m\u001b[38;5;241m.\u001b[39m_archive\u001b[38;5;241m.\u001b[39mclose()\n",
      "File \u001b[1;32mc:\\Program Files\\Python38\\lib\\site-packages\\openpyxl\\writer\\excel.py:77\u001b[0m, in \u001b[0;36mExcelWriter.write_data\u001b[1;34m(self)\u001b[0m\n\u001b[0;32m     74\u001b[0m     custom_override \u001b[38;5;241m=\u001b[39m CustomOverride()\n\u001b[0;32m     75\u001b[0m     \u001b[38;5;28mself\u001b[39m\u001b[38;5;241m.\u001b[39mmanifest\u001b[38;5;241m.\u001b[39mappend(custom_override)\n\u001b[1;32m---> 77\u001b[0m \u001b[38;5;28;43mself\u001b[39;49m\u001b[38;5;241;43m.\u001b[39;49m\u001b[43m_write_worksheets\u001b[49m\u001b[43m(\u001b[49m\u001b[43m)\u001b[49m\n\u001b[0;32m     78\u001b[0m \u001b[38;5;28mself\u001b[39m\u001b[38;5;241m.\u001b[39m_write_chartsheets()\n\u001b[0;32m     79\u001b[0m \u001b[38;5;28mself\u001b[39m\u001b[38;5;241m.\u001b[39m_write_images()\n",
      "File \u001b[1;32mc:\\Program Files\\Python38\\lib\\site-packages\\openpyxl\\writer\\excel.py:215\u001b[0m, in \u001b[0;36mExcelWriter._write_worksheets\u001b[1;34m(self)\u001b[0m\n\u001b[0;32m    212\u001b[0m \u001b[38;5;28;01mfor\u001b[39;00m idx, ws \u001b[38;5;129;01min\u001b[39;00m \u001b[38;5;28menumerate\u001b[39m(\u001b[38;5;28mself\u001b[39m\u001b[38;5;241m.\u001b[39mworkbook\u001b[38;5;241m.\u001b[39mworksheets, \u001b[38;5;241m1\u001b[39m):\n\u001b[0;32m    214\u001b[0m     ws\u001b[38;5;241m.\u001b[39m_id \u001b[38;5;241m=\u001b[39m idx\n\u001b[1;32m--> 215\u001b[0m     \u001b[38;5;28;43mself\u001b[39;49m\u001b[38;5;241;43m.\u001b[39;49m\u001b[43mwrite_worksheet\u001b[49m\u001b[43m(\u001b[49m\u001b[43mws\u001b[49m\u001b[43m)\u001b[49m\n\u001b[0;32m    217\u001b[0m     \u001b[38;5;28;01mif\u001b[39;00m ws\u001b[38;5;241m.\u001b[39m_drawing:\n\u001b[0;32m    218\u001b[0m         \u001b[38;5;28mself\u001b[39m\u001b[38;5;241m.\u001b[39m_write_drawing(ws\u001b[38;5;241m.\u001b[39m_drawing)\n",
      "File \u001b[1;32mc:\\Program Files\\Python38\\lib\\site-packages\\openpyxl\\writer\\excel.py:200\u001b[0m, in \u001b[0;36mExcelWriter.write_worksheet\u001b[1;34m(self, ws)\u001b[0m\n\u001b[0;32m    198\u001b[0m \u001b[38;5;28;01melse\u001b[39;00m:\n\u001b[0;32m    199\u001b[0m     writer \u001b[38;5;241m=\u001b[39m WorksheetWriter(ws)\n\u001b[1;32m--> 200\u001b[0m     \u001b[43mwriter\u001b[49m\u001b[38;5;241;43m.\u001b[39;49m\u001b[43mwrite\u001b[49m\u001b[43m(\u001b[49m\u001b[43m)\u001b[49m\n\u001b[0;32m    202\u001b[0m ws\u001b[38;5;241m.\u001b[39m_rels \u001b[38;5;241m=\u001b[39m writer\u001b[38;5;241m.\u001b[39m_rels\n\u001b[0;32m    203\u001b[0m \u001b[38;5;28mself\u001b[39m\u001b[38;5;241m.\u001b[39m_archive\u001b[38;5;241m.\u001b[39mwrite(writer\u001b[38;5;241m.\u001b[39mout, ws\u001b[38;5;241m.\u001b[39mpath[\u001b[38;5;241m1\u001b[39m:])\n",
      "File \u001b[1;32mc:\\Program Files\\Python38\\lib\\site-packages\\openpyxl\\worksheet\\_writer.py:359\u001b[0m, in \u001b[0;36mWorksheetWriter.write\u001b[1;34m(self)\u001b[0m\n\u001b[0;32m    355\u001b[0m \u001b[38;5;250m\u001b[39m\u001b[38;5;124;03m\"\"\"\u001b[39;00m\n\u001b[0;32m    356\u001b[0m \u001b[38;5;124;03mHigh level\u001b[39;00m\n\u001b[0;32m    357\u001b[0m \u001b[38;5;124;03m\"\"\"\u001b[39;00m\n\u001b[0;32m    358\u001b[0m \u001b[38;5;28mself\u001b[39m\u001b[38;5;241m.\u001b[39mwrite_top()\n\u001b[1;32m--> 359\u001b[0m \u001b[38;5;28;43mself\u001b[39;49m\u001b[38;5;241;43m.\u001b[39;49m\u001b[43mwrite_rows\u001b[49m\u001b[43m(\u001b[49m\u001b[43m)\u001b[49m\n\u001b[0;32m    360\u001b[0m \u001b[38;5;28mself\u001b[39m\u001b[38;5;241m.\u001b[39mwrite_tail()\n\u001b[0;32m    361\u001b[0m \u001b[38;5;28mself\u001b[39m\u001b[38;5;241m.\u001b[39mclose()\n",
      "File \u001b[1;32mc:\\Program Files\\Python38\\lib\\site-packages\\openpyxl\\worksheet\\_writer.py:125\u001b[0m, in \u001b[0;36mWorksheetWriter.write_rows\u001b[1;34m(self)\u001b[0m\n\u001b[0;32m    123\u001b[0m \u001b[38;5;28;01mwith\u001b[39;00m xf\u001b[38;5;241m.\u001b[39melement(\u001b[38;5;124m\"\u001b[39m\u001b[38;5;124msheetData\u001b[39m\u001b[38;5;124m\"\u001b[39m):\n\u001b[0;32m    124\u001b[0m     \u001b[38;5;28;01mfor\u001b[39;00m row_idx, row \u001b[38;5;129;01min\u001b[39;00m \u001b[38;5;28mself\u001b[39m\u001b[38;5;241m.\u001b[39mrows():\n\u001b[1;32m--> 125\u001b[0m         \u001b[38;5;28;43mself\u001b[39;49m\u001b[38;5;241;43m.\u001b[39;49m\u001b[43mwrite_row\u001b[49m\u001b[43m(\u001b[49m\u001b[43mxf\u001b[49m\u001b[43m,\u001b[49m\u001b[43m \u001b[49m\u001b[43mrow\u001b[49m\u001b[43m,\u001b[49m\u001b[43m \u001b[49m\u001b[43mrow_idx\u001b[49m\u001b[43m)\u001b[49m\n\u001b[0;32m    127\u001b[0m \u001b[38;5;28mself\u001b[39m\u001b[38;5;241m.\u001b[39mxf\u001b[38;5;241m.\u001b[39msend(\u001b[38;5;28;01mNone\u001b[39;00m)\n",
      "File \u001b[1;32mc:\\Program Files\\Python38\\lib\\site-packages\\openpyxl\\worksheet\\_writer.py:147\u001b[0m, in \u001b[0;36mWorksheetWriter.write_row\u001b[1;34m(self, xf, row, row_idx)\u001b[0m\n\u001b[0;32m    141\u001b[0m \u001b[38;5;28;01mif\u001b[39;00m (\n\u001b[0;32m    142\u001b[0m     cell\u001b[38;5;241m.\u001b[39m_value \u001b[38;5;129;01mis\u001b[39;00m \u001b[38;5;28;01mNone\u001b[39;00m\n\u001b[0;32m    143\u001b[0m     \u001b[38;5;129;01mand\u001b[39;00m \u001b[38;5;129;01mnot\u001b[39;00m cell\u001b[38;5;241m.\u001b[39mhas_style\n\u001b[0;32m    144\u001b[0m     \u001b[38;5;129;01mand\u001b[39;00m \u001b[38;5;129;01mnot\u001b[39;00m cell\u001b[38;5;241m.\u001b[39m_comment\n\u001b[0;32m    145\u001b[0m     ):\n\u001b[0;32m    146\u001b[0m     \u001b[38;5;28;01mcontinue\u001b[39;00m\n\u001b[1;32m--> 147\u001b[0m \u001b[43mwrite_cell\u001b[49m\u001b[43m(\u001b[49m\u001b[43mxf\u001b[49m\u001b[43m,\u001b[49m\u001b[43m \u001b[49m\u001b[38;5;28;43mself\u001b[39;49m\u001b[38;5;241;43m.\u001b[39;49m\u001b[43mws\u001b[49m\u001b[43m,\u001b[49m\u001b[43m \u001b[49m\u001b[43mcell\u001b[49m\u001b[43m,\u001b[49m\u001b[43m \u001b[49m\u001b[43mcell\u001b[49m\u001b[38;5;241;43m.\u001b[39;49m\u001b[43mhas_style\u001b[49m\u001b[43m)\u001b[49m\n",
      "File \u001b[1;32mc:\\Program Files\\Python38\\lib\\site-packages\\openpyxl\\cell\\_writer.py:86\u001b[0m, in \u001b[0;36metree_write_cell\u001b[1;34m(xf, worksheet, cell, styled)\u001b[0m\n\u001b[0;32m     83\u001b[0m     \u001b[38;5;28;01mif\u001b[39;00m value \u001b[38;5;129;01mis\u001b[39;00m \u001b[38;5;129;01mnot\u001b[39;00m \u001b[38;5;28;01mNone\u001b[39;00m:\n\u001b[0;32m     84\u001b[0m         cell_content\u001b[38;5;241m.\u001b[39mtext \u001b[38;5;241m=\u001b[39m safe_string(value)\n\u001b[1;32m---> 86\u001b[0m \u001b[43mxf\u001b[49m\u001b[38;5;241;43m.\u001b[39;49m\u001b[43mwrite\u001b[49m\u001b[43m(\u001b[49m\u001b[43mel\u001b[49m\u001b[43m)\u001b[49m\n",
      "File \u001b[1;32mc:\\Program Files\\Python38\\lib\\site-packages\\et_xmlfile\\xmlfile.py:120\u001b[0m, in \u001b[0;36m_IncrementalFileWriter.write\u001b[1;34m(self, arg)\u001b[0m\n\u001b[0;32m    118\u001b[0m     default_ns_attr_prefix \u001b[38;5;241m=\u001b[39m \u001b[38;5;28;01mNone\u001b[39;00m\n\u001b[0;32m    119\u001b[0m     uri_to_prefix \u001b[38;5;241m=\u001b[39m {}\n\u001b[1;32m--> 120\u001b[0m \u001b[43mincremental_tree\u001b[49m\u001b[38;5;241;43m.\u001b[39;49m\u001b[43m_serialize_ns_xml\u001b[49m\u001b[43m(\u001b[49m\n\u001b[0;32m    121\u001b[0m \u001b[43m    \u001b[49m\u001b[38;5;28;43mself\u001b[39;49m\u001b[38;5;241;43m.\u001b[39;49m\u001b[43m_file\u001b[49m\u001b[43m,\u001b[49m\n\u001b[0;32m    122\u001b[0m \u001b[43m    \u001b[49m\u001b[43marg\u001b[49m\u001b[43m,\u001b[49m\n\u001b[0;32m    123\u001b[0m \u001b[43m    \u001b[49m\u001b[43mnsmap_scope\u001b[49m\u001b[38;5;241;43m=\u001b[39;49m\u001b[43mnsmap_scope\u001b[49m\u001b[43m,\u001b[49m\n\u001b[0;32m    124\u001b[0m \u001b[43m    \u001b[49m\u001b[43mglobal_nsmap\u001b[49m\u001b[38;5;241;43m=\u001b[39;49m\u001b[38;5;28;43mself\u001b[39;49m\u001b[38;5;241;43m.\u001b[39;49m\u001b[43mglobal_nsmap\u001b[49m\u001b[43m,\u001b[49m\n\u001b[0;32m    125\u001b[0m \u001b[43m    \u001b[49m\u001b[43mshort_empty_elements\u001b[49m\u001b[38;5;241;43m=\u001b[39;49m\u001b[38;5;28;43;01mTrue\u001b[39;49;00m\u001b[43m,\u001b[49m\n\u001b[0;32m    126\u001b[0m \u001b[43m    \u001b[49m\u001b[43mis_html\u001b[49m\u001b[38;5;241;43m=\u001b[39;49m\u001b[38;5;28;43mself\u001b[39;49m\u001b[38;5;241;43m.\u001b[39;49m\u001b[43mis_html\u001b[49m\u001b[43m,\u001b[49m\n\u001b[0;32m    127\u001b[0m \u001b[43m    \u001b[49m\u001b[43mis_root\u001b[49m\u001b[38;5;241;43m=\u001b[39;49m\u001b[43mis_root\u001b[49m\u001b[43m,\u001b[49m\n\u001b[0;32m    128\u001b[0m \u001b[43m    \u001b[49m\u001b[43muri_to_prefix\u001b[49m\u001b[38;5;241;43m=\u001b[39;49m\u001b[43muri_to_prefix\u001b[49m\u001b[43m,\u001b[49m\n\u001b[0;32m    129\u001b[0m \u001b[43m    \u001b[49m\u001b[43mdefault_ns_attr_prefix\u001b[49m\u001b[38;5;241;43m=\u001b[39;49m\u001b[43mdefault_ns_attr_prefix\u001b[49m\u001b[43m,\u001b[49m\n\u001b[0;32m    130\u001b[0m \u001b[43m\u001b[49m\u001b[43m)\u001b[49m\n",
      "File \u001b[1;32mc:\\Program Files\\Python38\\lib\\site-packages\\et_xmlfile\\incremental_tree.py:613\u001b[0m, in \u001b[0;36m_serialize_ns_xml\u001b[1;34m(write, elem, nsmap_scope, global_nsmap, short_empty_elements, is_html, is_root, uri_to_prefix, default_ns_attr_prefix, new_nsmap, **kwargs)\u001b[0m\n\u001b[0;32m    566\u001b[0m \u001b[38;5;28;01mdef\u001b[39;00m \u001b[38;5;21m_serialize_ns_xml\u001b[39m(\n\u001b[0;32m    567\u001b[0m     write,\n\u001b[0;32m    568\u001b[0m     elem,\n\u001b[1;32m   (...)\u001b[0m\n\u001b[0;32m    577\u001b[0m     \u001b[38;5;241m*\u001b[39m\u001b[38;5;241m*\u001b[39mkwargs,\n\u001b[0;32m    578\u001b[0m ):\n\u001b[0;32m    579\u001b[0m \u001b[38;5;250m    \u001b[39m\u001b[38;5;124;03m\"\"\"Serialize an element or tree using 'write' for output.\u001b[39;00m\n\u001b[0;32m    580\u001b[0m \n\u001b[0;32m    581\u001b[0m \u001b[38;5;124;03m    Args:\u001b[39;00m\n\u001b[1;32m   (...)\u001b[0m\n\u001b[0;32m    605\u001b[0m \u001b[38;5;124;03m            New prefix -> uri mapping to be applied to this element.\u001b[39;00m\n\u001b[0;32m    606\u001b[0m \u001b[38;5;124;03m    \"\"\"\u001b[39;00m\n\u001b[0;32m    607\u001b[0m     (\n\u001b[0;32m    608\u001b[0m         tag,\n\u001b[0;32m    609\u001b[0m         nsmap_scope,\n\u001b[0;32m    610\u001b[0m         default_ns_attr_prefix,\n\u001b[0;32m    611\u001b[0m         uri_to_prefix,\n\u001b[0;32m    612\u001b[0m         next_remains_root,\n\u001b[1;32m--> 613\u001b[0m     ) \u001b[38;5;241m=\u001b[39m \u001b[43mwrite_elem_start\u001b[49m\u001b[43m(\u001b[49m\n\u001b[0;32m    614\u001b[0m \u001b[43m        \u001b[49m\u001b[43mwrite\u001b[49m\u001b[43m,\u001b[49m\n\u001b[0;32m    615\u001b[0m \u001b[43m        \u001b[49m\u001b[43melem\u001b[49m\u001b[43m,\u001b[49m\n\u001b[0;32m    616\u001b[0m \u001b[43m        \u001b[49m\u001b[43mnsmap_scope\u001b[49m\u001b[43m,\u001b[49m\n\u001b[0;32m    617\u001b[0m \u001b[43m        \u001b[49m\u001b[43mglobal_nsmap\u001b[49m\u001b[43m,\u001b[49m\n\u001b[0;32m    618\u001b[0m \u001b[43m        \u001b[49m\u001b[43mshort_empty_elements\u001b[49m\u001b[43m,\u001b[49m\n\u001b[0;32m    619\u001b[0m \u001b[43m        \u001b[49m\u001b[43mis_html\u001b[49m\u001b[43m,\u001b[49m\n\u001b[0;32m    620\u001b[0m \u001b[43m        \u001b[49m\u001b[43mis_root\u001b[49m\u001b[43m,\u001b[49m\n\u001b[0;32m    621\u001b[0m \u001b[43m        \u001b[49m\u001b[43muri_to_prefix\u001b[49m\u001b[43m,\u001b[49m\n\u001b[0;32m    622\u001b[0m \u001b[43m        \u001b[49m\u001b[43mdefault_ns_attr_prefix\u001b[49m\u001b[43m,\u001b[49m\n\u001b[0;32m    623\u001b[0m \u001b[43m        \u001b[49m\u001b[43mnew_nsmap\u001b[49m\u001b[38;5;241;43m=\u001b[39;49m\u001b[43mnew_nsmap\u001b[49m\u001b[43m,\u001b[49m\n\u001b[0;32m    624\u001b[0m \u001b[43m    \u001b[49m\u001b[43m)\u001b[49m\n\u001b[0;32m    625\u001b[0m     \u001b[38;5;28;01mfor\u001b[39;00m e \u001b[38;5;129;01min\u001b[39;00m elem:\n\u001b[0;32m    626\u001b[0m         _serialize_ns_xml(\n\u001b[0;32m    627\u001b[0m             write,\n\u001b[0;32m    628\u001b[0m             e,\n\u001b[1;32m   (...)\u001b[0m\n\u001b[0;32m    636\u001b[0m             new_nsmap\u001b[38;5;241m=\u001b[39m\u001b[38;5;28;01mNone\u001b[39;00m,\n\u001b[0;32m    637\u001b[0m         )\n",
      "File \u001b[1;32mc:\\Program Files\\Python38\\lib\\site-packages\\et_xmlfile\\incremental_tree.py:539\u001b[0m, in \u001b[0;36mwrite_elem_start\u001b[1;34m(write, elem, nsmap_scope, global_nsmap, short_empty_elements, is_html, is_root, uri_to_prefix, default_ns_attr_prefix, new_nsmap, **kwargs)\u001b[0m\n\u001b[0;32m    537\u001b[0m         write(\u001b[38;5;124m\"\u001b[39m\u001b[38;5;124m\"\u001b[39m\u001b[38;5;241m.\u001b[39mjoin([\u001b[38;5;124mf\u001b[39m\u001b[38;5;124m'\u001b[39m\u001b[38;5;124m \u001b[39m\u001b[38;5;132;01m{\u001b[39;00mk\u001b[38;5;132;01m}\u001b[39;00m\u001b[38;5;124m=\u001b[39m\u001b[38;5;124m\"\u001b[39m\u001b[38;5;132;01m{\u001b[39;00mET\u001b[38;5;241m.\u001b[39m_escape_attrib_html(v)\u001b[38;5;132;01m}\u001b[39;00m\u001b[38;5;124m\"\u001b[39m\u001b[38;5;124m'\u001b[39m \u001b[38;5;28;01mfor\u001b[39;00m k, v \u001b[38;5;129;01min\u001b[39;00m item_parts]))\n\u001b[0;32m    538\u001b[0m     \u001b[38;5;28;01melse\u001b[39;00m:\n\u001b[1;32m--> 539\u001b[0m         \u001b[43mwrite\u001b[49m\u001b[43m(\u001b[49m\u001b[38;5;124;43m\"\u001b[39;49m\u001b[38;5;124;43m\"\u001b[39;49m\u001b[38;5;241;43m.\u001b[39;49m\u001b[43mjoin\u001b[49m\u001b[43m(\u001b[49m\u001b[43m[\u001b[49m\u001b[38;5;124;43mf\u001b[39;49m\u001b[38;5;124;43m'\u001b[39;49m\u001b[38;5;124;43m \u001b[39;49m\u001b[38;5;132;43;01m{\u001b[39;49;00m\u001b[43mk\u001b[49m\u001b[38;5;132;43;01m}\u001b[39;49;00m\u001b[38;5;124;43m=\u001b[39;49m\u001b[38;5;124;43m\"\u001b[39;49m\u001b[38;5;132;43;01m{\u001b[39;49;00m\u001b[43mET\u001b[49m\u001b[38;5;241;43m.\u001b[39;49m\u001b[43m_escape_attrib\u001b[49m\u001b[43m(\u001b[49m\u001b[43mv\u001b[49m\u001b[43m)\u001b[49m\u001b[38;5;132;43;01m}\u001b[39;49;00m\u001b[38;5;124;43m\"\u001b[39;49m\u001b[38;5;124;43m'\u001b[39;49m\u001b[43m \u001b[49m\u001b[38;5;28;43;01mfor\u001b[39;49;00m\u001b[43m \u001b[49m\u001b[43mk\u001b[49m\u001b[43m,\u001b[49m\u001b[43m \u001b[49m\u001b[43mv\u001b[49m\u001b[43m \u001b[49m\u001b[38;5;129;43;01min\u001b[39;49;00m\u001b[43m \u001b[49m\u001b[43mitem_parts\u001b[49m\u001b[43m]\u001b[49m\u001b[43m)\u001b[49m\u001b[43m)\u001b[49m\n\u001b[0;32m    540\u001b[0m \u001b[38;5;28;01mif\u001b[39;00m is_html:\n\u001b[0;32m    541\u001b[0m     write(\u001b[38;5;124m\"\u001b[39m\u001b[38;5;124m>\u001b[39m\u001b[38;5;124m\"\u001b[39m)\n",
      "\u001b[1;31mKeyboardInterrupt\u001b[0m: "
     ]
    }
   ],
   "source": [
    "df_base.head()\n",
    "df_base.to_excel('facturas.xlsx')"
   ]
  },
  {
   "cell_type": "code",
   "execution_count": 3,
   "metadata": {},
   "outputs": [
    {
     "name": "stdout",
     "output_type": "stream",
     "text": [
      "Cantidad de transacciones por tipo antes de mapear:\n",
      "Tipo_Plan\n",
      "No Identificada          146320\n",
      "Monedero todo publico    111266\n",
      "Monedero tercera edad     57063\n",
      "Monedero Cuarta Edad       2438\n",
      "Monedero Clínica TP          10\n",
      "Monedero Clínica TE           9\n",
      "Club de Médicos               4\n",
      "Name: count, dtype: int64\n",
      "Agrupado:\n",
      "   Suc_Id Dia_Semana  Hora     Tipo_Plan Factura_Fecha  Cantidad_Transacciones\n",
      "0       1     Friday    11  Todo Publico    2024-10-18                       2\n",
      "1       1     Friday    15  Todo Publico    2024-10-18                       1\n",
      "2       1     Friday    16  Tercera Edad    2024-10-04                       2\n",
      "3       1     Friday    16  Todo Publico    2024-10-04                       2\n",
      "4       1     Friday    17  Tercera Edad    2024-10-04                       1\n"
     ]
    }
   ],
   "source": [
    "# Crear una copia del DataFrame original\n",
    "df = df_base.copy()\n",
    "\n",
    "# solo tomar la caja 1\n",
    "df = df[df['Caja_Id'] == 1]\n",
    "\n",
    "# Convertir los valores de hora a cadenas\n",
    "df['Factura_FechaHora'] = df['Factura_FechaHora'].astype(str)\n",
    "\n",
    "# Agregar una fecha ficticia a los valores de hora\n",
    "df['Factura_FechaHora'] = '1900-01-01 ' + df['Factura_FechaHora']\n",
    "\n",
    "# Convertir la columna Factura_FechaHora a datetime\n",
    "df['Factura_FechaHora'] = pd.to_datetime(df['Factura_FechaHora'], format='%Y-%m-%d %H:%M:%S', errors='coerce')\n",
    "\n",
    "# Asegúrate de que Factura_Fecha y Factura_FechaHora sean tipo datetime\n",
    "df['Factura_Fecha'] = pd.to_datetime(df['Factura_Fecha'])\n",
    "\n",
    "# Crear el diccionario para mapear los tipos de transacciones\n",
    "tipos_transaccion = {\n",
    "    'Monedero tercera edad': 'Tercera Edad',\n",
    "    'Monedero Cuarta Edad': 'Tercera Edad',\n",
    "    'Monedero todo publico': 'Todo Publico',\n",
    "    'Monedero Clínica TP': 'Todo Publico',\n",
    "    'Monedero Clínica TE': 'Tercera Edad',\n",
    "    'No Identificada': 'No Identificada',\n",
    "}\n",
    "\n",
    "print(\"Cantidad de transacciones por tipo antes de mapear:\")\n",
    "print(df['Tipo_Plan'].value_counts())\n",
    "\n",
    "# Mapear los tipos de transacciones y eliminar las no relevantes\n",
    "df['Tipo_Plan'] = df['Tipo_Plan'].map(tipos_transaccion)\n",
    "df = df.dropna(subset=['Tipo_Plan'])\n",
    "\n",
    "# Extraer hora y día de la semana para el agrupamiento\n",
    "df['Hora'] = df['Factura_FechaHora'].dt.hour\n",
    "df['Dia_Semana'] = df['Factura_Fecha'].dt.day_name()\n",
    "\n",
    "# Agrupar por sucursal, día de la semana, hora y tipo de transacción\n",
    "agrupado = df.groupby(['Suc_Id', 'Dia_Semana', 'Hora', 'Tipo_Plan','Factura_Fecha']\n",
    "                      ).size().reset_index(name='Cantidad_Transacciones')\n",
    "\n",
    "print(\"Agrupado:\")\n",
    "print(agrupado.head())\n"
   ]
  },
  {
   "cell_type": "code",
   "execution_count": null,
   "metadata": {},
   "outputs": [],
   "source": []
  },
  {
   "cell_type": "markdown",
   "metadata": {},
   "source": [
    "## Separar los transacciones no identificadas\n",
    "### Descripción\n",
    "Dado un conjunto de transacciones identificadas y no identificadas, se desea separar las transacciones no identificadas en dos grupos de acuerdo a la cantidad de transacciones que se pueden identificar con las transacciones identificadas. Para ello, se propone el siguiente algoritmo:\n",
    "1. Se crea un grafo donde los nodos son las transacciones identificadas y las\n",
    "aristas son las transacciones que comparten al menos un producto con otra\n",
    "transacción.\n",
    "2. Se recorre el grafo y se identifican las componentes conexas.\n",
    "3. Se asigna cada transacción no identificada a la componente conexa que\n",
    "comparta más productos con ella.\n",
    "### Formato de entrada\n",
    "La entrada consiste de un entero n (1 ≤ n ≤ 100) que indica\n",
    "la cantidad de transacciones identificadas, seguido de n líneas con las transacciones identificadas. Cada transacción identificada consiste de un entero m (1 ≤ m ≤ 100) que indica la cantidad de\n"
   ]
  },
  {
   "cell_type": "code",
   "execution_count": 4,
   "metadata": {},
   "outputs": [
    {
     "name": "stdout",
     "output_type": "stream",
     "text": [
      "Totales por sucursal:\n",
      "     Suc_Id     Tipo_Plan  Cantidad_Transacciones\n",
      "0         1  Tercera Edad                      27\n",
      "1         1  Todo Publico                     102\n",
      "2         2  Tercera Edad                      46\n",
      "3         2  Todo Publico                      83\n",
      "4         3  Tercera Edad                     500\n",
      "..      ...           ...                     ...\n",
      "576     326  Todo Publico                     534\n",
      "577     327  Tercera Edad                     183\n",
      "578     327  Todo Publico                     226\n",
      "579     328  Tercera Edad                      27\n",
      "580     328  Todo Publico                       9\n",
      "\n",
      "[581 rows x 3 columns]\n"
     ]
    }
   ],
   "source": [
    "# Filtrar el DataFrame para excluir 'Monedero Farmex Plus' y calcular totales por sucursal y tipo\n",
    "identificadas = agrupado[agrupado['Tipo_Plan'] != 'No Identificada']\n",
    "totales_sucursal = identificadas.groupby(['Suc_Id', 'Tipo_Plan'])['Cantidad_Transacciones'].sum().reset_index()\n",
    "print(\"Totales por sucursal:\")\n",
    "print(totales_sucursal)\n"
   ]
  },
  {
   "cell_type": "code",
   "execution_count": null,
   "metadata": {},
   "outputs": [],
   "source": []
  },
  {
   "cell_type": "code",
   "execution_count": 5,
   "metadata": {},
   "outputs": [
    {
     "name": "stdout",
     "output_type": "stream",
     "text": [
      "Totales por sucursal:\n",
      "     Suc_Id  Total_Sucursal\n",
      "0         1             129\n",
      "1         2             129\n",
      "2         3            1564\n",
      "3         4             410\n",
      "4         5             390\n",
      "..      ...             ...\n",
      "286     324             280\n",
      "287     325             308\n",
      "288     326             739\n",
      "289     327             409\n",
      "290     328              36\n",
      "\n",
      "[291 rows x 2 columns]\n"
     ]
    }
   ],
   "source": [
    "# Calcular el total por sucursal\n",
    "totales_sucursal_total = totales_sucursal.groupby('Suc_Id')['Cantidad_Transacciones'].sum().reset_index()\n",
    "totales_sucursal_total.rename(columns={'Cantidad_Transacciones': 'Total_Sucursal'}, inplace=True)\n",
    "# Agregar el total por sucursal al DataFrame\n",
    "totales_sucursal = totales_sucursal.merge(totales_sucursal_total, on='Suc_Id')\n",
    "\n",
    "print(\"Totales por sucursal:\")\n",
    "print(totales_sucursal_total)"
   ]
  },
  {
   "cell_type": "code",
   "execution_count": 6,
   "metadata": {},
   "outputs": [
    {
     "name": "stdout",
     "output_type": "stream",
     "text": [
      "Proporciones por tipo de transacción:\n",
      "     Suc_Id     Tipo_Plan  Cantidad_Transacciones  Total_Sucursal  Proporcion\n",
      "0         1  Tercera Edad                      27             129    0.209302\n",
      "1         1  Todo Publico                     102             129    0.790698\n",
      "2         2  Tercera Edad                      46             129    0.356589\n",
      "3         2  Todo Publico                      83             129    0.643411\n",
      "4         3  Tercera Edad                     500            1564    0.319693\n",
      "..      ...           ...                     ...             ...         ...\n",
      "576     326  Todo Publico                     534             739    0.722598\n",
      "577     327  Tercera Edad                     183             409    0.447433\n",
      "578     327  Todo Publico                     226             409    0.552567\n",
      "579     328  Tercera Edad                      27              36    0.750000\n",
      "580     328  Todo Publico                       9              36    0.250000\n",
      "\n",
      "[581 rows x 5 columns]\n"
     ]
    }
   ],
   "source": [
    "# Calcular proporciones por tipo de transacción en cada sucursal\n",
    "totales_sucursal['Proporcion'] = (\n",
    "    totales_sucursal['Cantidad_Transacciones'] / totales_sucursal['Total_Sucursal']\n",
    ")\n",
    "print(\"Proporciones por tipo de transacción:\")\n",
    "print(totales_sucursal)"
   ]
  },
  {
   "cell_type": "code",
   "execution_count": 7,
   "metadata": {},
   "outputs": [
    {
     "name": "stdout",
     "output_type": "stream",
     "text": [
      "No identificadas:\n",
      "Suc_Id                    53519\n",
      "Dia_Semana                53519\n",
      "Hora                      53519\n",
      "Tipo_Plan                 53519\n",
      "Factura_Fecha             53519\n",
      "Cantidad_Transacciones    53519\n",
      "dtype: int64\n",
      "Redistribuido:\n",
      "        Suc_Id Dia_Semana  Hora      Tipo_Plan_x Factura_Fecha  \\\n",
      "0            1   Saturday    10  No Identificada    2024-10-05   \n",
      "1            1   Saturday    10  No Identificada    2024-10-05   \n",
      "2            1   Saturday    10  No Identificada    2024-10-19   \n",
      "3            1   Saturday    10  No Identificada    2024-10-19   \n",
      "4            1   Saturday    10  No Identificada    2024-10-26   \n",
      "...        ...        ...   ...              ...           ...   \n",
      "107033     328  Wednesday    16  No Identificada    2024-10-23   \n",
      "107034     328  Wednesday    17  No Identificada    2024-10-09   \n",
      "107035     328  Wednesday    17  No Identificada    2024-10-09   \n",
      "107036     328  Wednesday    17  No Identificada    2024-10-23   \n",
      "107037     328  Wednesday    17  No Identificada    2024-10-23   \n",
      "\n",
      "        Cantidad_Transacciones   Tipo_Plan_y  Proporcion  \\\n",
      "0                            1  Tercera Edad    0.209302   \n",
      "1                            1  Todo Publico    0.790698   \n",
      "2                            1  Tercera Edad    0.209302   \n",
      "3                            1  Todo Publico    0.790698   \n",
      "4                            1  Tercera Edad    0.209302   \n",
      "...                        ...           ...         ...   \n",
      "107033                       3  Todo Publico    0.250000   \n",
      "107034                       1  Tercera Edad    0.750000   \n",
      "107035                       1  Todo Publico    0.250000   \n",
      "107036                       2  Tercera Edad    0.750000   \n",
      "107037                       2  Todo Publico    0.250000   \n",
      "\n",
      "        Cantidad_Redistribuida  \n",
      "0                            0  \n",
      "1                            1  \n",
      "2                            0  \n",
      "3                            1  \n",
      "4                            0  \n",
      "...                        ...  \n",
      "107033                       1  \n",
      "107034                       1  \n",
      "107035                       0  \n",
      "107036                       2  \n",
      "107037                       0  \n",
      "\n",
      "[107038 rows x 9 columns]\n"
     ]
    }
   ],
   "source": [
    "# Filtrar solo 'Monedero Farmex Plus' para redistribuir\n",
    "no_identificadas = agrupado[agrupado['Tipo_Plan'] == 'No Identificada']\n",
    "print(\"No identificadas:\")\n",
    "print(no_identificadas.count())\n",
    "# Redistribuir 'Monedero Farmex Plus' según las proporciones\n",
    "redistribuido = no_identificadas.merge(totales_sucursal[['Suc_Id', 'Tipo_Plan', 'Proporcion']], on='Suc_Id')\n",
    "redistribuido['Cantidad_Redistribuida'] = (\n",
    "    redistribuido['Cantidad_Transacciones'] * redistribuido['Proporcion']\n",
    ")\n",
    "\n",
    "# Redondear las cantidades redistribuidas\n",
    "redistribuido['Cantidad_Redistribuida'] = redistribuido['Cantidad_Redistribuida'].round().astype(int)\n",
    "print(\"Redistribuido:\")\n",
    "print(redistribuido)\n"
   ]
  },
  {
   "cell_type": "code",
   "execution_count": 8,
   "metadata": {},
   "outputs": [
    {
     "name": "stdout",
     "output_type": "stream",
     "text": [
      "        Suc_Id Dia_Semana  Hora      Tipo_Plan_x Factura_Fecha  \\\n",
      "0            1   Saturday    10  No Identificada    2024-10-05   \n",
      "1            1   Saturday    10  No Identificada    2024-10-05   \n",
      "2            1   Saturday    10  No Identificada    2024-10-19   \n",
      "3            1   Saturday    10  No Identificada    2024-10-19   \n",
      "4            1   Saturday    10  No Identificada    2024-10-26   \n",
      "...        ...        ...   ...              ...           ...   \n",
      "107033     328  Wednesday    16  No Identificada    2024-10-23   \n",
      "107034     328  Wednesday    17  No Identificada    2024-10-09   \n",
      "107035     328  Wednesday    17  No Identificada    2024-10-09   \n",
      "107036     328  Wednesday    17  No Identificada    2024-10-23   \n",
      "107037     328  Wednesday    17  No Identificada    2024-10-23   \n",
      "\n",
      "        Cantidad_Transacciones   Tipo_Plan_y  Proporcion  \\\n",
      "0                            1  Tercera Edad    0.209302   \n",
      "1                            1  Todo Publico    0.790698   \n",
      "2                            1  Tercera Edad    0.209302   \n",
      "3                            1  Todo Publico    0.790698   \n",
      "4                            1  Tercera Edad    0.209302   \n",
      "...                        ...           ...         ...   \n",
      "107033                       3  Todo Publico    0.250000   \n",
      "107034                       1  Tercera Edad    0.750000   \n",
      "107035                       1  Todo Publico    0.250000   \n",
      "107036                       2  Tercera Edad    0.750000   \n",
      "107037                       2  Todo Publico    0.250000   \n",
      "\n",
      "        Cantidad_Redistribuida  \n",
      "0                            0  \n",
      "1                            1  \n",
      "2                            0  \n",
      "3                            1  \n",
      "4                            0  \n",
      "...                        ...  \n",
      "107033                       1  \n",
      "107034                       1  \n",
      "107035                       0  \n",
      "107036                       2  \n",
      "107037                       0  \n",
      "\n",
      "[107038 rows x 9 columns]\n"
     ]
    }
   ],
   "source": [
    "redistribuido.rename(columns={'Cantidad_Redistribuida': 'Cantidad_Transacciones'})\n",
    "print(redistribuido)"
   ]
  },
  {
   "cell_type": "code",
   "execution_count": 9,
   "metadata": {},
   "outputs": [
    {
     "name": "stdout",
     "output_type": "stream",
     "text": [
      "Actualizado:\n",
      "        Suc_Id Dia_Semana  Hora     Tipo_Plan Factura_Fecha  \\\n",
      "0            1     Friday  11.0  Todo Publico    2024-10-18   \n",
      "1            1     Friday  15.0  Todo Publico    2024-10-18   \n",
      "2            1     Friday  16.0  Tercera Edad    2024-10-04   \n",
      "3            1     Friday  16.0  Todo Publico    2024-10-04   \n",
      "4            1     Friday  17.0  Tercera Edad    2024-10-04   \n",
      "...        ...        ...   ...           ...           ...   \n",
      "107033     328        NaN   NaN  Todo Publico           NaT   \n",
      "107034     328        NaN   NaN  Tercera Edad           NaT   \n",
      "107035     328        NaN   NaN  Todo Publico           NaT   \n",
      "107036     328        NaN   NaN  Tercera Edad           NaT   \n",
      "107037     328        NaN   NaN  Todo Publico           NaT   \n",
      "\n",
      "        Cantidad_Transacciones  \n",
      "0                            2  \n",
      "1                            1  \n",
      "2                            2  \n",
      "3                            2  \n",
      "4                            1  \n",
      "...                        ...  \n",
      "107033                       1  \n",
      "107034                       1  \n",
      "107035                       0  \n",
      "107036                       2  \n",
      "107037                       0  \n",
      "\n",
      "[192136 rows x 6 columns]\n"
     ]
    }
   ],
   "source": [
    "# Actualizar el DataFrame original con las cantidades redistribuidas\n",
    "redistribuido = redistribuido[['Suc_Id', 'Tipo_Plan_y', 'Cantidad_Redistribuida']]\n",
    "redistribuido.rename(columns={'Tipo_Plan_y': 'Tipo_Plan'}, inplace=True)\n",
    "\n",
    "\n",
    "# Concatenar los datos redistribuidos con los originales sin Farmex\n",
    "actualizado = pd.concat([\n",
    "    identificadas,\n",
    "    redistribuido.rename(columns={'Cantidad_Redistribuida': 'Cantidad_Transacciones'})\n",
    "])\n",
    "\n",
    "print(\"Actualizado:\")\n",
    "print(actualizado)"
   ]
  },
  {
   "cell_type": "code",
   "execution_count": 10,
   "metadata": {},
   "outputs": [
    {
     "name": "stdout",
     "output_type": "stream",
     "text": [
      "Tipo_Plan  Suc_Id Dia_Semana  Hora  Tercera Edad  Todo Publico\n",
      "0               1     Friday  11.0           0.0           2.0\n",
      "1               1     Friday  15.0           0.0           1.0\n",
      "2               1     Friday  16.0           2.0           2.0\n",
      "3               1     Friday  17.0           1.0           1.0\n",
      "4               1     Friday  21.0           0.0           1.0\n",
      "...           ...        ...   ...           ...           ...\n",
      "23138         328  Wednesday  14.0           1.0           0.0\n",
      "23139         328  Wednesday  15.0           1.0           1.0\n",
      "23140         328  Wednesday  16.0           1.5           1.5\n",
      "23141         328  Wednesday  17.0           0.0           1.0\n",
      "23142         328  Wednesday  18.0           1.0           0.0\n",
      "\n",
      "[23143 rows x 5 columns]\n"
     ]
    }
   ],
   "source": [
    "# Recalcular el pivot para incluir los nuevos valores\n",
    "pivot_actualizado = actualizado.pivot_table(\n",
    "    index=['Suc_Id', 'Dia_Semana', 'Hora'],\n",
    "    columns='Tipo_Plan',\n",
    "    values='Cantidad_Transacciones',\n",
    "    fill_value=0\n",
    ").reset_index()\n",
    "\n",
    "print(pivot_actualizado)\n",
    "\n"
   ]
  },
  {
   "cell_type": "code",
   "execution_count": 11,
   "metadata": {},
   "outputs": [
    {
     "name": "stdout",
     "output_type": "stream",
     "text": [
      "Tipo_Plan  Suc_Id Dia_Semana  Hora  No Identificada  Tercera Edad  \\\n",
      "0               1     Friday    11                0             0   \n",
      "1               1     Friday    15                0             0   \n",
      "2               1     Friday    16                0             2   \n",
      "3               1     Friday    17                0             1   \n",
      "4               1     Friday    21                0             0   \n",
      "\n",
      "Tipo_Plan  Todo Publico  \n",
      "0                     2  \n",
      "1                     1  \n",
      "2                     2  \n",
      "3                     1  \n",
      "4                     2  \n"
     ]
    }
   ],
   "source": [
    "# Agrupar por sucursal, día de la semana, hora y tipo de transacción\n",
    "agrupado = df.groupby(['Suc_Id', 'Dia_Semana', 'Hora', 'Tipo_Plan']).size().reset_index(name='Cantidad_Transacciones')\n",
    "\n",
    "# Pivotear para obtener una columna por tipo de transacción\n",
    "pivot = agrupado.pivot_table(\n",
    "    index=['Suc_Id', 'Dia_Semana', 'Hora'], \n",
    "    columns='Tipo_Plan', \n",
    "    values='Cantidad_Transacciones', \n",
    "    fill_value=0\n",
    ").reset_index()\n",
    "\n",
    "print(pivot.head())"
   ]
  },
  {
   "cell_type": "code",
   "execution_count": 12,
   "metadata": {},
   "outputs": [
    {
     "name": "stdout",
     "output_type": "stream",
     "text": [
      "23143\n"
     ]
    }
   ],
   "source": [
    "# cantidad de filas\n",
    "print(pivot_actualizado.shape[0])"
   ]
  },
  {
   "cell_type": "code",
   "execution_count": 14,
   "metadata": {},
   "outputs": [
    {
     "ename": "KeyError",
     "evalue": "'Todo Publico'",
     "output_type": "error",
     "traceback": [
      "\u001b[1;31m---------------------------------------------------------------------------\u001b[0m",
      "\u001b[1;31mKeyError\u001b[0m                                  Traceback (most recent call last)",
      "File \u001b[1;32mc:\\Program Files\\Python38\\lib\\site-packages\\pandas\\core\\indexes\\base.py:3653\u001b[0m, in \u001b[0;36mIndex.get_loc\u001b[1;34m(self, key)\u001b[0m\n\u001b[0;32m   3652\u001b[0m \u001b[38;5;28;01mtry\u001b[39;00m:\n\u001b[1;32m-> 3653\u001b[0m     \u001b[38;5;28;01mreturn\u001b[39;00m \u001b[38;5;28;43mself\u001b[39;49m\u001b[38;5;241;43m.\u001b[39;49m\u001b[43m_engine\u001b[49m\u001b[38;5;241;43m.\u001b[39;49m\u001b[43mget_loc\u001b[49m\u001b[43m(\u001b[49m\u001b[43mcasted_key\u001b[49m\u001b[43m)\u001b[49m\n\u001b[0;32m   3654\u001b[0m \u001b[38;5;28;01mexcept\u001b[39;00m \u001b[38;5;167;01mKeyError\u001b[39;00m \u001b[38;5;28;01mas\u001b[39;00m err:\n",
      "File \u001b[1;32mc:\\Program Files\\Python38\\lib\\site-packages\\pandas\\_libs\\index.pyx:147\u001b[0m, in \u001b[0;36mpandas._libs.index.IndexEngine.get_loc\u001b[1;34m()\u001b[0m\n",
      "File \u001b[1;32mc:\\Program Files\\Python38\\lib\\site-packages\\pandas\\_libs\\index.pyx:176\u001b[0m, in \u001b[0;36mpandas._libs.index.IndexEngine.get_loc\u001b[1;34m()\u001b[0m\n",
      "File \u001b[1;32mpandas\\_libs\\hashtable_class_helper.pxi:7080\u001b[0m, in \u001b[0;36mpandas._libs.hashtable.PyObjectHashTable.get_item\u001b[1;34m()\u001b[0m\n",
      "File \u001b[1;32mpandas\\_libs\\hashtable_class_helper.pxi:7088\u001b[0m, in \u001b[0;36mpandas._libs.hashtable.PyObjectHashTable.get_item\u001b[1;34m()\u001b[0m\n",
      "\u001b[1;31mKeyError\u001b[0m: 'Todo Publico'",
      "\nThe above exception was the direct cause of the following exception:\n",
      "\u001b[1;31mKeyError\u001b[0m                                  Traceback (most recent call last)",
      "Cell \u001b[1;32mIn[14], line 8\u001b[0m\n\u001b[0;32m      1\u001b[0m \u001b[38;5;28;01mimport\u001b[39;00m \u001b[38;5;21;01mnumpy\u001b[39;00m \u001b[38;5;28;01mas\u001b[39;00m \u001b[38;5;21;01mnp\u001b[39;00m\n\u001b[0;32m      2\u001b[0m tiempos_transaccion \u001b[38;5;241m=\u001b[39m {\n\u001b[0;32m      3\u001b[0m     \u001b[38;5;124m'\u001b[39m\u001b[38;5;124mTodo Publico\u001b[39m\u001b[38;5;124m'\u001b[39m: \u001b[38;5;241m14.085435\u001b[39m,  \u001b[38;5;66;03m# Minutos\u001b[39;00m\n\u001b[0;32m      4\u001b[0m     \u001b[38;5;124m'\u001b[39m\u001b[38;5;124mTercera Edad\u001b[39m\u001b[38;5;124m'\u001b[39m: \u001b[38;5;241m15.183400\u001b[39m\n\u001b[0;32m      5\u001b[0m }\n\u001b[0;32m      7\u001b[0m pivot_actualizado[\u001b[38;5;124m'\u001b[39m\u001b[38;5;124mTiempo_Total\u001b[39m\u001b[38;5;124m'\u001b[39m] \u001b[38;5;241m=\u001b[39m (\n\u001b[1;32m----> 8\u001b[0m     \u001b[43mpivot_actualizado\u001b[49m\u001b[43m[\u001b[49m\u001b[38;5;124;43m'\u001b[39;49m\u001b[38;5;124;43mTodo Publico\u001b[39;49m\u001b[38;5;124;43m'\u001b[39;49m\u001b[43m]\u001b[49m \u001b[38;5;241m*\u001b[39m tiempos_transaccion[\u001b[38;5;124m'\u001b[39m\u001b[38;5;124mTodo Publico\u001b[39m\u001b[38;5;124m'\u001b[39m] \u001b[38;5;241m+\u001b[39m\n\u001b[0;32m      9\u001b[0m     pivot_actualizado[\u001b[38;5;124m'\u001b[39m\u001b[38;5;124mTercera Edad\u001b[39m\u001b[38;5;124m'\u001b[39m] \u001b[38;5;241m*\u001b[39m tiempos_transaccion[\u001b[38;5;124m'\u001b[39m\u001b[38;5;124mTercera Edad\u001b[39m\u001b[38;5;124m'\u001b[39m]\n\u001b[0;32m     10\u001b[0m )\n\u001b[0;32m     12\u001b[0m pivot_actualizado[\u001b[38;5;124m'\u001b[39m\u001b[38;5;124mPersonal_Necesario\u001b[39m\u001b[38;5;124m'\u001b[39m] \u001b[38;5;241m=\u001b[39m np\u001b[38;5;241m.\u001b[39mceil(pivot_actualizado[\u001b[38;5;124m'\u001b[39m\u001b[38;5;124mTiempo_Total\u001b[39m\u001b[38;5;124m'\u001b[39m] \u001b[38;5;241m/\u001b[39m \u001b[38;5;241m42\u001b[39m)\n\u001b[0;32m     14\u001b[0m pivot_actualizado[\u001b[38;5;124m'\u001b[39m\u001b[38;5;124mDia_Semana\u001b[39m\u001b[38;5;124m'\u001b[39m] \u001b[38;5;241m=\u001b[39m pivot_actualizado[\u001b[38;5;124m'\u001b[39m\u001b[38;5;124mDia_Semana\u001b[39m\u001b[38;5;124m'\u001b[39m]\u001b[38;5;241m.\u001b[39mmap({\n\u001b[0;32m     15\u001b[0m     \u001b[38;5;124m'\u001b[39m\u001b[38;5;124mMonday\u001b[39m\u001b[38;5;124m'\u001b[39m: \u001b[38;5;241m1\u001b[39m,\n\u001b[0;32m     16\u001b[0m     \u001b[38;5;124m'\u001b[39m\u001b[38;5;124mTuesday\u001b[39m\u001b[38;5;124m'\u001b[39m: \u001b[38;5;241m2\u001b[39m,\n\u001b[1;32m   (...)\u001b[0m\n\u001b[0;32m     21\u001b[0m     \u001b[38;5;124m'\u001b[39m\u001b[38;5;124mSunday\u001b[39m\u001b[38;5;124m'\u001b[39m: \u001b[38;5;241m7\u001b[39m\n\u001b[0;32m     22\u001b[0m })\n",
      "File \u001b[1;32mc:\\Program Files\\Python38\\lib\\site-packages\\pandas\\core\\frame.py:3761\u001b[0m, in \u001b[0;36mDataFrame.__getitem__\u001b[1;34m(self, key)\u001b[0m\n\u001b[0;32m   3759\u001b[0m \u001b[38;5;28;01mif\u001b[39;00m \u001b[38;5;28mself\u001b[39m\u001b[38;5;241m.\u001b[39mcolumns\u001b[38;5;241m.\u001b[39mnlevels \u001b[38;5;241m>\u001b[39m \u001b[38;5;241m1\u001b[39m:\n\u001b[0;32m   3760\u001b[0m     \u001b[38;5;28;01mreturn\u001b[39;00m \u001b[38;5;28mself\u001b[39m\u001b[38;5;241m.\u001b[39m_getitem_multilevel(key)\n\u001b[1;32m-> 3761\u001b[0m indexer \u001b[38;5;241m=\u001b[39m \u001b[38;5;28;43mself\u001b[39;49m\u001b[38;5;241;43m.\u001b[39;49m\u001b[43mcolumns\u001b[49m\u001b[38;5;241;43m.\u001b[39;49m\u001b[43mget_loc\u001b[49m\u001b[43m(\u001b[49m\u001b[43mkey\u001b[49m\u001b[43m)\u001b[49m\n\u001b[0;32m   3762\u001b[0m \u001b[38;5;28;01mif\u001b[39;00m is_integer(indexer):\n\u001b[0;32m   3763\u001b[0m     indexer \u001b[38;5;241m=\u001b[39m [indexer]\n",
      "File \u001b[1;32mc:\\Program Files\\Python38\\lib\\site-packages\\pandas\\core\\indexes\\base.py:3655\u001b[0m, in \u001b[0;36mIndex.get_loc\u001b[1;34m(self, key)\u001b[0m\n\u001b[0;32m   3653\u001b[0m     \u001b[38;5;28;01mreturn\u001b[39;00m \u001b[38;5;28mself\u001b[39m\u001b[38;5;241m.\u001b[39m_engine\u001b[38;5;241m.\u001b[39mget_loc(casted_key)\n\u001b[0;32m   3654\u001b[0m \u001b[38;5;28;01mexcept\u001b[39;00m \u001b[38;5;167;01mKeyError\u001b[39;00m \u001b[38;5;28;01mas\u001b[39;00m err:\n\u001b[1;32m-> 3655\u001b[0m     \u001b[38;5;28;01mraise\u001b[39;00m \u001b[38;5;167;01mKeyError\u001b[39;00m(key) \u001b[38;5;28;01mfrom\u001b[39;00m \u001b[38;5;21;01merr\u001b[39;00m\n\u001b[0;32m   3656\u001b[0m \u001b[38;5;28;01mexcept\u001b[39;00m \u001b[38;5;167;01mTypeError\u001b[39;00m:\n\u001b[0;32m   3657\u001b[0m     \u001b[38;5;66;03m# If we have a listlike key, _check_indexing_error will raise\u001b[39;00m\n\u001b[0;32m   3658\u001b[0m     \u001b[38;5;66;03m#  InvalidIndexError. Otherwise we fall through and re-raise\u001b[39;00m\n\u001b[0;32m   3659\u001b[0m     \u001b[38;5;66;03m#  the TypeError.\u001b[39;00m\n\u001b[0;32m   3660\u001b[0m     \u001b[38;5;28mself\u001b[39m\u001b[38;5;241m.\u001b[39m_check_indexing_error(key)\n",
      "\u001b[1;31mKeyError\u001b[0m: 'Todo Publico'"
     ]
    }
   ],
   "source": [
    "import numpy as np\n",
    "tiempos_transaccion = {\n",
    "    'Todo Publico': 14.085435,  # Minutos\n",
    "    'Tercera Edad': 15.183400\n",
    "}\n",
    "\n",
    "pivot_actualizado['Tiempo_Total'] = (\n",
    "    pivot_actualizado['Todo Publico'] * tiempos_transaccion['Todo Publico'] +\n",
    "    pivot_actualizado['Tercera Edad'] * tiempos_transaccion['Tercera Edad']\n",
    ")\n",
    "\n",
    "pivot_actualizado['Personal_Necesario'] = np.ceil(pivot_actualizado['Tiempo_Total'] / 42)\n",
    "\n",
    "pivot_actualizado['Dia_Semana'] = pivot_actualizado['Dia_Semana'].map({\n",
    "    'Monday': 1,\n",
    "    'Tuesday': 2,\n",
    "    'Wednesday': 3,\n",
    "    'Thursday': 4,\n",
    "    'Friday': 5,\n",
    "    'Saturday': 6,\n",
    "    'Sunday': 7\n",
    "})\n",
    "pivot_actualizado['Transacciones_Totales'] = pivot_actualizado['Todo Publico'] + pivot_actualizado['Tercera Edad']\n",
    "\n",
    "# Columnas a guardar en el csv [Suc_Id, Dia_Semana(en numero de 1 a 7), Hora, Transacciones totales, Personal_Necesario]\n",
    "pivot_actualizado = pivot_actualizado[['Suc_Id', 'Dia_Semana', 'Hora', 'Transacciones_Totales', 'Personal_Necesario']]\n",
    "# pivot_actualizado.to_csv('personal_necesario.csv', index=False)\n",
    "print(\"cantidad de filas: \", pivot_actualizado.shape[0])\n",
    "\n",
    "print(\"cabtidad de sucursales: \", pivot_actualizado['Suc_Id'].nunique())\n"
   ]
  },
  {
   "cell_type": "code",
   "execution_count": 15,
   "metadata": {},
   "outputs": [
    {
     "name": "stdout",
     "output_type": "stream",
     "text": [
      "cabtidad de sucursales:  291\n"
     ]
    }
   ],
   "source": [
    "print(\"cabtidad de sucursales: \", pivot_actualizado['Suc_Id'].nunique())"
   ]
  }
 ],
 "metadata": {
  "kernelspec": {
   "display_name": "Python 3",
   "language": "python",
   "name": "python3"
  },
  "language_info": {
   "codemirror_mode": {
    "name": "ipython",
    "version": 3
   },
   "file_extension": ".py",
   "mimetype": "text/x-python",
   "name": "python",
   "nbconvert_exporter": "python",
   "pygments_lexer": "ipython3",
   "version": "3.8.10"
  }
 },
 "nbformat": 4,
 "nbformat_minor": 2
}
