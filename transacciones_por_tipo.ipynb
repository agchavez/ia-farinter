{
 "cells": [
  {
   "cell_type": "code",
   "execution_count": 1,
   "metadata": {},
   "outputs": [],
   "source": [
    "import polars as pl\n",
    "import matplotlib.pyplot as plt\n",
    "import pandas as pd\n",
    "from sqlalchemy import text\n",
    "\n",
    "from sqlalchemy import create_engine\n",
    "from urllib.parse import quote_plus\n",
    "\n",
    "\n",
    "connection_string = (\n",
    "    'mssql+pyodbc://'\n",
    "    'Angel_chavez:{}@172.16.2.227\\\\DWHFARINTERDEV/BI_FARINTER?'\n",
    "    'driver=ODBC+Driver+17+for+SQL+Server'.format(quote_plus('@ng3l_ch@v3z'))\n",
    ")\n",
    "engine = create_engine(connection_string)\n",
    "query = text(\"\"\"SELECT\n",
    "    fc.Suc_Id,\n",
    "    fc.Emp_Id,\n",
    "    fc.Caja_Id,\n",
    "    fc.Factura_Id,\n",
    "    fc.Factura_Fecha,\n",
    "    fc.Factura_FechaHora,\n",
    "    fc.AnioMes_Id,\n",
    "    fc.Cliente_Id,\n",
    "    fc.MonederoTarj_Id,\n",
    "    fc.Vendedor_Id,\n",
    "    CASE \n",
    "        WHEN fc.Monedero_Id = '0' THEN 'No Identificada'\n",
    "        ELSE md.Tipo_Plan \n",
    "    END AS Tipo_Plan,\n",
    "    md.Edad,\n",
    "    suc.TipoSucursal_Id,\n",
    "    suc.TipoSucursal_Nombre,\n",
    "    suc.Zona_Id,\n",
    "    suc.Zona_Nombre\n",
    "FROM\n",
    "    [BI_Kielsa_Hecho_FacturaEncabezado] AS fc\n",
    "    JOIN [BI_Kielsa_Dim_Monedero] AS md \n",
    "        ON md.Monedero_Id = fc.Monedero_Id AND md.Emp_Id = fc.Emp_Id       \n",
    "    JOIN [BI_Kielsa_Dim_Sucursal] AS suc \n",
    "        ON suc.Sucursal_Id = fc.Suc_Id AND suc.Emp_Id = fc.Emp_Id\n",
    "WHERE\n",
    "    fc.AnioMes_Id = 202410 \n",
    "    AND fc.Emp_Id = 1;\"\"\")\n",
    "\n",
    "with engine.connect() as conn:\n",
    "    df_base = pd.read_sql(query, conn, index_col='Factura_Id')\n"
   ]
  },
  {
   "cell_type": "code",
   "execution_count": 4,
   "metadata": {},
   "outputs": [
    {
     "data": {
      "text/html": [
       "<div>\n",
       "<style scoped>\n",
       "    .dataframe tbody tr th:only-of-type {\n",
       "        vertical-align: middle;\n",
       "    }\n",
       "\n",
       "    .dataframe tbody tr th {\n",
       "        vertical-align: top;\n",
       "    }\n",
       "\n",
       "    .dataframe thead th {\n",
       "        text-align: right;\n",
       "    }\n",
       "</style>\n",
       "<table border=\"1\" class=\"dataframe\">\n",
       "  <thead>\n",
       "    <tr style=\"text-align: right;\">\n",
       "      <th></th>\n",
       "      <th>Suc_Id</th>\n",
       "      <th>Emp_Id</th>\n",
       "      <th>Caja_Id</th>\n",
       "      <th>Factura_Fecha</th>\n",
       "      <th>Factura_FechaHora</th>\n",
       "      <th>AnioMes_Id</th>\n",
       "      <th>Cliente_Id</th>\n",
       "      <th>MonederoTarj_Id</th>\n",
       "      <th>Vendedor_Id</th>\n",
       "      <th>Tipo_Plan</th>\n",
       "      <th>Edad</th>\n",
       "      <th>TipoSucursal_Id</th>\n",
       "      <th>TipoSucursal_Nombre</th>\n",
       "      <th>Zona_Id</th>\n",
       "      <th>Zona_Nombre</th>\n",
       "    </tr>\n",
       "    <tr>\n",
       "      <th>Factura_Id</th>\n",
       "      <th></th>\n",
       "      <th></th>\n",
       "      <th></th>\n",
       "      <th></th>\n",
       "      <th></th>\n",
       "      <th></th>\n",
       "      <th></th>\n",
       "      <th></th>\n",
       "      <th></th>\n",
       "      <th></th>\n",
       "      <th></th>\n",
       "      <th></th>\n",
       "      <th></th>\n",
       "      <th></th>\n",
       "      <th></th>\n",
       "    </tr>\n",
       "  </thead>\n",
       "  <tbody>\n",
       "    <tr>\n",
       "      <th>15073</th>\n",
       "      <td>118</td>\n",
       "      <td>1</td>\n",
       "      <td>3</td>\n",
       "      <td>2024-10-26</td>\n",
       "      <td>13:20:38</td>\n",
       "      <td>202410</td>\n",
       "      <td>10000001</td>\n",
       "      <td>0502-1996-01137</td>\n",
       "      <td>10002837</td>\n",
       "      <td>Monedero todo publico</td>\n",
       "      <td>28</td>\n",
       "      <td>8</td>\n",
       "      <td>Supermercado</td>\n",
       "      <td>2</td>\n",
       "      <td>NORTE</td>\n",
       "    </tr>\n",
       "    <tr>\n",
       "      <th>119584</th>\n",
       "      <td>56</td>\n",
       "      <td>1</td>\n",
       "      <td>1</td>\n",
       "      <td>2024-10-01</td>\n",
       "      <td>13:11:58</td>\n",
       "      <td>202410</td>\n",
       "      <td>10000001</td>\n",
       "      <td>0502-1996-01177</td>\n",
       "      <td>10003784</td>\n",
       "      <td>Monedero todo publico</td>\n",
       "      <td>28</td>\n",
       "      <td>3</td>\n",
       "      <td>Clínica/Hospitalaria</td>\n",
       "      <td>2</td>\n",
       "      <td>NORTE</td>\n",
       "    </tr>\n",
       "    <tr>\n",
       "      <th>17786</th>\n",
       "      <td>268</td>\n",
       "      <td>1</td>\n",
       "      <td>1</td>\n",
       "      <td>2024-10-22</td>\n",
       "      <td>16:26:31</td>\n",
       "      <td>202410</td>\n",
       "      <td>10000001</td>\n",
       "      <td>0502-1996-01178</td>\n",
       "      <td>10004530</td>\n",
       "      <td>Monedero todo publico</td>\n",
       "      <td>28</td>\n",
       "      <td>9</td>\n",
       "      <td>Plaza Comercial</td>\n",
       "      <td>2</td>\n",
       "      <td>NORTE</td>\n",
       "    </tr>\n",
       "    <tr>\n",
       "      <th>73545</th>\n",
       "      <td>248</td>\n",
       "      <td>1</td>\n",
       "      <td>4</td>\n",
       "      <td>2024-10-22</td>\n",
       "      <td>17:19:22</td>\n",
       "      <td>202410</td>\n",
       "      <td>10000001</td>\n",
       "      <td>0502-1996-01288</td>\n",
       "      <td>10004684</td>\n",
       "      <td>Monedero todo publico</td>\n",
       "      <td>29</td>\n",
       "      <td>9</td>\n",
       "      <td>Plaza Comercial</td>\n",
       "      <td>2</td>\n",
       "      <td>NORTE</td>\n",
       "    </tr>\n",
       "    <tr>\n",
       "      <th>22382</th>\n",
       "      <td>268</td>\n",
       "      <td>1</td>\n",
       "      <td>2</td>\n",
       "      <td>2024-10-30</td>\n",
       "      <td>19:09:34</td>\n",
       "      <td>202410</td>\n",
       "      <td>10000001</td>\n",
       "      <td>0502-1996-01632</td>\n",
       "      <td>10004530</td>\n",
       "      <td>Monedero todo publico</td>\n",
       "      <td>28</td>\n",
       "      <td>9</td>\n",
       "      <td>Plaza Comercial</td>\n",
       "      <td>2</td>\n",
       "      <td>NORTE</td>\n",
       "    </tr>\n",
       "  </tbody>\n",
       "</table>\n",
       "</div>"
      ],
      "text/plain": [
       "            Suc_Id  Emp_Id  Caja_Id Factura_Fecha Factura_FechaHora  \\\n",
       "Factura_Id                                                            \n",
       "15073          118       1        3    2024-10-26          13:20:38   \n",
       "119584          56       1        1    2024-10-01          13:11:58   \n",
       "17786          268       1        1    2024-10-22          16:26:31   \n",
       "73545          248       1        4    2024-10-22          17:19:22   \n",
       "22382          268       1        2    2024-10-30          19:09:34   \n",
       "\n",
       "            AnioMes_Id  Cliente_Id  MonederoTarj_Id  Vendedor_Id  \\\n",
       "Factura_Id                                                         \n",
       "15073           202410    10000001  0502-1996-01137     10002837   \n",
       "119584          202410    10000001  0502-1996-01177     10003784   \n",
       "17786           202410    10000001  0502-1996-01178     10004530   \n",
       "73545           202410    10000001  0502-1996-01288     10004684   \n",
       "22382           202410    10000001  0502-1996-01632     10004530   \n",
       "\n",
       "                        Tipo_Plan  Edad  TipoSucursal_Id  \\\n",
       "Factura_Id                                                 \n",
       "15073       Monedero todo publico    28                8   \n",
       "119584      Monedero todo publico    28                3   \n",
       "17786       Monedero todo publico    28                9   \n",
       "73545       Monedero todo publico    29                9   \n",
       "22382       Monedero todo publico    28                9   \n",
       "\n",
       "             TipoSucursal_Nombre  Zona_Id Zona_Nombre  \n",
       "Factura_Id                                             \n",
       "15073               Supermercado        2       NORTE  \n",
       "119584      Clínica/Hospitalaria        2       NORTE  \n",
       "17786            Plaza Comercial        2       NORTE  \n",
       "73545            Plaza Comercial        2       NORTE  \n",
       "22382            Plaza Comercial        2       NORTE  "
      ]
     },
     "execution_count": 4,
     "metadata": {},
     "output_type": "execute_result"
    }
   ],
   "source": [
    "df_base.head()"
   ]
  },
  {
   "cell_type": "code",
   "execution_count": 2,
   "metadata": {},
   "outputs": [
    {
     "name": "stdout",
     "output_type": "stream",
     "text": [
      "Index(['Suc_Id', 'Emp_Id', 'Caja_Id', 'Factura_Fecha', 'Factura_FechaHora',\n",
      "       'AnioMes_Id', 'Cliente_Id', 'MonederoTarj_Id', 'Vendedor_Id',\n",
      "       'Tipo_Plan', 'Edad', 'TipoSucursal_Id', 'TipoSucursal_Nombre',\n",
      "       'Zona_Id', 'Zona_Nombre'],\n",
      "      dtype='object')\n"
     ]
    }
   ],
   "source": [
    "print(df_base.columns)"
   ]
  },
  {
   "cell_type": "code",
   "execution_count": null,
   "metadata": {},
   "outputs": [
    {
     "data": {
      "text/plain": [
       "array(['Monedero todo publico', 'Monedero tercera edad',\n",
       "       'Monedero Cuarta Edad', 'Club de Médicos', 'Monedero Clínica TE',\n",
       "       'Monedero Clínica TP', 'No Identificada'], dtype=object)"
      ]
     },
     "execution_count": 3,
     "metadata": {},
     "output_type": "execute_result"
    }
   ],
   "source": [
    "df_base.Tipo_Plan.unique()\n",
    "\n"
   ]
  },
  {
   "cell_type": "code",
   "execution_count": 4,
   "metadata": {},
   "outputs": [
    {
     "name": "stdout",
     "output_type": "stream",
     "text": [
      "Cantidad de transacciones por tipo antes de mapear:\n",
      "Tipo_Plan\n",
      "No Identificada          146320\n",
      "Monedero todo publico    111266\n",
      "Monedero tercera edad     57107\n",
      "Monedero Cuarta Edad       2394\n",
      "Monedero Clínica TP          10\n",
      "Monedero Clínica TE           9\n",
      "Club de Médicos               4\n",
      "Name: count, dtype: int64\n",
      "Agrupado:\n",
      "   Suc_Id Dia_Semana  Hora     Tipo_Plan Factura_Fecha  Cantidad_Transacciones\n",
      "0       1     Friday    11  Todo Publico    2024-10-18                       2\n",
      "1       1     Friday    15  Todo Publico    2024-10-18                       1\n",
      "2       1     Friday    16  Tercera Edad    2024-10-04                       2\n",
      "3       1     Friday    16  Todo Publico    2024-10-04                       2\n",
      "4       1     Friday    17  Tercera Edad    2024-10-04                       1\n"
     ]
    }
   ],
   "source": [
    "# Crear una copia del DataFrame original\n",
    "df = df_base.copy()\n",
    "\n",
    "# solo tomar la caja 1\n",
    "df = df[df['Caja_Id'] == 1]\n",
    "\n",
    "# Convertir los valores de hora a cadenas\n",
    "df['Factura_FechaHora'] = df['Factura_FechaHora'].astype(str)\n",
    "\n",
    "# Agregar una fecha ficticia a los valores de hora\n",
    "df['Factura_FechaHora'] = '1900-01-01 ' + df['Factura_FechaHora']\n",
    "\n",
    "# Convertir la columna Factura_FechaHora a datetime\n",
    "df['Factura_FechaHora'] = pd.to_datetime(df['Factura_FechaHora'], format='%Y-%m-%d %H:%M:%S', errors='coerce')\n",
    "\n",
    "# Asegúrate de que Factura_Fecha y Factura_FechaHora sean tipo datetime\n",
    "df['Factura_Fecha'] = pd.to_datetime(df['Factura_Fecha'])\n",
    "\n",
    "# Crear el diccionario para mapear los tipos de transacciones\n",
    "tipos_transaccion = {\n",
    "    'Monedero tercera edad': 'Tercera Edad',\n",
    "    'Monedero Cuarta Edad': 'Tercera Edad',\n",
    "    'Monedero todo publico': 'Todo Publico',\n",
    "    'Monedero Clínica TP': 'Todo Publico',\n",
    "    'Monedero Clínica TE': 'Tercera Edad',\n",
    "    'No Identificada': 'No Identificada',\n",
    "}\n",
    "\n",
    "print(\"Cantidad de transacciones por tipo antes de mapear:\")\n",
    "print(df['Tipo_Plan'].value_counts())\n",
    "\n",
    "# Mapear los tipos de transacciones y eliminar las no relevantes\n",
    "df['Tipo_Plan'] = df['Tipo_Plan'].map(tipos_transaccion)\n",
    "df = df.dropna(subset=['Tipo_Plan'])\n",
    "\n",
    "# Extraer hora y día de la semana para el agrupamiento\n",
    "df['Hora'] = df['Factura_FechaHora'].dt.hour\n",
    "df['Dia_Semana'] = df['Factura_Fecha'].dt.day_name()\n",
    "\n",
    "# Agrupar por sucursal, día de la semana, hora y tipo de transacción\n",
    "agrupado = df.groupby(['Suc_Id', 'Dia_Semana', 'Hora', 'Tipo_Plan','Factura_Fecha']\n",
    "                      ).size().reset_index(name='Cantidad_Transacciones')\n",
    "\n",
    "print(\"Agrupado:\")\n",
    "print(agrupado.head())\n"
   ]
  },
  {
   "cell_type": "code",
   "execution_count": null,
   "metadata": {},
   "outputs": [
    {
     "name": "stdout",
     "output_type": "stream",
     "text": [
      "36\n",
      "Fila con cantidad máxima de transacciones:\n",
      "       Suc_Id Dia_Semana  Hora        Tipo_Plan Factura_Fecha  \\\n",
      "68843     142   Thursday    12  No Identificada    2024-10-24   \n",
      "69069     142  Wednesday    12  No Identificada    2024-10-30   \n",
      "\n",
      "       Cantidad_Transacciones  \n",
      "68843                      36  \n",
      "69069                      36  \n"
     ]
    }
   ],
   "source": []
  },
  {
   "cell_type": "markdown",
   "metadata": {},
   "source": [
    "## Separar los transacciones no identificadas\n",
    "### Descripción\n",
    "Dado un conjunto de transacciones identificadas y no identificadas, se desea separar las transacciones no identificadas en dos grupos de acuerdo a la cantidad de transacciones que se pueden identificar con las transacciones identificadas. Para ello, se propone el siguiente algoritmo:\n",
    "1. Se crea un grafo donde los nodos son las transacciones identificadas y las\n",
    "aristas son las transacciones que comparten al menos un producto con otra\n",
    "transacción.\n",
    "2. Se recorre el grafo y se identifican las componentes conexas.\n",
    "3. Se asigna cada transacción no identificada a la componente conexa que\n",
    "comparta más productos con ella.\n",
    "### Formato de entrada\n",
    "La entrada consiste de un entero n (1 ≤ n ≤ 100) que indica\n",
    "la cantidad de transacciones identificadas, seguido de n líneas con las transacciones identificadas. Cada transacción identificada consiste de un entero m (1 ≤ m ≤ 100) que indica la cantidad de\n"
   ]
  },
  {
   "cell_type": "code",
   "execution_count": 10,
   "metadata": {},
   "outputs": [
    {
     "name": "stdout",
     "output_type": "stream",
     "text": [
      "Totales por sucursal:\n",
      "     Suc_Id     Tipo_Plan  Cantidad_Transacciones\n",
      "0         1  Tercera Edad                      27\n",
      "1         1  Todo Publico                     102\n",
      "2         2  Tercera Edad                      46\n",
      "3         2  Todo Publico                      83\n",
      "4         3  Tercera Edad                     500\n",
      "..      ...           ...                     ...\n",
      "576     326  Todo Publico                     534\n",
      "577     327  Tercera Edad                     183\n",
      "578     327  Todo Publico                     226\n",
      "579     328  Tercera Edad                      27\n",
      "580     328  Todo Publico                       9\n",
      "\n",
      "[581 rows x 3 columns]\n"
     ]
    }
   ],
   "source": [
    "# Filtrar el DataFrame para excluir 'Monedero Farmex Plus' y calcular totales por sucursal y tipo\n",
    "identificadas = agrupado[agrupado['Tipo_Plan'] != 'No Identificada']\n",
    "totales_sucursal = identificadas.groupby(['Suc_Id', 'Tipo_Plan'])['Cantidad_Transacciones'].sum().reset_index()\n",
    "print(\"Totales por sucursal:\")\n",
    "print(totales_sucursal)\n"
   ]
  },
  {
   "cell_type": "code",
   "execution_count": null,
   "metadata": {},
   "outputs": [],
   "source": []
  },
  {
   "cell_type": "code",
   "execution_count": 11,
   "metadata": {},
   "outputs": [
    {
     "name": "stdout",
     "output_type": "stream",
     "text": [
      "Totales por sucursal:\n",
      "     Suc_Id  Total_Sucursal\n",
      "0         1             129\n",
      "1         2             129\n",
      "2         3            1564\n",
      "3         4             410\n",
      "4         5             390\n",
      "..      ...             ...\n",
      "286     324             280\n",
      "287     325             308\n",
      "288     326             739\n",
      "289     327             409\n",
      "290     328              36\n",
      "\n",
      "[291 rows x 2 columns]\n"
     ]
    }
   ],
   "source": [
    "# Calcular el total por sucursal\n",
    "totales_sucursal_total = totales_sucursal.groupby('Suc_Id')['Cantidad_Transacciones'].sum().reset_index()\n",
    "totales_sucursal_total.rename(columns={'Cantidad_Transacciones': 'Total_Sucursal'}, inplace=True)\n",
    "# Agregar el total por sucursal al DataFrame\n",
    "totales_sucursal = totales_sucursal.merge(totales_sucursal_total, on='Suc_Id')\n",
    "\n",
    "print(\"Totales por sucursal:\")\n",
    "print(totales_sucursal_total)"
   ]
  },
  {
   "cell_type": "code",
   "execution_count": 12,
   "metadata": {},
   "outputs": [
    {
     "name": "stdout",
     "output_type": "stream",
     "text": [
      "Proporciones por tipo de transacción:\n",
      "     Suc_Id     Tipo_Plan  Cantidad_Transacciones  Total_Sucursal  Proporcion\n",
      "0         1  Tercera Edad                      27             129    0.209302\n",
      "1         1  Todo Publico                     102             129    0.790698\n",
      "2         2  Tercera Edad                      46             129    0.356589\n",
      "3         2  Todo Publico                      83             129    0.643411\n",
      "4         3  Tercera Edad                     500            1564    0.319693\n",
      "..      ...           ...                     ...             ...         ...\n",
      "576     326  Todo Publico                     534             739    0.722598\n",
      "577     327  Tercera Edad                     183             409    0.447433\n",
      "578     327  Todo Publico                     226             409    0.552567\n",
      "579     328  Tercera Edad                      27              36    0.750000\n",
      "580     328  Todo Publico                       9              36    0.250000\n",
      "\n",
      "[581 rows x 5 columns]\n"
     ]
    }
   ],
   "source": [
    "# Calcular proporciones por tipo de transacción en cada sucursal\n",
    "totales_sucursal['Proporcion'] = (\n",
    "    totales_sucursal['Cantidad_Transacciones'] / totales_sucursal['Total_Sucursal']\n",
    ")\n",
    "print(\"Proporciones por tipo de transacción:\")\n",
    "print(totales_sucursal)"
   ]
  },
  {
   "cell_type": "code",
   "execution_count": 13,
   "metadata": {},
   "outputs": [
    {
     "name": "stdout",
     "output_type": "stream",
     "text": [
      "No identificadas:\n",
      "Suc_Id                    53519\n",
      "Dia_Semana                53519\n",
      "Hora                      53519\n",
      "Tipo_Plan                 53519\n",
      "Factura_Fecha             53519\n",
      "Cantidad_Transacciones    53519\n",
      "dtype: int64\n",
      "Redistribuido:\n",
      "        Suc_Id Dia_Semana  Hora      Tipo_Plan_x Factura_Fecha  \\\n",
      "0            1   Saturday    10  No Identificada    2024-10-05   \n",
      "1            1   Saturday    10  No Identificada    2024-10-05   \n",
      "2            1   Saturday    10  No Identificada    2024-10-19   \n",
      "3            1   Saturday    10  No Identificada    2024-10-19   \n",
      "4            1   Saturday    10  No Identificada    2024-10-26   \n",
      "...        ...        ...   ...              ...           ...   \n",
      "107033     328  Wednesday    16  No Identificada    2024-10-23   \n",
      "107034     328  Wednesday    17  No Identificada    2024-10-09   \n",
      "107035     328  Wednesday    17  No Identificada    2024-10-09   \n",
      "107036     328  Wednesday    17  No Identificada    2024-10-23   \n",
      "107037     328  Wednesday    17  No Identificada    2024-10-23   \n",
      "\n",
      "        Cantidad_Transacciones   Tipo_Plan_y  Proporcion  \\\n",
      "0                            1  Tercera Edad    0.209302   \n",
      "1                            1  Todo Publico    0.790698   \n",
      "2                            1  Tercera Edad    0.209302   \n",
      "3                            1  Todo Publico    0.790698   \n",
      "4                            1  Tercera Edad    0.209302   \n",
      "...                        ...           ...         ...   \n",
      "107033                       3  Todo Publico    0.250000   \n",
      "107034                       1  Tercera Edad    0.750000   \n",
      "107035                       1  Todo Publico    0.250000   \n",
      "107036                       2  Tercera Edad    0.750000   \n",
      "107037                       2  Todo Publico    0.250000   \n",
      "\n",
      "        Cantidad_Redistribuida  \n",
      "0                            0  \n",
      "1                            1  \n",
      "2                            0  \n",
      "3                            1  \n",
      "4                            0  \n",
      "...                        ...  \n",
      "107033                       1  \n",
      "107034                       1  \n",
      "107035                       0  \n",
      "107036                       2  \n",
      "107037                       0  \n",
      "\n",
      "[107038 rows x 9 columns]\n"
     ]
    }
   ],
   "source": [
    "# Filtrar solo 'Monedero Farmex Plus' para redistribuir\n",
    "no_identificadas = agrupado[agrupado['Tipo_Plan'] == 'No Identificada']\n",
    "print(\"No identificadas:\")\n",
    "print(no_identificadas.count())\n",
    "# Redistribuir 'Monedero Farmex Plus' según las proporciones\n",
    "redistribuido = no_identificadas.merge(totales_sucursal[['Suc_Id', 'Tipo_Plan', 'Proporcion']], on='Suc_Id')\n",
    "redistribuido['Cantidad_Redistribuida'] = (\n",
    "    redistribuido['Cantidad_Transacciones'] * redistribuido['Proporcion']\n",
    ")\n",
    "\n",
    "# Redondear las cantidades redistribuidas\n",
    "redistribuido['Cantidad_Redistribuida'] = redistribuido['Cantidad_Redistribuida'].round().astype(int)\n",
    "print(\"Redistribuido:\")\n",
    "print(redistribuido)\n"
   ]
  },
  {
   "cell_type": "code",
   "execution_count": 14,
   "metadata": {},
   "outputs": [
    {
     "name": "stdout",
     "output_type": "stream",
     "text": [
      "        Suc_Id Dia_Semana  Hora      Tipo_Plan_x Factura_Fecha  \\\n",
      "0            1   Saturday    10  No Identificada    2024-10-05   \n",
      "1            1   Saturday    10  No Identificada    2024-10-05   \n",
      "2            1   Saturday    10  No Identificada    2024-10-19   \n",
      "3            1   Saturday    10  No Identificada    2024-10-19   \n",
      "4            1   Saturday    10  No Identificada    2024-10-26   \n",
      "...        ...        ...   ...              ...           ...   \n",
      "107033     328  Wednesday    16  No Identificada    2024-10-23   \n",
      "107034     328  Wednesday    17  No Identificada    2024-10-09   \n",
      "107035     328  Wednesday    17  No Identificada    2024-10-09   \n",
      "107036     328  Wednesday    17  No Identificada    2024-10-23   \n",
      "107037     328  Wednesday    17  No Identificada    2024-10-23   \n",
      "\n",
      "        Cantidad_Transacciones   Tipo_Plan_y  Proporcion  \\\n",
      "0                            1  Tercera Edad    0.209302   \n",
      "1                            1  Todo Publico    0.790698   \n",
      "2                            1  Tercera Edad    0.209302   \n",
      "3                            1  Todo Publico    0.790698   \n",
      "4                            1  Tercera Edad    0.209302   \n",
      "...                        ...           ...         ...   \n",
      "107033                       3  Todo Publico    0.250000   \n",
      "107034                       1  Tercera Edad    0.750000   \n",
      "107035                       1  Todo Publico    0.250000   \n",
      "107036                       2  Tercera Edad    0.750000   \n",
      "107037                       2  Todo Publico    0.250000   \n",
      "\n",
      "        Cantidad_Redistribuida  \n",
      "0                            0  \n",
      "1                            1  \n",
      "2                            0  \n",
      "3                            1  \n",
      "4                            0  \n",
      "...                        ...  \n",
      "107033                       1  \n",
      "107034                       1  \n",
      "107035                       0  \n",
      "107036                       2  \n",
      "107037                       0  \n",
      "\n",
      "[107038 rows x 9 columns]\n"
     ]
    }
   ],
   "source": [
    "redistribuido.rename(columns={'Cantidad_Redistribuida': 'Cantidad_Transacciones'})\n",
    "print(redistribuido)"
   ]
  },
  {
   "cell_type": "code",
   "execution_count": 15,
   "metadata": {},
   "outputs": [
    {
     "name": "stdout",
     "output_type": "stream",
     "text": [
      "Actualizado:\n",
      "        Suc_Id Dia_Semana  Hora     Tipo_Plan Factura_Fecha  \\\n",
      "0            1     Friday  11.0  Todo Publico    2024-10-18   \n",
      "1            1     Friday  15.0  Todo Publico    2024-10-18   \n",
      "2            1     Friday  16.0  Tercera Edad    2024-10-04   \n",
      "3            1     Friday  16.0  Todo Publico    2024-10-04   \n",
      "4            1     Friday  17.0  Tercera Edad    2024-10-04   \n",
      "...        ...        ...   ...           ...           ...   \n",
      "107033     328        NaN   NaN  Todo Publico           NaT   \n",
      "107034     328        NaN   NaN  Tercera Edad           NaT   \n",
      "107035     328        NaN   NaN  Todo Publico           NaT   \n",
      "107036     328        NaN   NaN  Tercera Edad           NaT   \n",
      "107037     328        NaN   NaN  Todo Publico           NaT   \n",
      "\n",
      "        Cantidad_Transacciones  \n",
      "0                            2  \n",
      "1                            1  \n",
      "2                            2  \n",
      "3                            2  \n",
      "4                            1  \n",
      "...                        ...  \n",
      "107033                       1  \n",
      "107034                       1  \n",
      "107035                       0  \n",
      "107036                       2  \n",
      "107037                       0  \n",
      "\n",
      "[192136 rows x 6 columns]\n"
     ]
    }
   ],
   "source": [
    "# Actualizar el DataFrame original con las cantidades redistribuidas\n",
    "redistribuido = redistribuido[['Suc_Id', 'Tipo_Plan_y', 'Cantidad_Redistribuida']]\n",
    "redistribuido.rename(columns={'Tipo_Plan_y': 'Tipo_Plan'}, inplace=True)\n",
    "\n",
    "\n",
    "# Concatenar los datos redistribuidos con los originales sin Farmex\n",
    "actualizado = pd.concat([\n",
    "    identificadas,\n",
    "    redistribuido.rename(columns={'Cantidad_Redistribuida': 'Cantidad_Transacciones'})\n",
    "])\n",
    "\n",
    "print(\"Actualizado:\")\n",
    "print(actualizado)"
   ]
  },
  {
   "cell_type": "code",
   "execution_count": 23,
   "metadata": {},
   "outputs": [
    {
     "name": "stdout",
     "output_type": "stream",
     "text": [
      "Tipo_Plan  Suc_Id Dia_Semana  Hora  Tercera Edad  Todo Publico\n",
      "0               1     Friday  11.0           0.0           2.0\n",
      "1               1     Friday  15.0           0.0           1.0\n",
      "2               1     Friday  16.0           2.0           2.0\n",
      "3               1     Friday  17.0           1.0           1.0\n",
      "4               1     Friday  21.0           0.0           1.0\n",
      "...           ...        ...   ...           ...           ...\n",
      "23138         328  Wednesday  14.0           1.0           0.0\n",
      "23139         328  Wednesday  15.0           1.0           1.0\n",
      "23140         328  Wednesday  16.0           1.5           1.5\n",
      "23141         328  Wednesday  17.0           0.0           1.0\n",
      "23142         328  Wednesday  18.0           1.0           0.0\n",
      "\n",
      "[23143 rows x 5 columns]\n"
     ]
    }
   ],
   "source": [
    "# Recalcular el pivot para incluir los nuevos valores\n",
    "pivot_actualizado = actualizado.pivot_table(\n",
    "    index=['Suc_Id', 'Dia_Semana', 'Hora'],\n",
    "    columns='Tipo_Plan',\n",
    "    values='Cantidad_Transacciones',\n",
    "    fill_value=0\n",
    ").reset_index()\n",
    "\n",
    "print(pivot_actualizado)\n",
    "\n"
   ]
  },
  {
   "cell_type": "code",
   "execution_count": 21,
   "metadata": {},
   "outputs": [
    {
     "name": "stdout",
     "output_type": "stream",
     "text": [
      "Tipo_Plan  Suc_Id Dia_Semana  Hora  No Identificada  Tercera Edad  \\\n",
      "0               1     Friday    11                0             0   \n",
      "1               1     Friday    15                0             0   \n",
      "2               1     Friday    16                0             2   \n",
      "3               1     Friday    17                0             1   \n",
      "4               1     Friday    21                0             0   \n",
      "\n",
      "Tipo_Plan  Todo Publico  \n",
      "0                     2  \n",
      "1                     1  \n",
      "2                     2  \n",
      "3                     1  \n",
      "4                     2  \n"
     ]
    }
   ],
   "source": [
    "# Agrupar por sucursal, día de la semana, hora y tipo de transacción\n",
    "agrupado = df.groupby(['Suc_Id', 'Dia_Semana', 'Hora', 'Tipo_Plan']).size().reset_index(name='Cantidad_Transacciones')\n",
    "\n",
    "# Pivotear para obtener una columna por tipo de transacción\n",
    "pivot = agrupado.pivot_table(\n",
    "    index=['Suc_Id', 'Dia_Semana', 'Hora'], \n",
    "    columns='Tipo_Plan', \n",
    "    values='Cantidad_Transacciones', \n",
    "    fill_value=0\n",
    ").reset_index()\n",
    "\n",
    "print(pivot.head())"
   ]
  },
  {
   "cell_type": "code",
   "execution_count": 18,
   "metadata": {},
   "outputs": [
    {
     "name": "stdout",
     "output_type": "stream",
     "text": [
      "23143\n"
     ]
    }
   ],
   "source": [
    "# cantidad de filas\n",
    "print(pivot_actualizado.shape[0])"
   ]
  },
  {
   "cell_type": "code",
   "execution_count": 24,
   "metadata": {},
   "outputs": [
    {
     "name": "stdout",
     "output_type": "stream",
     "text": [
      "Tipo_Plan  Suc_Id  Dia_Semana  Hora  Tercera Edad  Todo Publico  Tiempo_Total  \\\n",
      "0               1           5  11.0           0.0           2.0        10.680   \n",
      "1               1           5  15.0           0.0           1.0         5.340   \n",
      "2               1           5  16.0           2.0           2.0        26.940   \n",
      "3               1           5  17.0           1.0           1.0        13.470   \n",
      "4               1           5  21.0           0.0           1.0         5.340   \n",
      "...           ...         ...   ...           ...           ...           ...   \n",
      "23138         328           3  14.0           1.0           0.0         8.130   \n",
      "23139         328           3  15.0           1.0           1.0        13.470   \n",
      "23140         328           3  16.0           1.5           1.5        20.205   \n",
      "23141         328           3  17.0           0.0           1.0         5.340   \n",
      "23142         328           3  18.0           1.0           0.0         8.130   \n",
      "\n",
      "Tipo_Plan  Personal_Necesario  Transacciones_Totales  \n",
      "0                         1.0                    2.0  \n",
      "1                         1.0                    1.0  \n",
      "2                         1.0                    4.0  \n",
      "3                         1.0                    2.0  \n",
      "4                         1.0                    1.0  \n",
      "...                       ...                    ...  \n",
      "23138                     1.0                    1.0  \n",
      "23139                     1.0                    2.0  \n",
      "23140                     1.0                    3.0  \n",
      "23141                     1.0                    1.0  \n",
      "23142                     1.0                    1.0  \n",
      "\n",
      "[23143 rows x 8 columns]\n"
     ]
    }
   ],
   "source": [
    "import numpy as np\n",
    "tiempos_transaccion = {\n",
    "    'Todo Publico': 5.34,  # Minutos\n",
    "    'Tercera Edad': 8.13\n",
    "}\n",
    "\n",
    "pivot_actualizado['Tiempo_Total'] = (\n",
    "    pivot_actualizado['Todo Publico'] * tiempos_transaccion['Todo Publico'] +\n",
    "    pivot_actualizado['Tercera Edad'] * tiempos_transaccion['Tercera Edad']\n",
    ")\n",
    "\n",
    "pivot_actualizado['Personal_Necesario'] = np.ceil(pivot_actualizado['Tiempo_Total'] / 42)\n",
    "\n",
    "# Columnas a guardar en el csv [Suc_Id, Dia_Semana(en numero de 1 a 7), Hora, Transacciones totales, Personal_Necesario]\n",
    "pivot_actualizado['Dia_Semana'] = pivot_actualizado['Dia_Semana'].map({\n",
    "    'Monday': 1,\n",
    "    'Tuesday': 2,\n",
    "    'Wednesday': 3,\n",
    "    'Thursday': 4,\n",
    "    'Friday': 5,\n",
    "    'Saturday': 6,\n",
    "    'Sunday': 7\n",
    "})\n",
    "pivot_actualizado['Transacciones_Totales'] = pivot_actualizado['Todo Publico'] + pivot_actualizado['Tercera Edad']\n",
    "print(pivot_actualizado)\n"
   ]
  },
  {
   "cell_type": "code",
   "execution_count": 38,
   "metadata": {},
   "outputs": [
    {
     "data": {
      "image/png": "[encoded data removed]",
      "text/plain": [
       "<Figure size 1000x600 with 1 Axes>"
      ]
     },
     "metadata": {},
     "output_type": "display_data"
    }
   ],
   "source": [
    "import matplotlib.pyplot as plt\n",
    "\n",
    "# Asegúrate de que el DataFrame pivot_actualizado esté disponible\n",
    "# pivot_actualizado = ...\n",
    "\n",
    "# Graficar los datos de la columna \"Todo Publico\"\n",
    "plt.figure(figsize=(10, 6))\n",
    "plt.plot(pivot_actualizado['Hora'], pivot_actualizado['Todo Publico'], marker='o', linestyle='-', color='b')\n",
    "plt.title('Transacciones de Todo Publico por Hora')\n",
    "plt.xlabel('Hora')\n",
    "plt.ylabel('Cantidad de Transacciones')\n",
    "plt.grid(True)\n",
    "plt.xticks(range(0, 24))  # Asegurarse de que todas las horas estén en el eje x\n",
    "plt.show()"
   ]
  },
  {
   "cell_type": "markdown",
   "metadata": {},
   "source": [
    "## Tiempos promedios\n",
    "- 8.13 minutos para tercera edad\n",
    "- 11 minutos para KIELSA CLINICA TP"
   ]
  },
  {
   "cell_type": "code",
   "execution_count": null,
   "metadata": {},
   "outputs": [],
   "source": [
    "## "
   ]
  }
 ],
 "metadata": {
  "kernelspec": {
   "display_name": "Python 3",
   "language": "python",
   "name": "python3"
  },
  "language_info": {
   "codemirror_mode": {
    "name": "ipython",
    "version": 3
   },
   "file_extension": ".py",
   "mimetype": "text/x-python",
   "name": "python",
   "nbconvert_exporter": "python",
   "pygments_lexer": "ipython3",
   "version": "3.8.10"
  }
 },
 "nbformat": 4,
 "nbformat_minor": 2
}
