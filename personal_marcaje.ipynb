{
 "cells": [
  {
   "cell_type": "code",
   "execution_count": 3,
   "metadata": {},
   "outputs": [],
   "source": [
    "# opern file E:\\Farinter\\IA\\Documentos\\personal_marcaje.csv\n",
    "import pandas as pd\n",
    "import numpy as np\n",
    "import os\n",
    "path_file = 'E:\\Farinter\\IA\\Documentos\\personal_marcaje.csv'\n",
    "df = pd.read_csv(path_file, sep=';')"
   ]
  },
  {
   "cell_type": "code",
   "execution_count": 6,
   "metadata": {},
   "outputs": [
    {
     "data": {
      "text/html": [
       "<div>\n",
       "<style scoped>\n",
       "    .dataframe tbody tr th:only-of-type {\n",
       "        vertical-align: middle;\n",
       "    }\n",
       "\n",
       "    .dataframe tbody tr th {\n",
       "        vertical-align: top;\n",
       "    }\n",
       "\n",
       "    .dataframe thead th {\n",
       "        text-align: right;\n",
       "    }\n",
       "</style>\n",
       "<table border=\"1\" class=\"dataframe\">\n",
       "  <thead>\n",
       "    <tr style=\"text-align: right;\">\n",
       "      <th></th>\n",
       "      <th>Suc_Id</th>\n",
       "      <th>Sucursal_Nombre</th>\n",
       "      <th>Sucursal_Numero</th>\n",
       "      <th>fecha</th>\n",
       "      <th>Hora_inicio</th>\n",
       "      <th>Hora_final</th>\n",
       "      <th>hora</th>\n",
       "      <th>cantidad_empleados</th>\n",
       "    </tr>\n",
       "  </thead>\n",
       "  <tbody>\n",
       "    <tr>\n",
       "      <th>0</th>\n",
       "      <td>1</td>\n",
       "      <td>K001 KIELSA YORO MONTECRISTO</td>\n",
       "      <td>1</td>\n",
       "      <td>1/11/2024</td>\n",
       "      <td>7</td>\n",
       "      <td>22</td>\n",
       "      <td>7</td>\n",
       "      <td>2</td>\n",
       "    </tr>\n",
       "    <tr>\n",
       "      <th>1</th>\n",
       "      <td>1</td>\n",
       "      <td>K001 KIELSA YORO MONTECRISTO</td>\n",
       "      <td>1</td>\n",
       "      <td>1/11/2024</td>\n",
       "      <td>7</td>\n",
       "      <td>22</td>\n",
       "      <td>8</td>\n",
       "      <td>2</td>\n",
       "    </tr>\n",
       "    <tr>\n",
       "      <th>2</th>\n",
       "      <td>1</td>\n",
       "      <td>K001 KIELSA YORO MONTECRISTO</td>\n",
       "      <td>1</td>\n",
       "      <td>1/11/2024</td>\n",
       "      <td>7</td>\n",
       "      <td>22</td>\n",
       "      <td>9</td>\n",
       "      <td>2</td>\n",
       "    </tr>\n",
       "    <tr>\n",
       "      <th>3</th>\n",
       "      <td>1</td>\n",
       "      <td>K001 KIELSA YORO MONTECRISTO</td>\n",
       "      <td>1</td>\n",
       "      <td>1/11/2024</td>\n",
       "      <td>7</td>\n",
       "      <td>22</td>\n",
       "      <td>10</td>\n",
       "      <td>2</td>\n",
       "    </tr>\n",
       "    <tr>\n",
       "      <th>4</th>\n",
       "      <td>1</td>\n",
       "      <td>K001 KIELSA YORO MONTECRISTO</td>\n",
       "      <td>1</td>\n",
       "      <td>1/11/2024</td>\n",
       "      <td>7</td>\n",
       "      <td>22</td>\n",
       "      <td>11</td>\n",
       "      <td>2</td>\n",
       "    </tr>\n",
       "  </tbody>\n",
       "</table>\n",
       "</div>"
      ],
      "text/plain": [
       "   Suc_Id               Sucursal_Nombre  Sucursal_Numero      fecha  \\\n",
       "0       1  K001 KIELSA YORO MONTECRISTO                1  1/11/2024   \n",
       "1       1  K001 KIELSA YORO MONTECRISTO                1  1/11/2024   \n",
       "2       1  K001 KIELSA YORO MONTECRISTO                1  1/11/2024   \n",
       "3       1  K001 KIELSA YORO MONTECRISTO                1  1/11/2024   \n",
       "4       1  K001 KIELSA YORO MONTECRISTO                1  1/11/2024   \n",
       "\n",
       "   Hora_inicio  Hora_final  hora  cantidad_empleados  \n",
       "0            7          22     7                   2  \n",
       "1            7          22     8                   2  \n",
       "2            7          22     9                   2  \n",
       "3            7          22    10                   2  \n",
       "4            7          22    11                   2  "
      ]
     },
     "execution_count": 6,
     "metadata": {},
     "output_type": "execute_result"
    }
   ],
   "source": [
    "df.head()"
   ]
  },
  {
   "cell_type": "code",
   "execution_count": 7,
   "metadata": {},
   "outputs": [
    {
     "name": "stdout",
     "output_type": "stream",
     "text": [
      "hora\n",
      "7     5\n",
      "8     5\n",
      "9     5\n",
      "10    5\n",
      "11    5\n",
      "12    5\n",
      "13    5\n",
      "14    5\n",
      "15    2\n",
      "16    2\n",
      "17    2\n",
      "18    2\n",
      "19    2\n",
      "20    2\n",
      "21    2\n",
      "22    0\n",
      "Name: cantidad_empleados, dtype: int64\n"
     ]
    }
   ],
   "source": [
    "# Filter the dataframe for Sucursal 1\n",
    "df_sucursal_1 = df[df['Suc_Id'] == 1]\n",
    "\n",
    "# Group by 'hora' and find the maximum 'cantidad_empleados' for each hour\n",
    "max_employees_per_hour = df_sucursal_1.groupby('hora')['cantidad_empleados'].max()\n",
    "\n",
    "print(max_employees_per_hour)"
   ]
  },
  {
   "cell_type": "code",
   "execution_count": 8,
   "metadata": {},
   "outputs": [
    {
     "name": "stdout",
     "output_type": "stream",
     "text": [
      "     Suc_Id               Sucursal_Nombre  Sucursal_Numero       fecha  \\\n",
      "672       1  K001 KIELSA YORO MONTECRISTO                1  13/12/2024   \n",
      "832       1  K001 KIELSA YORO MONTECRISTO                1  23/12/2024   \n",
      "\n",
      "     Hora_inicio  Hora_final  hora  cantidad_empleados  \n",
      "672            7          22     7                   5  \n",
      "832            7          22     7                   5  \n"
     ]
    }
   ],
   "source": [
    "print(df[(df['Suc_Id'] == 1) & (df['hora'] == 7) & (df['cantidad_empleados'] == 5)])\n",
    " "
   ]
  }
 ],
 "metadata": {
  "kernelspec": {
   "display_name": "Python 3",
   "language": "python",
   "name": "python3"
  },
  "language_info": {
   "codemirror_mode": {
    "name": "ipython",
    "version": 3
   },
   "file_extension": ".py",
   "mimetype": "text/x-python",
   "name": "python",
   "nbconvert_exporter": "python",
   "pygments_lexer": "ipython3",
   "version": "3.8.10"
  }
 },
 "nbformat": 4,
 "nbformat_minor": 2
}
