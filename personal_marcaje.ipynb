{
 "cells": [
  {
   "cell_type": "code",
   "execution_count": 1,
   "metadata": {},
   "outputs": [],
   "source": [
    "# opern file E:\\Farinter\\IA\\Documentos\\personal_marcaje.csv\n",
    "import pandas as pd\n",
    "import numpy as np\n",
    "import os\n",
    "path_file = '/Users/gabrielchavez/Documents/Farinter/ia/Documentos/DL_Kielsa_empleadosxhora1.csv'\n",
    "df = pd.read_csv(path_file, sep=',')"
   ]
  },
  {
   "cell_type": "code",
   "execution_count": 2,
   "metadata": {},
   "outputs": [
    {
     "data": {
      "text/html": [
       "<div>\n",
       "<style scoped>\n",
       "    .dataframe tbody tr th:only-of-type {\n",
       "        vertical-align: middle;\n",
       "    }\n",
       "\n",
       "    .dataframe tbody tr th {\n",
       "        vertical-align: top;\n",
       "    }\n",
       "\n",
       "    .dataframe thead th {\n",
       "        text-align: right;\n",
       "    }\n",
       "</style>\n",
       "<table border=\"1\" class=\"dataframe\">\n",
       "  <thead>\n",
       "    <tr style=\"text-align: right;\">\n",
       "      <th></th>\n",
       "      <th>Unnamed: 0</th>\n",
       "      <th>Suc_Id</th>\n",
       "      <th>Sucursal_Numero</th>\n",
       "      <th>Sucursal_Nombre</th>\n",
       "      <th>fecha</th>\n",
       "      <th>dia</th>\n",
       "      <th>Hora_apertura</th>\n",
       "      <th>Hora_cierre</th>\n",
       "      <th>hora_inicio</th>\n",
       "      <th>hora_final</th>\n",
       "      <th>cantidad_empleados</th>\n",
       "    </tr>\n",
       "  </thead>\n",
       "  <tbody>\n",
       "    <tr>\n",
       "      <th>0</th>\n",
       "      <td>1</td>\n",
       "      <td>1</td>\n",
       "      <td>1</td>\n",
       "      <td>K001 KIELSA YORO MONTECRISTO</td>\n",
       "      <td>2024-11-01</td>\n",
       "      <td>viernes</td>\n",
       "      <td>7.0</td>\n",
       "      <td>22.0</td>\n",
       "      <td>7</td>\n",
       "      <td>8</td>\n",
       "      <td>1</td>\n",
       "    </tr>\n",
       "    <tr>\n",
       "      <th>1</th>\n",
       "      <td>2</td>\n",
       "      <td>1</td>\n",
       "      <td>1</td>\n",
       "      <td>K001 KIELSA YORO MONTECRISTO</td>\n",
       "      <td>2024-11-01</td>\n",
       "      <td>viernes</td>\n",
       "      <td>7.0</td>\n",
       "      <td>22.0</td>\n",
       "      <td>8</td>\n",
       "      <td>9</td>\n",
       "      <td>1</td>\n",
       "    </tr>\n",
       "    <tr>\n",
       "      <th>2</th>\n",
       "      <td>3</td>\n",
       "      <td>1</td>\n",
       "      <td>1</td>\n",
       "      <td>K001 KIELSA YORO MONTECRISTO</td>\n",
       "      <td>2024-11-01</td>\n",
       "      <td>viernes</td>\n",
       "      <td>7.0</td>\n",
       "      <td>22.0</td>\n",
       "      <td>9</td>\n",
       "      <td>10</td>\n",
       "      <td>1</td>\n",
       "    </tr>\n",
       "    <tr>\n",
       "      <th>3</th>\n",
       "      <td>4</td>\n",
       "      <td>1</td>\n",
       "      <td>1</td>\n",
       "      <td>K001 KIELSA YORO MONTECRISTO</td>\n",
       "      <td>2024-11-01</td>\n",
       "      <td>viernes</td>\n",
       "      <td>7.0</td>\n",
       "      <td>22.0</td>\n",
       "      <td>10</td>\n",
       "      <td>11</td>\n",
       "      <td>1</td>\n",
       "    </tr>\n",
       "    <tr>\n",
       "      <th>4</th>\n",
       "      <td>5</td>\n",
       "      <td>1</td>\n",
       "      <td>1</td>\n",
       "      <td>K001 KIELSA YORO MONTECRISTO</td>\n",
       "      <td>2024-11-01</td>\n",
       "      <td>viernes</td>\n",
       "      <td>7.0</td>\n",
       "      <td>22.0</td>\n",
       "      <td>11</td>\n",
       "      <td>12</td>\n",
       "      <td>1</td>\n",
       "    </tr>\n",
       "  </tbody>\n",
       "</table>\n",
       "</div>"
      ],
      "text/plain": [
       "   Unnamed: 0  Suc_Id  Sucursal_Numero               Sucursal_Nombre  \\\n",
       "0           1       1                1  K001 KIELSA YORO MONTECRISTO   \n",
       "1           2       1                1  K001 KIELSA YORO MONTECRISTO   \n",
       "2           3       1                1  K001 KIELSA YORO MONTECRISTO   \n",
       "3           4       1                1  K001 KIELSA YORO MONTECRISTO   \n",
       "4           5       1                1  K001 KIELSA YORO MONTECRISTO   \n",
       "\n",
       "        fecha      dia  Hora_apertura  Hora_cierre  hora_inicio  hora_final  \\\n",
       "0  2024-11-01  viernes            7.0         22.0            7           8   \n",
       "1  2024-11-01  viernes            7.0         22.0            8           9   \n",
       "2  2024-11-01  viernes            7.0         22.0            9          10   \n",
       "3  2024-11-01  viernes            7.0         22.0           10          11   \n",
       "4  2024-11-01  viernes            7.0         22.0           11          12   \n",
       "\n",
       "   cantidad_empleados  \n",
       "0                   1  \n",
       "1                   1  \n",
       "2                   1  \n",
       "3                   1  \n",
       "4                   1  "
      ]
     },
     "execution_count": 2,
     "metadata": {},
     "output_type": "execute_result"
    }
   ],
   "source": [
    "df.head()"
   ]
  },
  {
   "cell_type": "code",
   "execution_count": 4,
   "metadata": {},
   "outputs": [
    {
     "name": "stdout",
     "output_type": "stream",
     "text": [
      "     Unnamed: 0  Suc_Id               Sucursal_Nombre  Sucursal_Numero  \\\n",
      "679         680       1  K001 KIELSA YORO MONTECRISTO                1   \n",
      "839         840       1  K001 KIELSA YORO MONTECRISTO                1   \n",
      "\n",
      "          fecha  Hora_inicio  Hora_final  hora  cantidad_empleados  \n",
      "679  2024-12-13            7          22    14                   5  \n",
      "839  2024-12-23            7          22    14                   5  \n"
     ]
    }
   ],
   "source": [
    "\n",
    " "
   ]
  },
  {
   "cell_type": "code",
   "execution_count": 7,
   "metadata": {},
   "outputs": [],
   "source": [
    "from urllib.parse import quote_plus\n",
    "connection_string = (\n",
    "    'mssql+pyodbc://'\n",
    "    'Angel_chavez:{}@172.16.2.227\\\\DWHFARINTERDEV/IA_FARINTER?'\n",
    "    'driver=ODBC+Driver+17+for+SQL+Server'.format(quote_plus('@ng3l_ch@v3z'))\n",
    ")"
   ]
  },
  {
   "cell_type": "code",
   "execution_count": 8,
   "metadata": {},
   "outputs": [
    {
     "data": {
      "text/plain": [
       "457"
      ]
     },
     "execution_count": 8,
     "metadata": {},
     "output_type": "execute_result"
    }
   ],
   "source": [
    "# Insertar en la tabla IA_Personal_Sucursal las columnas [Suc_Id]             INT  NULL, [fecha]              DATE NULL, [hora]               INT  NULL, [cantidad_empleados] INT  NULL\n",
    "# eliminar columnas que no estan en la tabla IA_Personal_Sucursal y renombrar las columnas para que coincidan con la tabla\n",
    "df['hora']= df['hora_inicio']\n",
    "df = df[['Suc_Id', 'fecha', 'hora', 'cantidad_empleados']]\n",
    "df.to_sql('IA_Personal_Sucursal', connection_string, if_exists='append', index=False)"
   ]
  },
  {
   "cell_type": "code",
   "execution_count": null,
   "metadata": {},
   "outputs": [],
   "source": [
    "# insertar en esta tabla "
   ]
  }
 ],
 "metadata": {
  "kernelspec": {
   "display_name": "Python 3",
   "language": "python",
   "name": "python3"
  },
  "language_info": {
   "codemirror_mode": {
    "name": "ipython",
    "version": 3
   },
   "file_extension": ".py",
   "mimetype": "text/x-python",
   "name": "python",
   "nbconvert_exporter": "python",
   "pygments_lexer": "ipython3",
   "version": "3.10.0"
  }
 },
 "nbformat": 4,
 "nbformat_minor": 2
}
