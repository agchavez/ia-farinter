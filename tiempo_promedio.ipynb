{
 "cells": [
  {
   "cell_type": "markdown",
   "metadata": {},
   "source": [
    "# Calculo de tiempo promedio por factura mes octubre"
   ]
  },
  {
   "cell_type": "code",
   "execution_count": 60,
   "metadata": {},
   "outputs": [],
   "source": [
    "import pandas as pd\n",
    "import numpy as np\n",
    "import matplotlib.pyplot as plt"
   ]
  },
  {
   "cell_type": "code",
   "execution_count": 61,
   "metadata": {},
   "outputs": [],
   "source": [
    "df = pd.read_csv('facturas.csv')"
   ]
  },
  {
   "cell_type": "markdown",
   "metadata": {},
   "source": [
    "### Columnas"
   ]
  },
  {
   "cell_type": "code",
   "execution_count": 29,
   "metadata": {},
   "outputs": [
    {
     "name": "stdout",
     "output_type": "stream",
     "text": [
      "Index(['Factura_Fecha', 'Emp_Id', 'Suc_Id', 'Bodega_Id', 'Caja_Id',\n",
      "       'TipoDoc_Id', 'Factura_Id', 'SubDoc_Id', 'Consecutivo_Factura',\n",
      "       'Factura_FechaHora', 'MonederoTarj_Id', 'Monedero_Id', 'Cliente_Id',\n",
      "       'Vendedor_Id', 'Preventa_Id', 'PreFactura_id',\n",
      "       'Factura_Clave_Tributaria', 'Factura_Estado', 'Factura_Origen',\n",
      "       'AnioMes_Id', 'Valor_Costo', 'Valor_Costo_Bonificacion',\n",
      "       'Valor_Subtotal', 'Valor_Descuento', 'Valor_Impuesto', 'Valor_Total',\n",
      "       'HashStr_SucEmp', 'HashStr_SubDDocEmp', 'HashStr_CliEmp',\n",
      "       'HashStr_MonEmp', 'EmpMon_Id', 'HashStr_EmplEmp', 'HashStr_SucBodEmp',\n",
      "       'Same_Id', 'Fecha_Actualizado', 'EmpSucDocCajFac_Id'],\n",
      "      dtype='object')\n"
     ]
    }
   ],
   "source": [
    "# columnas\n",
    "print(df.columns)"
   ]
  },
  {
   "cell_type": "markdown",
   "metadata": {},
   "source": [
    "### Promedio de tiempo inverido en las facturas\n",
    "Puntos a considerar:\n",
    "- Solo tomar la Caja_Id igual a 1\n",
    "- Dividir por numero de sucursal de esta forma nos data un tiempo promedio por sucursal por cada factura\n",
    "- Se tomara como muestra la hora pico es decir la hora donde hay mas facturas\n",
    "- Columna Factura_FechaHora\n",
    "- Columna Factura_Fecha"
   ]
  },
  {
   "cell_type": "code",
   "execution_count": 62,
   "metadata": {},
   "outputs": [
    {
     "name": "stdout",
     "output_type": "stream",
     "text": [
      "1488891\n",
      "862392\n"
     ]
    }
   ],
   "source": [
    "# cantidad de filas\n",
    "print(len(df))\n",
    "\n",
    "# Tomar solo Emp_Id = 1\n",
    "df = df[df['Emp_Id'] == 1]\n",
    "\n",
    "# cantidad de filas\n",
    "print(len(df))"
   ]
  },
  {
   "cell_type": "markdown",
   "metadata": {},
   "source": [
    "Agrupar por:\n",
    "- Sucursal_Id\n",
    "- Caja_Id\n",
    "- Fecha\n",
    "- Hora\n",
    "- Cantidad de facturas que se realizaron en esa hora"
   ]
  },
  {
   "cell_type": "code",
   "execution_count": 72,
   "metadata": {},
   "outputs": [],
   "source": [
    "# agrupar por sucursal, Caja, Factura_Fecha y Factura_FechaHora\n",
    "# Asegurarse de que la columna 'Factura_FechaHora' sea de tipo datetime\n",
    "df['Factura_FechaHora'] = pd.to_datetime(df['Factura_FechaHora'], errors='coerce')\n",
    "df_grouped = df.groupby(\n",
    "    [df['Suc_Id'], df['Caja_Id'], df['Factura_Fecha'], df['Factura_FechaHora'].dt.hour]\n",
    ")['Factura_Id'].count().reset_index(name='Cantidad_Facturas')"
   ]
  },
  {
   "cell_type": "code",
   "execution_count": 73,
   "metadata": {},
   "outputs": [
    {
     "name": "stdout",
     "output_type": "stream",
     "text": [
      "        Suc_Id  Caja_Id Factura_Fecha  Factura_FechaHora  Cantidad_Facturas\n",
      "0            1        1     1/10/2024                 13                  1\n",
      "1            1        1     1/10/2024                 14                  1\n",
      "2            1        1     1/10/2024                 15                  2\n",
      "3            1        1     1/10/2024                 19                  1\n",
      "4            1        1    10/10/2024                 11                  2\n",
      "...        ...      ...           ...                ...                ...\n",
      "185300     328        4     9/10/2024                 15                  1\n",
      "185301     328        4     9/10/2024                 16                  1\n",
      "185302     328        4     9/10/2024                 17                  4\n",
      "185303     328        4     9/10/2024                 18                  2\n",
      "185304     328        4     9/10/2024                 19                  3\n",
      "\n",
      "[185305 rows x 5 columns]\n"
     ]
    }
   ],
   "source": [
    "print(df_grouped)"
   ]
  },
  {
   "cell_type": "code",
   "execution_count": 74,
   "metadata": {},
   "outputs": [
    {
     "name": "stdout",
     "output_type": "stream",
     "text": [
      "155184\n",
      "30121\n",
      "48\n",
      "       Suc_Id  Caja_Id Factura_Fecha  Factura_FechaHora  Cantidad_Facturas\n",
      "95255     142        2    28/10/2024                  9                 48\n",
      "0\n"
     ]
    }
   ],
   "source": [
    "# cantidad de filas donde la cantidad de facturas es mayor a 1\n",
    "print(df_grouped[df_grouped['Cantidad_Facturas'] > 1].shape[0])\n",
    "print(df_grouped[df_grouped['Cantidad_Facturas']== 1].shape[0])\n",
    "\n",
    "# el valor mas alto de cantidad de facturas y que hora fue\n",
    "print(df_grouped['Cantidad_Facturas'].max())\n",
    "\n",
    "# imprimir fila con la cantidad de facturas mas alta\n",
    "print(df_grouped[df_grouped['Cantidad_Facturas'] == df_grouped['Cantidad_Facturas'].max()])\n",
    "\n",
    "# filas con cantidad de facturas mayor a 25\n",
    "print(df_grouped[df_grouped['Cantidad_Facturas'] > 100].shape[0])\n",
    "\n",
    "# Cual es la sucursal que hace 1 o menso facturas en una hora\n",
    "\n",
    "\n"
   ]
  },
  {
   "cell_type": "markdown",
   "metadata": {},
   "source": [
    "### Eliminar valores de cantidad de facturas que esten por debajo del 5% de la cantidad de facturas de la hora pico"
   ]
  },
  {
   "cell_type": "code",
   "execution_count": 75,
   "metadata": {},
   "outputs": [
    {
     "name": "stdout",
     "output_type": "stream",
     "text": [
      "13.917546338625218\n"
     ]
    }
   ],
   "source": [
    "# Eliminar valores de cantidad de facturas que esten por debajo del 5% de la cantidad de facturas de la hora pico\n",
    "df_grouped = df_grouped[df_grouped['Cantidad_Facturas'] > 10]\n",
    "\n",
    "print(df_grouped['Cantidad_Facturas'].mean())"
   ]
  },
  {
   "cell_type": "code",
   "execution_count": 76,
   "metadata": {},
   "outputs": [],
   "source": [
    "# sumar la cantidad de facturas por hora  y sacar la mediana, solo tomar esos dos valores y 2 decimales\n",
    "df_grouped = df_grouped.groupby(\n",
    "    [df_grouped['Factura_FechaHora']]\n",
    ")['Cantidad_Facturas'].agg(['sum', 'median']).reset_index()"
   ]
  },
  {
   "cell_type": "code",
   "execution_count": 77,
   "metadata": {},
   "outputs": [
    {
     "data": {
      "image/png": "[encoded data removed]",
      "text/plain": [
       "<Figure size 640x480 with 1 Axes>"
      ]
     },
     "metadata": {},
     "output_type": "display_data"
    }
   ],
   "source": [
    "# graficar valor mean en función de la hora grafico de barras\n",
    "fig, ax = plt.subplots()\n",
    "ax.bar(df_grouped['Factura_FechaHora'], df_grouped['median'])\n",
    "ax.set_xlabel('Hora')\n",
    "ax.set_ylabel('Facturas')\n",
    "ax.set_title('Mediana de facturas')\n",
    "\n",
    "plt.show()\n"
   ]
  },
  {
   "cell_type": "code",
   "execution_count": 78,
   "metadata": {},
   "outputs": [
    {
     "data": {
      "image/png": "[encoded data removed]",
      "text/plain": [
       "<Figure size 640x480 with 1 Axes>"
      ]
     },
     "metadata": {},
     "output_type": "display_data"
    },
    {
     "name": "stdout",
     "output_type": "stream",
     "text": [
      "    Factura_FechaHora    sum  median\n",
      "4                   7   1265    13.0\n",
      "5                   8   3768    12.0\n",
      "6                   9   9811    13.0\n",
      "7                  10  13361    13.0\n",
      "8                  11  13920    13.0\n",
      "9                  12  18754    13.0\n",
      "10                 13  13775    13.0\n",
      "11                 14  10871    13.0\n",
      "12                 15  12154    13.0\n",
      "13                 16  14947    12.0\n",
      "14                 17  18549    13.0\n",
      "15                 18  17704    13.0\n",
      "16                 19   9846    12.0\n",
      "17                 20   4033    12.0\n",
      "18                 21   2346    12.0\n",
      "19                 22   1311    12.0\n"
     ]
    }
   ],
   "source": [
    "# Solo quedarse con Factura_FechaHora entre las 9 y las 8\n",
    "df_grouped = df_grouped[(df_grouped['Factura_FechaHora'] >= 7) & (df_grouped['Factura_FechaHora'] <= 22)]\n",
    "# graficar valor mean en función de la hora grafico de barras\n",
    "fig, ax = plt.subplots()\n",
    "ax.bar(df_grouped['Factura_FechaHora'], df_grouped['median'])\n",
    "ax.set_xlabel('Hora')\n",
    "ax.set_ylabel('Promedio de facturas')\n",
    "ax.set_title('Promedio de facturas por hora')\n",
    "\n",
    "plt.show()\n",
    "print(df_grouped)"
   ]
  },
  {
   "cell_type": "markdown",
   "metadata": {},
   "source": [
    "## Promedio de facturas en hora pico"
   ]
  },
  {
   "cell_type": "code",
   "execution_count": 79,
   "metadata": {},
   "outputs": [
    {
     "name": "stdout",
     "output_type": "stream",
     "text": [
      "12.62\n"
     ]
    }
   ],
   "source": [
    "# promedio de mean redondeado a 2 decimales\n",
    "print(df_grouped['median'].mean().round(2))"
   ]
  },
  {
   "cell_type": "markdown",
   "metadata": {},
   "source": [
    "## Tiempo de atencion promedio de facturación mes de Octubre"
   ]
  },
  {
   "cell_type": "code",
   "execution_count": 80,
   "metadata": {},
   "outputs": [
    {
     "name": "stdout",
     "output_type": "stream",
     "text": [
      "4.75\n"
     ]
    }
   ],
   "source": [
    "# redondear a 2 decimales el promedio de mean y dividir 60 entre ese valor\n",
    "mean_mean = df_grouped['median'].mean().round(2)\n",
    "print((60 / mean_mean).round(2))    "
   ]
  },
  {
   "cell_type": "code",
   "execution_count": null,
   "metadata": {},
   "outputs": [],
   "source": []
  }
 ],
 "metadata": {
  "kernelspec": {
   "display_name": "Python 3",
   "language": "python",
   "name": "python3"
  },
  "language_info": {
   "codemirror_mode": {
    "name": "ipython",
    "version": 3
   },
   "file_extension": ".py",
   "mimetype": "text/x-python",
   "name": "python",
   "nbconvert_exporter": "python",
   "pygments_lexer": "ipython3",
   "version": "3.9.0"
  }
 },
 "nbformat": 4,
 "nbformat_minor": 2
}
