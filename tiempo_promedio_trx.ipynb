{
 "cells": [
  {
   "cell_type": "code",
   "execution_count": null,
   "metadata": {},
   "outputs": [],
   "source": []
  },
  {
   "cell_type": "code",
   "execution_count": 5,
   "metadata": {},
   "outputs": [
    {
     "name": "stdout",
     "output_type": "stream",
     "text": [
      "Index(['Fecha', 'Sucursal', 'Tipo Cliente', 'Referencia', 'Hora de Llegada ',\n",
      "       'Hora de Salida', 'Total tiempo de Servicio', 'Comentarios'],\n",
      "      dtype='object')\n"
     ]
    }
   ],
   "source": [
    "import pandas as pd\n",
    "\n",
    "# Cargar el archivo Excel\n",
    "file_path = \"TXR POR TIPO DE CLIENTE PARA TIEMPOS DE SERVICIO.xlsx\"  # Cambia esto a la ruta de tu archivo Excel\n",
    "df = pd.read_excel(file_path)\n",
    "\n",
    "print(df.columns)\n"
   ]
  },
  {
   "cell_type": "code",
   "execution_count": 12,
   "metadata": {},
   "outputs": [
    {
     "name": "stdout",
     "output_type": "stream",
     "text": [
      "                Fecha                   Sucursal  Tipo Cliente  \\\n",
      "0 2024-10-22 23:38:01  K003 KIELSA SPS LOS ANDES  Aseguradoras   \n",
      "1 2024-10-23 20:55:35  K003 KIELSA SPS LOS ANDES  Aseguradoras   \n",
      "2 2024-10-24 11:39:12  K003 KIELSA SPS LOS ANDES  Aseguradoras   \n",
      "3 2024-10-25 07:30:53  K003 KIELSA SPS LOS ANDES  Aseguradoras   \n",
      "4 2024-10-25 17:15:43  K003 KIELSA SPS LOS ANDES  Aseguradoras   \n",
      "\n",
      "            Referencia Hora de Llegada  Hora de Salida  \\\n",
      "0  008-008-01-00109798         00:00:00     1900-01-01   \n",
      "1  008-009-01-00051788         00:00:00     1900-01-01   \n",
      "2  008-008-01-00109884         00:00:00     1900-01-01   \n",
      "3  008-008-01-00109928         00:00:00     1900-01-01   \n",
      "4  008-003-01-00152019         00:00:00     1900-01-01   \n",
      "\n",
      "  Total tiempo de Servicio                        Comentarios Hora de Llegada  \n",
      "0                 00:00:00  YA NO HAY GRABACIONES DE LA FECHA      1900-01-01  \n",
      "1                 00:00:00  YA NO HAY GRABACIONES DE LA FECHA      1900-01-01  \n",
      "2                 00:00:00  YA NO HAY GRABACIONES DE LA FECHA      1900-01-01  \n",
      "3                 00:00:00  YA NO HAY GRABACIONES DE LA FECHA      1900-01-01  \n",
      "4                 00:00:00  YA NO HAY GRABACIONES DE LA FECHA      1900-01-01  \n"
     ]
    }
   ],
   "source": [
    "# Omitir los 00:00:00 en Horas de llegada y salida\n",
    "df = df[df['Hora de Llegada '] != '00:00:00']\n",
    "df = df[df['Hora de Salida'] != '00:00:00']\n",
    "\n",
    "# Asegurar que las columnas están en el formato correcto\n",
    "df['Hora de Llegada'] = pd.to_datetime(df['Hora de Llegada '], format='%H:%M:%S')\n",
    "df['Hora de Salida'] = pd.to_datetime(df['Hora de Salida'], format='%H:%M:%S')\n",
    "\n",
    "print(df.head())\n"
   ]
  },
  {
   "cell_type": "code",
   "execution_count": 14,
   "metadata": {},
   "outputs": [],
   "source": [
    "# Calcular el tiempo total de servicio (en minutos)\n",
    "df['Total tiempo de Servicio'] = (df['Hora de Salida'] - df['Hora de Llegada']).dt.total_seconds() / 60\n"
   ]
  },
  {
   "cell_type": "code",
   "execution_count": 19,
   "metadata": {},
   "outputs": [
    {
     "name": "stdout",
     "output_type": "stream",
     "text": [
      "Tiempo promedio para TP: 11.09 minutos\n",
      "Tiempo promedio para TE: 10.75 minutos\n",
      "Tiempo promedio para Tercera Edad: 8.13 minutos\n"
     ]
    }
   ],
   "source": [
    "# Separar los datos por tipo de cliente (TP y TE)\n",
    "tp_data = df[df['Tipo Cliente'].str.contains('TP', na=False)]\n",
    "te_data = df[df['Tipo Cliente'].str.contains('TE', na=False)]\n",
    "tercera_edad_data = df[df['Tipo Cliente'].str.contains('Tercera Edad', na=False)]\n",
    "\n",
    "# Calcular el promedio de tiempo para TP y TE\n",
    "tp_avg_time = tp_data['Total tiempo de Servicio'].mean()\n",
    "te_avg_time = te_data['Total tiempo de Servicio'].mean()\n",
    "tercera_edad_avg_time = tercera_edad_data['Total tiempo de Servicio'].mean()\n",
    "\n",
    "# Imprimir resultados\n",
    "print(f\"Tiempo promedio para TP: {tp_avg_time:.2f} minutos\")\n",
    "print(f\"Tiempo promedio para TE: {te_avg_time:.2f} minutos\")\n",
    "print(f\"Tiempo promedio para Tercera Edad: {tercera_edad_avg_time:.2f} minutos\")"
   ]
  }
 ],
 "metadata": {
  "kernelspec": {
   "display_name": "Python 3",
   "language": "python",
   "name": "python3"
  },
  "language_info": {
   "codemirror_mode": {
    "name": "ipython",
    "version": 3
   },
   "file_extension": ".py",
   "mimetype": "text/x-python",
   "name": "python",
   "nbconvert_exporter": "python",
   "pygments_lexer": "ipython3",
   "version": "3.8.10"
  }
 },
 "nbformat": 4,
 "nbformat_minor": 2
}
